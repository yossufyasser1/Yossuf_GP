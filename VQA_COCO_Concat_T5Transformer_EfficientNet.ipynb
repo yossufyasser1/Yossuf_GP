{
  "cells": [
    {
      "cell_type": "code",
      "execution_count": 2,
      "metadata": {
        "colab": {
          "base_uri": "https://localhost:8080/"
        },
        "id": "mfPAg-jda-Wf",
        "outputId": "8d6d10db-65cc-4844-dc7a-4bffdf9ce1e9"
      },
      "outputs": [
        {
          "name": "stdout",
          "output_type": "stream",
          "text": [
            "Note: you may need to restart the kernel to use updated packages.\n",
            "Note: you may need to restart the kernel to use updated packages.\n",
            "Note: you may need to restart the kernel to use updated packages.\n",
            "^C\n",
            "Note: you may need to restart the kernel to use updated packages.\n",
            "Collecting google-colab\n",
            "  Using cached google_colab-1.0.0-py2.py3-none-any.whl\n",
            "Collecting ipykernel~=4.6.0\n",
            "  Using cached ipykernel-4.6.1-py3-none-any.whl (104 kB)\n",
            "Collecting six~=1.12.0\n",
            "  Using cached six-1.12.0-py2.py3-none-any.whl (10 kB)\n",
            "Collecting ipython~=5.5.0\n",
            "  Using cached ipython-5.5.0-py3-none-any.whl (758 kB)\n",
            "Collecting pandas~=0.24.0\n",
            "  Using cached pandas-0.24.2.tar.gz (11.8 MB)\n",
            "  Preparing metadata (setup.py): started\n",
            "  Preparing metadata (setup.py): still running...\n",
            "  Preparing metadata (setup.py): finished with status 'done'\n",
            "Collecting notebook~=5.2.0\n",
            "  Using cached notebook-5.2.2-py2.py3-none-any.whl (8.0 MB)\n",
            "Collecting google-auth~=1.4.0\n",
            "  Using cached google_auth-1.4.2-py2.py3-none-any.whl (64 kB)\n",
            "Collecting requests~=2.21.0\n",
            "  Using cached requests-2.21.0-py2.py3-none-any.whl (57 kB)\n",
            "Collecting tornado~=4.5.0\n",
            "  Using cached tornado-4.5.3-cp39-cp39-win_amd64.whl\n",
            "Collecting portpicker~=1.2.0\n",
            "  Using cached portpicker-1.2.0-py3-none-any.whl\n",
            "Collecting cachetools>=2.0.0\n",
            "  Using cached cachetools-5.3.0-py3-none-any.whl (9.3 kB)\n",
            "Collecting rsa>=3.1.4\n",
            "  Using cached rsa-4.9-py3-none-any.whl (34 kB)\n",
            "Requirement already satisfied: pyasn1-modules>=0.2.1 in c:\\users\\yousuf yasser rabie\\anaconda3\\lib\\site-packages (from google-auth~=1.4.0->google-colab) (0.2.8)\n",
            "Requirement already satisfied: jupyter-client in c:\\users\\yousuf yasser rabie\\appdata\\roaming\\python\\python39\\site-packages (from ipykernel~=4.6.0->google-colab) (8.0.3)\n",
            "Requirement already satisfied: traitlets>=4.1.0 in c:\\users\\yousuf yasser rabie\\appdata\\roaming\\python\\python39\\site-packages (from ipykernel~=4.6.0->google-colab) (5.9.0)\n",
            "Requirement already satisfied: decorator in c:\\users\\yousuf yasser rabie\\appdata\\roaming\\python\\python39\\site-packages (from ipython~=5.5.0->google-colab) (5.1.1)\n",
            "Collecting prompt-toolkit<2.0.0,>=1.0.4\n",
            "  Using cached prompt_toolkit-1.0.18-py3-none-any.whl (245 kB)\n",
            "Requirement already satisfied: pickleshare in c:\\users\\yousuf yasser rabie\\appdata\\roaming\\python\\python39\\site-packages (from ipython~=5.5.0->google-colab) (0.7.5)\n",
            "Requirement already satisfied: pygments in c:\\users\\yousuf yasser rabie\\appdata\\roaming\\python\\python39\\site-packages (from ipython~=5.5.0->google-colab) (2.14.0)\n",
            "Requirement already satisfied: colorama in c:\\users\\yousuf yasser rabie\\appdata\\roaming\\python\\python39\\site-packages (from ipython~=5.5.0->google-colab) (0.4.6)\n",
            "Requirement already satisfied: setuptools>=18.5 in c:\\users\\yousuf yasser rabie\\anaconda3\\lib\\site-packages (from ipython~=5.5.0->google-colab) (63.4.1)\n",
            "Collecting simplegeneric>0.8\n",
            "  Using cached simplegeneric-0.8.1.zip (12 kB)\n",
            "  Preparing metadata (setup.py): started\n",
            "  Preparing metadata (setup.py): finished with status 'done'\n",
            "Requirement already satisfied: nbconvert in c:\\users\\yousuf yasser rabie\\anaconda3\\lib\\site-packages (from notebook~=5.2.0->google-colab) (6.4.4)\n",
            "Requirement already satisfied: jupyter-core in c:\\users\\yousuf yasser rabie\\appdata\\roaming\\python\\python39\\site-packages (from notebook~=5.2.0->google-colab) (5.2.0)\n",
            "Requirement already satisfied: ipython-genutils in c:\\users\\yousuf yasser rabie\\anaconda3\\lib\\site-packages (from notebook~=5.2.0->google-colab) (0.2.0)\n",
            "Requirement already satisfied: jinja2 in c:\\users\\yousuf yasser rabie\\anaconda3\\lib\\site-packages (from notebook~=5.2.0->google-colab) (2.11.3)\n",
            "Requirement already satisfied: nbformat in c:\\users\\yousuf yasser rabie\\anaconda3\\lib\\site-packages (from notebook~=5.2.0->google-colab) (5.5.0)\n",
            "Requirement already satisfied: python-dateutil>=2.5.0 in c:\\users\\yousuf yasser rabie\\appdata\\roaming\\python\\python39\\site-packages (from pandas~=0.24.0->google-colab) (2.8.2)\n",
            "Requirement already satisfied: pytz>=2011k in c:\\users\\yousuf yasser rabie\\anaconda3\\lib\\site-packages (from pandas~=0.24.0->google-colab) (2022.1)\n",
            "Requirement already satisfied: numpy>=1.12.0 in c:\\users\\yousuf yasser rabie\\anaconda3\\lib\\site-packages (from pandas~=0.24.0->google-colab) (1.21.5)\n",
            "Collecting idna<2.9,>=2.5\n",
            "  Using cached idna-2.8-py2.py3-none-any.whl (58 kB)\n",
            "Requirement already satisfied: certifi>=2017.4.17 in c:\\users\\yousuf yasser rabie\\anaconda3\\lib\\site-packages (from requests~=2.21.0->google-colab) (2022.9.14)\n",
            "Collecting chardet<3.1.0,>=3.0.2\n",
            "  Using cached chardet-3.0.4-py2.py3-none-any.whl (133 kB)\n",
            "Collecting urllib3<1.25,>=1.21.1\n",
            "  Using cached urllib3-1.24.3-py2.py3-none-any.whl (118 kB)\n",
            "Requirement already satisfied: wcwidth in c:\\users\\yousuf yasser rabie\\appdata\\roaming\\python\\python39\\site-packages (from prompt-toolkit<2.0.0,>=1.0.4->ipython~=5.5.0->google-colab) (0.2.6)\n",
            "Requirement already satisfied: pyasn1<0.5.0,>=0.4.6 in c:\\users\\yousuf yasser rabie\\anaconda3\\lib\\site-packages (from pyasn1-modules>=0.2.1->google-auth~=1.4.0->google-colab) (0.4.8)\n",
            "Requirement already satisfied: MarkupSafe>=0.23 in c:\\users\\yousuf yasser rabie\\anaconda3\\lib\\site-packages (from jinja2->notebook~=5.2.0->google-colab) (2.0.1)\n",
            "Requirement already satisfied: importlib-metadata>=4.8.3 in c:\\users\\yousuf yasser rabie\\appdata\\roaming\\python\\python39\\site-packages (from jupyter-client->ipykernel~=4.6.0->google-colab) (6.0.0)\n",
            "Requirement already satisfied: pyzmq>=23.0 in c:\\users\\yousuf yasser rabie\\appdata\\roaming\\python\\python39\\site-packages (from jupyter-client->ipykernel~=4.6.0->google-colab) (25.0.0)\n",
            "Collecting jupyter-client\n",
            "  Using cached jupyter_client-8.0.2-py3-none-any.whl (103 kB)\n",
            "  Using cached jupyter_client-8.0.1-py3-none-any.whl (103 kB)\n",
            "  Using cached jupyter_client-8.0.0-py3-none-any.whl (103 kB)\n",
            "  Using cached jupyter_client-7.4.9-py3-none-any.whl (133 kB)\n",
            "Requirement already satisfied: entrypoints in c:\\users\\yousuf yasser rabie\\anaconda3\\lib\\site-packages (from jupyter-client->ipykernel~=4.6.0->google-colab) (0.4)\n",
            "Requirement already satisfied: nest-asyncio>=1.5.4 in c:\\users\\yousuf yasser rabie\\appdata\\roaming\\python\\python39\\site-packages (from jupyter-client->ipykernel~=4.6.0->google-colab) (1.5.6)\n",
            "  Using cached jupyter_client-7.4.8-py3-none-any.whl (133 kB)\n",
            "  Using cached jupyter_client-7.4.7-py3-none-any.whl (133 kB)\n",
            "  Using cached jupyter_client-7.4.6-py3-none-any.whl (133 kB)\n",
            "  Using cached jupyter_client-7.4.5-py3-none-any.whl (132 kB)\n",
            "  Using cached jupyter_client-7.4.4-py3-none-any.whl (132 kB)\n",
            "  Using cached jupyter_client-7.4.3-py3-none-any.whl (132 kB)\n",
            "  Using cached jupyter_client-7.4.2-py3-none-any.whl (132 kB)\n",
            "  Using cached jupyter_client-7.4.1-py3-none-any.whl (132 kB)\n",
            "  Using cached jupyter_client-7.4.0-py3-none-any.whl (132 kB)\n",
            "  Using cached jupyter_client-7.3.5-py3-none-any.whl (132 kB)\n",
            "  Using cached jupyter_client-7.3.4-py3-none-any.whl (132 kB)\n",
            "  Using cached jupyter_client-7.3.3-py3-none-any.whl (131 kB)\n",
            "  Using cached jupyter_client-7.3.2-py3-none-any.whl (131 kB)\n",
            "  Using cached jupyter_client-7.3.1-py3-none-any.whl (130 kB)\n",
            "  Using cached jupyter_client-7.3.0-py3-none-any.whl (130 kB)\n",
            "  Using cached jupyter_client-7.2.2-py3-none-any.whl (130 kB)\n",
            "  Using cached jupyter_client-7.2.1-py3-none-any.whl (130 kB)\n",
            "  Using cached jupyter_client-7.2.0-py3-none-any.whl (130 kB)\n",
            "  Using cached jupyter_client-7.1.2-py3-none-any.whl (130 kB)\n",
            "Requirement already satisfied: platformdirs>=2.5 in c:\\users\\yousuf yasser rabie\\appdata\\roaming\\python\\python39\\site-packages (from jupyter-core->notebook~=5.2.0->google-colab) (3.0.0)\n",
            "Requirement already satisfied: pywin32>=1.0 in c:\\users\\yousuf yasser rabie\\appdata\\roaming\\python\\python39\\site-packages (from jupyter-core->notebook~=5.2.0->google-colab) (305)\n",
            "Requirement already satisfied: jupyterlab-pygments in c:\\users\\yousuf yasser rabie\\anaconda3\\lib\\site-packages (from nbconvert->notebook~=5.2.0->google-colab) (0.1.2)\n",
            "Requirement already satisfied: pandocfilters>=1.4.1 in c:\\users\\yousuf yasser rabie\\anaconda3\\lib\\site-packages (from nbconvert->notebook~=5.2.0->google-colab) (1.5.0)\n",
            "Requirement already satisfied: bleach in c:\\users\\yousuf yasser rabie\\anaconda3\\lib\\site-packages (from nbconvert->notebook~=5.2.0->google-colab) (4.1.0)\n",
            "Requirement already satisfied: testpath in c:\\users\\yousuf yasser rabie\\anaconda3\\lib\\site-packages (from nbconvert->notebook~=5.2.0->google-colab) (0.6.0)\n",
            "Requirement already satisfied: beautifulsoup4 in c:\\users\\yousuf yasser rabie\\anaconda3\\lib\\site-packages (from nbconvert->notebook~=5.2.0->google-colab) (4.11.1)\n",
            "Requirement already satisfied: nbclient<0.6.0,>=0.5.0 in c:\\users\\yousuf yasser rabie\\anaconda3\\lib\\site-packages (from nbconvert->notebook~=5.2.0->google-colab) (0.5.13)\n",
            "Requirement already satisfied: mistune<2,>=0.8.1 in c:\\users\\yousuf yasser rabie\\anaconda3\\lib\\site-packages (from nbconvert->notebook~=5.2.0->google-colab) (0.8.4)\n",
            "Requirement already satisfied: defusedxml in c:\\users\\yousuf yasser rabie\\anaconda3\\lib\\site-packages (from nbconvert->notebook~=5.2.0->google-colab) (0.7.1)\n",
            "Requirement already satisfied: jsonschema>=2.6 in c:\\users\\yousuf yasser rabie\\anaconda3\\lib\\site-packages (from nbformat->notebook~=5.2.0->google-colab) (4.16.0)\n",
            "Requirement already satisfied: fastjsonschema in c:\\users\\yousuf yasser rabie\\anaconda3\\lib\\site-packages (from nbformat->notebook~=5.2.0->google-colab) (2.16.2)\n",
            "Requirement already satisfied: pyrsistent!=0.17.0,!=0.17.1,!=0.17.2,>=0.14.0 in c:\\users\\yousuf yasser rabie\\anaconda3\\lib\\site-packages (from jsonschema>=2.6->nbformat->notebook~=5.2.0->google-colab) (0.18.0)\n",
            "Requirement already satisfied: attrs>=17.4.0 in c:\\users\\yousuf yasser rabie\\anaconda3\\lib\\site-packages (from jsonschema>=2.6->nbformat->notebook~=5.2.0->google-colab) (21.4.0)\n",
            "Requirement already satisfied: soupsieve>1.2 in c:\\users\\yousuf yasser rabie\\anaconda3\\lib\\site-packages (from beautifulsoup4->nbconvert->notebook~=5.2.0->google-colab) (2.3.1)\n",
            "Requirement already satisfied: webencodings in c:\\users\\yousuf yasser rabie\\anaconda3\\lib\\site-packages (from bleach->nbconvert->notebook~=5.2.0->google-colab) (0.5.1)\n",
            "Requirement already satisfied: packaging in c:\\users\\yousuf yasser rabie\\appdata\\roaming\\python\\python39\\site-packages (from bleach->nbconvert->notebook~=5.2.0->google-colab) (23.0)\n",
            "Building wheels for collected packages: pandas, simplegeneric\n",
            "  Building wheel for pandas (setup.py): started\n",
            "  Building wheel for pandas (setup.py): finished with status 'error'\n",
            "  Running setup.py clean for pandas\n",
            "  Building wheel for simplegeneric (setup.py): started\n",
            "  Building wheel for simplegeneric (setup.py): finished with status 'done'\n",
            "  Created wheel for simplegeneric: filename=simplegeneric-0.8.1-py3-none-any.whl size=5059 sha256=973b45d460d163aecf56b617bb4e559599382d5c32b32ad44debe839eb6681e6\n",
            "  Stored in directory: c:\\users\\yousuf yasser rabie\\appdata\\local\\pip\\cache\\wheels\\a7\\bd\\0d\\d95b629ee4a7368830202858e45ac76cd837a42cafa50da81e\n",
            "Successfully built simplegeneric\n",
            "Failed to build pandas\n",
            "Installing collected packages: tornado, simplegeneric, portpicker, chardet, urllib3, six, rsa, idna, cachetools, requests, prompt-toolkit, google-auth, pandas, jupyter-client, ipython, ipykernel, notebook, google-colab\n",
            "  Attempting uninstall: tornado\n",
            "    Found existing installation: tornado 6.2\n",
            "    Uninstalling tornado-6.2:\n",
            "      Successfully uninstalled tornado-6.2\n",
            "Note: you may need to restart the kernel to use updated packages.\n"
          ]
        },
        {
          "name": "stderr",
          "output_type": "stream",
          "text": [
            "  error: subprocess-exited-with-error\n",
            "  \n",
            "  × python setup.py bdist_wheel did not run successfully.\n",
            "  │ exit code: 1\n",
            "  ╰─> [843 lines of output]\n",
            "      C:\\Users\\Yousuf Yasser Rabie\\AppData\\Local\\Temp\\pip-install-z6d6nrhc\\pandas_778afc01c4024d5ba83a45fd9fa4fdf1\\setup.py:50: DeprecationWarning: distutils Version classes are deprecated. Use packaging.version instead.\n",
            "        _CYTHON_INSTALLED = ver >= LooseVersion(min_cython_ver)\n",
            "      running bdist_wheel\n",
            "      running build\n",
            "      running build_py\n",
            "      creating build\n",
            "      creating build\\lib.win-amd64-cpython-39\n",
            "      creating build\\lib.win-amd64-cpython-39\\pandas\n",
            "      copying pandas\\conftest.py -> build\\lib.win-amd64-cpython-39\\pandas\n",
            "      copying pandas\\testing.py -> build\\lib.win-amd64-cpython-39\\pandas\n",
            "      copying pandas\\_version.py -> build\\lib.win-amd64-cpython-39\\pandas\n",
            "      copying pandas\\__init__.py -> build\\lib.win-amd64-cpython-39\\pandas\n",
            "      creating build\\lib.win-amd64-cpython-39\\pandas\\api\n",
            "      copying pandas\\api\\__init__.py -> build\\lib.win-amd64-cpython-39\\pandas\\api\n",
            "      creating build\\lib.win-amd64-cpython-39\\pandas\\arrays\n",
            "      copying pandas\\arrays\\__init__.py -> build\\lib.win-amd64-cpython-39\\pandas\\arrays\n",
            "      creating build\\lib.win-amd64-cpython-39\\pandas\\compat\n",
            "      copying pandas\\compat\\chainmap.py -> build\\lib.win-amd64-cpython-39\\pandas\\compat\n",
            "      copying pandas\\compat\\chainmap_impl.py -> build\\lib.win-amd64-cpython-39\\pandas\\compat\n",
            "      copying pandas\\compat\\pickle_compat.py -> build\\lib.win-amd64-cpython-39\\pandas\\compat\n",
            "      copying pandas\\compat\\__init__.py -> build\\lib.win-amd64-cpython-39\\pandas\\compat\n",
            "      creating build\\lib.win-amd64-cpython-39\\pandas\\core\n",
            "      copying pandas\\core\\accessor.py -> build\\lib.win-amd64-cpython-39\\pandas\\core\n",
            "      copying pandas\\core\\algorithms.py -> build\\lib.win-amd64-cpython-39\\pandas\\core\n",
            "      copying pandas\\core\\api.py -> build\\lib.win-amd64-cpython-39\\pandas\\core\n",
            "      copying pandas\\core\\apply.py -> build\\lib.win-amd64-cpython-39\\pandas\\core\n",
            "      copying pandas\\core\\base.py -> build\\lib.win-amd64-cpython-39\\pandas\\core\n",
            "      copying pandas\\core\\categorical.py -> build\\lib.win-amd64-cpython-39\\pandas\\core\n",
            "      copying pandas\\core\\common.py -> build\\lib.win-amd64-cpython-39\\pandas\\core\n",
            "      copying pandas\\core\\config.py -> build\\lib.win-amd64-cpython-39\\pandas\\core\n",
            "      copying pandas\\core\\config_init.py -> build\\lib.win-amd64-cpython-39\\pandas\\core\n",
            "      copying pandas\\core\\frame.py -> build\\lib.win-amd64-cpython-39\\pandas\\core\n",
            "      copying pandas\\core\\generic.py -> build\\lib.win-amd64-cpython-39\\pandas\\core\n",
            "      copying pandas\\core\\index.py -> build\\lib.win-amd64-cpython-39\\pandas\\core\n",
            "      copying pandas\\core\\indexing.py -> build\\lib.win-amd64-cpython-39\\pandas\\core\n",
            "      copying pandas\\core\\missing.py -> build\\lib.win-amd64-cpython-39\\pandas\\core\n",
            "      copying pandas\\core\\nanops.py -> build\\lib.win-amd64-cpython-39\\pandas\\core\n",
            "      copying pandas\\core\\ops.py -> build\\lib.win-amd64-cpython-39\\pandas\\core\n",
            "      copying pandas\\core\\panel.py -> build\\lib.win-amd64-cpython-39\\pandas\\core\n",
            "      copying pandas\\core\\resample.py -> build\\lib.win-amd64-cpython-39\\pandas\\core\n",
            "      copying pandas\\core\\series.py -> build\\lib.win-amd64-cpython-39\\pandas\\core\n",
            "      copying pandas\\core\\sorting.py -> build\\lib.win-amd64-cpython-39\\pandas\\core\n",
            "      copying pandas\\core\\strings.py -> build\\lib.win-amd64-cpython-39\\pandas\\core\n",
            "      copying pandas\\core\\window.py -> build\\lib.win-amd64-cpython-39\\pandas\\core\n",
            "      copying pandas\\core\\__init__.py -> build\\lib.win-amd64-cpython-39\\pandas\\core\n",
            "      creating build\\lib.win-amd64-cpython-39\\pandas\\errors\n",
            "      copying pandas\\errors\\__init__.py -> build\\lib.win-amd64-cpython-39\\pandas\\errors\n",
            "      creating build\\lib.win-amd64-cpython-39\\pandas\\io\n",
            "      copying pandas\\io\\api.py -> build\\lib.win-amd64-cpython-39\\pandas\\io\n",
            "      copying pandas\\io\\clipboards.py -> build\\lib.win-amd64-cpython-39\\pandas\\io\n",
            "      copying pandas\\io\\common.py -> build\\lib.win-amd64-cpython-39\\pandas\\io\n",
            "      copying pandas\\io\\date_converters.py -> build\\lib.win-amd64-cpython-39\\pandas\\io\n",
            "      copying pandas\\io\\excel.py -> build\\lib.win-amd64-cpython-39\\pandas\\io\n",
            "      copying pandas\\io\\feather_format.py -> build\\lib.win-amd64-cpython-39\\pandas\\io\n",
            "      copying pandas\\io\\gbq.py -> build\\lib.win-amd64-cpython-39\\pandas\\io\n",
            "      copying pandas\\io\\gcs.py -> build\\lib.win-amd64-cpython-39\\pandas\\io\n",
            "      copying pandas\\io\\html.py -> build\\lib.win-amd64-cpython-39\\pandas\\io\n",
            "      copying pandas\\io\\packers.py -> build\\lib.win-amd64-cpython-39\\pandas\\io\n",
            "      copying pandas\\io\\parquet.py -> build\\lib.win-amd64-cpython-39\\pandas\\io\n",
            "      copying pandas\\io\\parsers.py -> build\\lib.win-amd64-cpython-39\\pandas\\io\n",
            "      copying pandas\\io\\pickle.py -> build\\lib.win-amd64-cpython-39\\pandas\\io\n",
            "      copying pandas\\io\\pytables.py -> build\\lib.win-amd64-cpython-39\\pandas\\io\n",
            "      copying pandas\\io\\s3.py -> build\\lib.win-amd64-cpython-39\\pandas\\io\n",
            "      copying pandas\\io\\sql.py -> build\\lib.win-amd64-cpython-39\\pandas\\io\n",
            "      copying pandas\\io\\stata.py -> build\\lib.win-amd64-cpython-39\\pandas\\io\n",
            "      copying pandas\\io\\__init__.py -> build\\lib.win-amd64-cpython-39\\pandas\\io\n",
            "      creating build\\lib.win-amd64-cpython-39\\pandas\\plotting\n",
            "      copying pandas\\plotting\\_compat.py -> build\\lib.win-amd64-cpython-39\\pandas\\plotting\n",
            "      copying pandas\\plotting\\_converter.py -> build\\lib.win-amd64-cpython-39\\pandas\\plotting\n",
            "      copying pandas\\plotting\\_core.py -> build\\lib.win-amd64-cpython-39\\pandas\\plotting\n",
            "      copying pandas\\plotting\\_misc.py -> build\\lib.win-amd64-cpython-39\\pandas\\plotting\n",
            "      copying pandas\\plotting\\_style.py -> build\\lib.win-amd64-cpython-39\\pandas\\plotting\n",
            "      copying pandas\\plotting\\_timeseries.py -> build\\lib.win-amd64-cpython-39\\pandas\\plotting\n",
            "      copying pandas\\plotting\\_tools.py -> build\\lib.win-amd64-cpython-39\\pandas\\plotting\n",
            "      copying pandas\\plotting\\__init__.py -> build\\lib.win-amd64-cpython-39\\pandas\\plotting\n",
            "      creating build\\lib.win-amd64-cpython-39\\pandas\\tests\n",
            "      copying pandas\\tests\\test_algos.py -> build\\lib.win-amd64-cpython-39\\pandas\\tests\n",
            "      copying pandas\\tests\\test_base.py -> build\\lib.win-amd64-cpython-39\\pandas\\tests\n",
            "      copying pandas\\tests\\test_common.py -> build\\lib.win-amd64-cpython-39\\pandas\\tests\n",
            "      copying pandas\\tests\\test_compat.py -> build\\lib.win-amd64-cpython-39\\pandas\\tests\n",
            "      copying pandas\\tests\\test_config.py -> build\\lib.win-amd64-cpython-39\\pandas\\tests\n",
            "      copying pandas\\tests\\test_downstream.py -> build\\lib.win-amd64-cpython-39\\pandas\\tests\n",
            "      copying pandas\\tests\\test_errors.py -> build\\lib.win-amd64-cpython-39\\pandas\\tests\n",
            "      copying pandas\\tests\\test_expressions.py -> build\\lib.win-amd64-cpython-39\\pandas\\tests\n",
            "      copying pandas\\tests\\test_join.py -> build\\lib.win-amd64-cpython-39\\pandas\\tests\n",
            "      copying pandas\\tests\\test_lib.py -> build\\lib.win-amd64-cpython-39\\pandas\\tests\n",
            "      copying pandas\\tests\\test_multilevel.py -> build\\lib.win-amd64-cpython-39\\pandas\\tests\n",
            "      copying pandas\\tests\\test_nanops.py -> build\\lib.win-amd64-cpython-39\\pandas\\tests\n",
            "      copying pandas\\tests\\test_panel.py -> build\\lib.win-amd64-cpython-39\\pandas\\tests\n",
            "      copying pandas\\tests\\test_register_accessor.py -> build\\lib.win-amd64-cpython-39\\pandas\\tests\n",
            "      copying pandas\\tests\\test_sorting.py -> build\\lib.win-amd64-cpython-39\\pandas\\tests\n",
            "      copying pandas\\tests\\test_strings.py -> build\\lib.win-amd64-cpython-39\\pandas\\tests\n",
            "      copying pandas\\tests\\test_take.py -> build\\lib.win-amd64-cpython-39\\pandas\\tests\n",
            "      copying pandas\\tests\\test_window.py -> build\\lib.win-amd64-cpython-39\\pandas\\tests\n",
            "      copying pandas\\tests\\__init__.py -> build\\lib.win-amd64-cpython-39\\pandas\\tests\n",
            "      creating build\\lib.win-amd64-cpython-39\\pandas\\tseries\n",
            "      copying pandas\\tseries\\api.py -> build\\lib.win-amd64-cpython-39\\pandas\\tseries\n",
            "      copying pandas\\tseries\\converter.py -> build\\lib.win-amd64-cpython-39\\pandas\\tseries\n",
            "      copying pandas\\tseries\\frequencies.py -> build\\lib.win-amd64-cpython-39\\pandas\\tseries\n",
            "      copying pandas\\tseries\\holiday.py -> build\\lib.win-amd64-cpython-39\\pandas\\tseries\n",
            "      copying pandas\\tseries\\offsets.py -> build\\lib.win-amd64-cpython-39\\pandas\\tseries\n",
            "      copying pandas\\tseries\\plotting.py -> build\\lib.win-amd64-cpython-39\\pandas\\tseries\n",
            "      copying pandas\\tseries\\__init__.py -> build\\lib.win-amd64-cpython-39\\pandas\\tseries\n",
            "      creating build\\lib.win-amd64-cpython-39\\pandas\\util\n",
            "      copying pandas\\util\\testing.py -> build\\lib.win-amd64-cpython-39\\pandas\\util\n",
            "      copying pandas\\util\\_decorators.py -> build\\lib.win-amd64-cpython-39\\pandas\\util\n",
            "      copying pandas\\util\\_depr_module.py -> build\\lib.win-amd64-cpython-39\\pandas\\util\n",
            "      copying pandas\\util\\_doctools.py -> build\\lib.win-amd64-cpython-39\\pandas\\util\n",
            "      copying pandas\\util\\_exceptions.py -> build\\lib.win-amd64-cpython-39\\pandas\\util\n",
            "      copying pandas\\util\\_print_versions.py -> build\\lib.win-amd64-cpython-39\\pandas\\util\n",
            "      copying pandas\\util\\_tester.py -> build\\lib.win-amd64-cpython-39\\pandas\\util\n",
            "      copying pandas\\util\\_test_decorators.py -> build\\lib.win-amd64-cpython-39\\pandas\\util\n",
            "      copying pandas\\util\\_validators.py -> build\\lib.win-amd64-cpython-39\\pandas\\util\n",
            "      copying pandas\\util\\__init__.py -> build\\lib.win-amd64-cpython-39\\pandas\\util\n",
            "      creating build\\lib.win-amd64-cpython-39\\pandas\\_libs\n",
            "      copying pandas\\_libs\\__init__.py -> build\\lib.win-amd64-cpython-39\\pandas\\_libs\n",
            "      creating build\\lib.win-amd64-cpython-39\\pandas\\api\\extensions\n",
            "      copying pandas\\api\\extensions\\__init__.py -> build\\lib.win-amd64-cpython-39\\pandas\\api\\extensions\n",
            "      creating build\\lib.win-amd64-cpython-39\\pandas\\api\\types\n",
            "      copying pandas\\api\\types\\__init__.py -> build\\lib.win-amd64-cpython-39\\pandas\\api\\types\n",
            "      creating build\\lib.win-amd64-cpython-39\\pandas\\compat\\numpy\n",
            "      copying pandas\\compat\\numpy\\function.py -> build\\lib.win-amd64-cpython-39\\pandas\\compat\\numpy\n",
            "      copying pandas\\compat\\numpy\\__init__.py -> build\\lib.win-amd64-cpython-39\\pandas\\compat\\numpy\n",
            "      creating build\\lib.win-amd64-cpython-39\\pandas\\core\\arrays\n",
            "      copying pandas\\core\\arrays\\array_.py -> build\\lib.win-amd64-cpython-39\\pandas\\core\\arrays\n",
            "      copying pandas\\core\\arrays\\base.py -> build\\lib.win-amd64-cpython-39\\pandas\\core\\arrays\n",
            "      copying pandas\\core\\arrays\\categorical.py -> build\\lib.win-amd64-cpython-39\\pandas\\core\\arrays\n",
            "      copying pandas\\core\\arrays\\datetimelike.py -> build\\lib.win-amd64-cpython-39\\pandas\\core\\arrays\n",
            "      copying pandas\\core\\arrays\\datetimes.py -> build\\lib.win-amd64-cpython-39\\pandas\\core\\arrays\n",
            "      copying pandas\\core\\arrays\\integer.py -> build\\lib.win-amd64-cpython-39\\pandas\\core\\arrays\n",
            "      copying pandas\\core\\arrays\\interval.py -> build\\lib.win-amd64-cpython-39\\pandas\\core\\arrays\n",
            "      copying pandas\\core\\arrays\\numpy_.py -> build\\lib.win-amd64-cpython-39\\pandas\\core\\arrays\n",
            "      copying pandas\\core\\arrays\\period.py -> build\\lib.win-amd64-cpython-39\\pandas\\core\\arrays\n",
            "      copying pandas\\core\\arrays\\sparse.py -> build\\lib.win-amd64-cpython-39\\pandas\\core\\arrays\n",
            "      copying pandas\\core\\arrays\\timedeltas.py -> build\\lib.win-amd64-cpython-39\\pandas\\core\\arrays\n",
            "      copying pandas\\core\\arrays\\_ranges.py -> build\\lib.win-amd64-cpython-39\\pandas\\core\\arrays\n",
            "      copying pandas\\core\\arrays\\__init__.py -> build\\lib.win-amd64-cpython-39\\pandas\\core\\arrays\n",
            "      creating build\\lib.win-amd64-cpython-39\\pandas\\core\\computation\n",
            "      copying pandas\\core\\computation\\align.py -> build\\lib.win-amd64-cpython-39\\pandas\\core\\computation\n",
            "      copying pandas\\core\\computation\\api.py -> build\\lib.win-amd64-cpython-39\\pandas\\core\\computation\n",
            "      copying pandas\\core\\computation\\check.py -> build\\lib.win-amd64-cpython-39\\pandas\\core\\computation\n",
            "      copying pandas\\core\\computation\\common.py -> build\\lib.win-amd64-cpython-39\\pandas\\core\\computation\n",
            "      copying pandas\\core\\computation\\engines.py -> build\\lib.win-amd64-cpython-39\\pandas\\core\\computation\n",
            "      copying pandas\\core\\computation\\eval.py -> build\\lib.win-amd64-cpython-39\\pandas\\core\\computation\n",
            "      copying pandas\\core\\computation\\expr.py -> build\\lib.win-amd64-cpython-39\\pandas\\core\\computation\n",
            "      copying pandas\\core\\computation\\expressions.py -> build\\lib.win-amd64-cpython-39\\pandas\\core\\computation\n",
            "      copying pandas\\core\\computation\\ops.py -> build\\lib.win-amd64-cpython-39\\pandas\\core\\computation\n",
            "      copying pandas\\core\\computation\\pytables.py -> build\\lib.win-amd64-cpython-39\\pandas\\core\\computation\n",
            "      copying pandas\\core\\computation\\scope.py -> build\\lib.win-amd64-cpython-39\\pandas\\core\\computation\n",
            "      copying pandas\\core\\computation\\__init__.py -> build\\lib.win-amd64-cpython-39\\pandas\\core\\computation\n",
            "      creating build\\lib.win-amd64-cpython-39\\pandas\\core\\dtypes\n",
            "      copying pandas\\core\\dtypes\\api.py -> build\\lib.win-amd64-cpython-39\\pandas\\core\\dtypes\n",
            "      copying pandas\\core\\dtypes\\base.py -> build\\lib.win-amd64-cpython-39\\pandas\\core\\dtypes\n",
            "      copying pandas\\core\\dtypes\\cast.py -> build\\lib.win-amd64-cpython-39\\pandas\\core\\dtypes\n",
            "      copying pandas\\core\\dtypes\\common.py -> build\\lib.win-amd64-cpython-39\\pandas\\core\\dtypes\n",
            "      copying pandas\\core\\dtypes\\concat.py -> build\\lib.win-amd64-cpython-39\\pandas\\core\\dtypes\n",
            "      copying pandas\\core\\dtypes\\dtypes.py -> build\\lib.win-amd64-cpython-39\\pandas\\core\\dtypes\n",
            "      copying pandas\\core\\dtypes\\generic.py -> build\\lib.win-amd64-cpython-39\\pandas\\core\\dtypes\n",
            "      copying pandas\\core\\dtypes\\inference.py -> build\\lib.win-amd64-cpython-39\\pandas\\core\\dtypes\n",
            "      copying pandas\\core\\dtypes\\missing.py -> build\\lib.win-amd64-cpython-39\\pandas\\core\\dtypes\n",
            "      copying pandas\\core\\dtypes\\__init__.py -> build\\lib.win-amd64-cpython-39\\pandas\\core\\dtypes\n",
            "      creating build\\lib.win-amd64-cpython-39\\pandas\\core\\groupby\n",
            "      copying pandas\\core\\groupby\\base.py -> build\\lib.win-amd64-cpython-39\\pandas\\core\\groupby\n",
            "      copying pandas\\core\\groupby\\categorical.py -> build\\lib.win-amd64-cpython-39\\pandas\\core\\groupby\n",
            "      copying pandas\\core\\groupby\\generic.py -> build\\lib.win-amd64-cpython-39\\pandas\\core\\groupby\n",
            "      copying pandas\\core\\groupby\\groupby.py -> build\\lib.win-amd64-cpython-39\\pandas\\core\\groupby\n",
            "      copying pandas\\core\\groupby\\grouper.py -> build\\lib.win-amd64-cpython-39\\pandas\\core\\groupby\n",
            "      copying pandas\\core\\groupby\\ops.py -> build\\lib.win-amd64-cpython-39\\pandas\\core\\groupby\n",
            "      copying pandas\\core\\groupby\\__init__.py -> build\\lib.win-amd64-cpython-39\\pandas\\core\\groupby\n",
            "      creating build\\lib.win-amd64-cpython-39\\pandas\\core\\indexes\n",
            "      copying pandas\\core\\indexes\\accessors.py -> build\\lib.win-amd64-cpython-39\\pandas\\core\\indexes\n",
            "      copying pandas\\core\\indexes\\api.py -> build\\lib.win-amd64-cpython-39\\pandas\\core\\indexes\n",
            "      copying pandas\\core\\indexes\\base.py -> build\\lib.win-amd64-cpython-39\\pandas\\core\\indexes\n",
            "      copying pandas\\core\\indexes\\category.py -> build\\lib.win-amd64-cpython-39\\pandas\\core\\indexes\n",
            "      copying pandas\\core\\indexes\\datetimelike.py -> build\\lib.win-amd64-cpython-39\\pandas\\core\\indexes\n",
            "      copying pandas\\core\\indexes\\datetimes.py -> build\\lib.win-amd64-cpython-39\\pandas\\core\\indexes\n",
            "      copying pandas\\core\\indexes\\frozen.py -> build\\lib.win-amd64-cpython-39\\pandas\\core\\indexes\n",
            "      copying pandas\\core\\indexes\\interval.py -> build\\lib.win-amd64-cpython-39\\pandas\\core\\indexes\n",
            "      copying pandas\\core\\indexes\\multi.py -> build\\lib.win-amd64-cpython-39\\pandas\\core\\indexes\n",
            "      copying pandas\\core\\indexes\\numeric.py -> build\\lib.win-amd64-cpython-39\\pandas\\core\\indexes\n",
            "      copying pandas\\core\\indexes\\period.py -> build\\lib.win-amd64-cpython-39\\pandas\\core\\indexes\n",
            "      copying pandas\\core\\indexes\\range.py -> build\\lib.win-amd64-cpython-39\\pandas\\core\\indexes\n",
            "      copying pandas\\core\\indexes\\timedeltas.py -> build\\lib.win-amd64-cpython-39\\pandas\\core\\indexes\n",
            "      copying pandas\\core\\indexes\\__init__.py -> build\\lib.win-amd64-cpython-39\\pandas\\core\\indexes\n",
            "      creating build\\lib.win-amd64-cpython-39\\pandas\\core\\internals\n",
            "      copying pandas\\core\\internals\\arrays.py -> build\\lib.win-amd64-cpython-39\\pandas\\core\\internals\n",
            "      copying pandas\\core\\internals\\blocks.py -> build\\lib.win-amd64-cpython-39\\pandas\\core\\internals\n",
            "      copying pandas\\core\\internals\\concat.py -> build\\lib.win-amd64-cpython-39\\pandas\\core\\internals\n",
            "      copying pandas\\core\\internals\\construction.py -> build\\lib.win-amd64-cpython-39\\pandas\\core\\internals\n",
            "      copying pandas\\core\\internals\\managers.py -> build\\lib.win-amd64-cpython-39\\pandas\\core\\internals\n",
            "      copying pandas\\core\\internals\\__init__.py -> build\\lib.win-amd64-cpython-39\\pandas\\core\\internals\n",
            "      creating build\\lib.win-amd64-cpython-39\\pandas\\core\\reshape\n",
            "      copying pandas\\core\\reshape\\api.py -> build\\lib.win-amd64-cpython-39\\pandas\\core\\reshape\n",
            "      copying pandas\\core\\reshape\\concat.py -> build\\lib.win-amd64-cpython-39\\pandas\\core\\reshape\n",
            "      copying pandas\\core\\reshape\\melt.py -> build\\lib.win-amd64-cpython-39\\pandas\\core\\reshape\n",
            "      copying pandas\\core\\reshape\\merge.py -> build\\lib.win-amd64-cpython-39\\pandas\\core\\reshape\n",
            "      copying pandas\\core\\reshape\\pivot.py -> build\\lib.win-amd64-cpython-39\\pandas\\core\\reshape\n",
            "      copying pandas\\core\\reshape\\reshape.py -> build\\lib.win-amd64-cpython-39\\pandas\\core\\reshape\n",
            "      copying pandas\\core\\reshape\\tile.py -> build\\lib.win-amd64-cpython-39\\pandas\\core\\reshape\n",
            "      copying pandas\\core\\reshape\\util.py -> build\\lib.win-amd64-cpython-39\\pandas\\core\\reshape\n",
            "      copying pandas\\core\\reshape\\__init__.py -> build\\lib.win-amd64-cpython-39\\pandas\\core\\reshape\n",
            "      creating build\\lib.win-amd64-cpython-39\\pandas\\core\\sparse\n",
            "      copying pandas\\core\\sparse\\api.py -> build\\lib.win-amd64-cpython-39\\pandas\\core\\sparse\n",
            "      copying pandas\\core\\sparse\\frame.py -> build\\lib.win-amd64-cpython-39\\pandas\\core\\sparse\n",
            "      copying pandas\\core\\sparse\\scipy_sparse.py -> build\\lib.win-amd64-cpython-39\\pandas\\core\\sparse\n",
            "      copying pandas\\core\\sparse\\series.py -> build\\lib.win-amd64-cpython-39\\pandas\\core\\sparse\n",
            "      copying pandas\\core\\sparse\\__init__.py -> build\\lib.win-amd64-cpython-39\\pandas\\core\\sparse\n",
            "      creating build\\lib.win-amd64-cpython-39\\pandas\\core\\tools\n",
            "      copying pandas\\core\\tools\\datetimes.py -> build\\lib.win-amd64-cpython-39\\pandas\\core\\tools\n",
            "      copying pandas\\core\\tools\\numeric.py -> build\\lib.win-amd64-cpython-39\\pandas\\core\\tools\n",
            "      copying pandas\\core\\tools\\timedeltas.py -> build\\lib.win-amd64-cpython-39\\pandas\\core\\tools\n",
            "      copying pandas\\core\\tools\\__init__.py -> build\\lib.win-amd64-cpython-39\\pandas\\core\\tools\n",
            "      creating build\\lib.win-amd64-cpython-39\\pandas\\core\\util\n",
            "      copying pandas\\core\\util\\hashing.py -> build\\lib.win-amd64-cpython-39\\pandas\\core\\util\n",
            "      copying pandas\\core\\util\\__init__.py -> build\\lib.win-amd64-cpython-39\\pandas\\core\\util\n",
            "      creating build\\lib.win-amd64-cpython-39\\pandas\\io\\clipboard\n",
            "      copying pandas\\io\\clipboard\\clipboards.py -> build\\lib.win-amd64-cpython-39\\pandas\\io\\clipboard\n",
            "      copying pandas\\io\\clipboard\\exceptions.py -> build\\lib.win-amd64-cpython-39\\pandas\\io\\clipboard\n",
            "      copying pandas\\io\\clipboard\\windows.py -> build\\lib.win-amd64-cpython-39\\pandas\\io\\clipboard\n",
            "      copying pandas\\io\\clipboard\\__init__.py -> build\\lib.win-amd64-cpython-39\\pandas\\io\\clipboard\n",
            "      creating build\\lib.win-amd64-cpython-39\\pandas\\io\\formats\n",
            "      copying pandas\\io\\formats\\console.py -> build\\lib.win-amd64-cpython-39\\pandas\\io\\formats\n",
            "      copying pandas\\io\\formats\\css.py -> build\\lib.win-amd64-cpython-39\\pandas\\io\\formats\n",
            "      copying pandas\\io\\formats\\csvs.py -> build\\lib.win-amd64-cpython-39\\pandas\\io\\formats\n",
            "      copying pandas\\io\\formats\\excel.py -> build\\lib.win-amd64-cpython-39\\pandas\\io\\formats\n",
            "      copying pandas\\io\\formats\\format.py -> build\\lib.win-amd64-cpython-39\\pandas\\io\\formats\n",
            "      copying pandas\\io\\formats\\html.py -> build\\lib.win-amd64-cpython-39\\pandas\\io\\formats\n",
            "      copying pandas\\io\\formats\\latex.py -> build\\lib.win-amd64-cpython-39\\pandas\\io\\formats\n",
            "      copying pandas\\io\\formats\\printing.py -> build\\lib.win-amd64-cpython-39\\pandas\\io\\formats\n",
            "      copying pandas\\io\\formats\\style.py -> build\\lib.win-amd64-cpython-39\\pandas\\io\\formats\n",
            "      copying pandas\\io\\formats\\terminal.py -> build\\lib.win-amd64-cpython-39\\pandas\\io\\formats\n",
            "      copying pandas\\io\\formats\\__init__.py -> build\\lib.win-amd64-cpython-39\\pandas\\io\\formats\n",
            "      creating build\\lib.win-amd64-cpython-39\\pandas\\io\\json\n",
            "      copying pandas\\io\\json\\json.py -> build\\lib.win-amd64-cpython-39\\pandas\\io\\json\n",
            "      copying pandas\\io\\json\\normalize.py -> build\\lib.win-amd64-cpython-39\\pandas\\io\\json\n",
            "      copying pandas\\io\\json\\table_schema.py -> build\\lib.win-amd64-cpython-39\\pandas\\io\\json\n",
            "      copying pandas\\io\\json\\__init__.py -> build\\lib.win-amd64-cpython-39\\pandas\\io\\json\n",
            "      creating build\\lib.win-amd64-cpython-39\\pandas\\io\\msgpack\n",
            "      copying pandas\\io\\msgpack\\exceptions.py -> build\\lib.win-amd64-cpython-39\\pandas\\io\\msgpack\n",
            "      copying pandas\\io\\msgpack\\_version.py -> build\\lib.win-amd64-cpython-39\\pandas\\io\\msgpack\n",
            "      copying pandas\\io\\msgpack\\__init__.py -> build\\lib.win-amd64-cpython-39\\pandas\\io\\msgpack\n",
            "      creating build\\lib.win-amd64-cpython-39\\pandas\\io\\sas\n",
            "      copying pandas\\io\\sas\\sas7bdat.py -> build\\lib.win-amd64-cpython-39\\pandas\\io\\sas\n",
            "      copying pandas\\io\\sas\\sasreader.py -> build\\lib.win-amd64-cpython-39\\pandas\\io\\sas\n",
            "      copying pandas\\io\\sas\\sas_constants.py -> build\\lib.win-amd64-cpython-39\\pandas\\io\\sas\n",
            "      copying pandas\\io\\sas\\sas_xport.py -> build\\lib.win-amd64-cpython-39\\pandas\\io\\sas\n",
            "      copying pandas\\io\\sas\\__init__.py -> build\\lib.win-amd64-cpython-39\\pandas\\io\\sas\n",
            "      creating build\\lib.win-amd64-cpython-39\\pandas\\tests\\api\n",
            "      copying pandas\\tests\\api\\test_api.py -> build\\lib.win-amd64-cpython-39\\pandas\\tests\\api\n",
            "      copying pandas\\tests\\api\\test_types.py -> build\\lib.win-amd64-cpython-39\\pandas\\tests\\api\n",
            "      copying pandas\\tests\\api\\__init__.py -> build\\lib.win-amd64-cpython-39\\pandas\\tests\\api\n",
            "      creating build\\lib.win-amd64-cpython-39\\pandas\\tests\\arithmetic\n",
            "      copying pandas\\tests\\arithmetic\\conftest.py -> build\\lib.win-amd64-cpython-39\\pandas\\tests\\arithmetic\n",
            "      copying pandas\\tests\\arithmetic\\test_datetime64.py -> build\\lib.win-amd64-cpython-39\\pandas\\tests\\arithmetic\n",
            "      copying pandas\\tests\\arithmetic\\test_numeric.py -> build\\lib.win-amd64-cpython-39\\pandas\\tests\\arithmetic\n",
            "      copying pandas\\tests\\arithmetic\\test_object.py -> build\\lib.win-amd64-cpython-39\\pandas\\tests\\arithmetic\n",
            "      copying pandas\\tests\\arithmetic\\test_period.py -> build\\lib.win-amd64-cpython-39\\pandas\\tests\\arithmetic\n",
            "      copying pandas\\tests\\arithmetic\\test_timedelta64.py -> build\\lib.win-amd64-cpython-39\\pandas\\tests\\arithmetic\n",
            "      copying pandas\\tests\\arithmetic\\__init__.py -> build\\lib.win-amd64-cpython-39\\pandas\\tests\\arithmetic\n",
            "      creating build\\lib.win-amd64-cpython-39\\pandas\\tests\\arrays\n",
            "      copying pandas\\tests\\arrays\\test_array.py -> build\\lib.win-amd64-cpython-39\\pandas\\tests\\arrays\n",
            "      copying pandas\\tests\\arrays\\test_datetimelike.py -> build\\lib.win-amd64-cpython-39\\pandas\\tests\\arrays\n",
            "      copying pandas\\tests\\arrays\\test_datetimes.py -> build\\lib.win-amd64-cpython-39\\pandas\\tests\\arrays\n",
            "      copying pandas\\tests\\arrays\\test_integer.py -> build\\lib.win-amd64-cpython-39\\pandas\\tests\\arrays\n",
            "      copying pandas\\tests\\arrays\\test_numpy.py -> build\\lib.win-amd64-cpython-39\\pandas\\tests\\arrays\n",
            "      copying pandas\\tests\\arrays\\test_period.py -> build\\lib.win-amd64-cpython-39\\pandas\\tests\\arrays\n",
            "      copying pandas\\tests\\arrays\\test_timedeltas.py -> build\\lib.win-amd64-cpython-39\\pandas\\tests\\arrays\n",
            "      copying pandas\\tests\\arrays\\__init__.py -> build\\lib.win-amd64-cpython-39\\pandas\\tests\\arrays\n",
            "      creating build\\lib.win-amd64-cpython-39\\pandas\\tests\\computation\n",
            "      copying pandas\\tests\\computation\\test_compat.py -> build\\lib.win-amd64-cpython-39\\pandas\\tests\\computation\n",
            "      copying pandas\\tests\\computation\\test_eval.py -> build\\lib.win-amd64-cpython-39\\pandas\\tests\\computation\n",
            "      copying pandas\\tests\\computation\\__init__.py -> build\\lib.win-amd64-cpython-39\\pandas\\tests\\computation\n",
            "      creating build\\lib.win-amd64-cpython-39\\pandas\\tests\\dtypes\n",
            "      copying pandas\\tests\\dtypes\\test_common.py -> build\\lib.win-amd64-cpython-39\\pandas\\tests\\dtypes\n",
            "      copying pandas\\tests\\dtypes\\test_concat.py -> build\\lib.win-amd64-cpython-39\\pandas\\tests\\dtypes\n",
            "      copying pandas\\tests\\dtypes\\test_dtypes.py -> build\\lib.win-amd64-cpython-39\\pandas\\tests\\dtypes\n",
            "      copying pandas\\tests\\dtypes\\test_generic.py -> build\\lib.win-amd64-cpython-39\\pandas\\tests\\dtypes\n",
            "      copying pandas\\tests\\dtypes\\test_inference.py -> build\\lib.win-amd64-cpython-39\\pandas\\tests\\dtypes\n",
            "      copying pandas\\tests\\dtypes\\test_missing.py -> build\\lib.win-amd64-cpython-39\\pandas\\tests\\dtypes\n",
            "      copying pandas\\tests\\dtypes\\__init__.py -> build\\lib.win-amd64-cpython-39\\pandas\\tests\\dtypes\n",
            "      creating build\\lib.win-amd64-cpython-39\\pandas\\tests\\extension\n",
            "      copying pandas\\tests\\extension\\conftest.py -> build\\lib.win-amd64-cpython-39\\pandas\\tests\\extension\n",
            "      copying pandas\\tests\\extension\\test_categorical.py -> build\\lib.win-amd64-cpython-39\\pandas\\tests\\extension\n",
            "      copying pandas\\tests\\extension\\test_common.py -> build\\lib.win-amd64-cpython-39\\pandas\\tests\\extension\n",
            "      copying pandas\\tests\\extension\\test_datetime.py -> build\\lib.win-amd64-cpython-39\\pandas\\tests\\extension\n",
            "      copying pandas\\tests\\extension\\test_external_block.py -> build\\lib.win-amd64-cpython-39\\pandas\\tests\\extension\n",
            "      copying pandas\\tests\\extension\\test_integer.py -> build\\lib.win-amd64-cpython-39\\pandas\\tests\\extension\n",
            "      copying pandas\\tests\\extension\\test_interval.py -> build\\lib.win-amd64-cpython-39\\pandas\\tests\\extension\n",
            "      copying pandas\\tests\\extension\\test_period.py -> build\\lib.win-amd64-cpython-39\\pandas\\tests\\extension\n",
            "      copying pandas\\tests\\extension\\test_sparse.py -> build\\lib.win-amd64-cpython-39\\pandas\\tests\\extension\n",
            "      copying pandas\\tests\\extension\\__init__.py -> build\\lib.win-amd64-cpython-39\\pandas\\tests\\extension\n",
            "      creating build\\lib.win-amd64-cpython-39\\pandas\\tests\\frame\n",
            "      copying pandas\\tests\\frame\\common.py -> build\\lib.win-amd64-cpython-39\\pandas\\tests\\frame\n",
            "      copying pandas\\tests\\frame\\conftest.py -> build\\lib.win-amd64-cpython-39\\pandas\\tests\\frame\n",
            "      copying pandas\\tests\\frame\\test_alter_axes.py -> build\\lib.win-amd64-cpython-39\\pandas\\tests\\frame\n",
            "      copying pandas\\tests\\frame\\test_analytics.py -> build\\lib.win-amd64-cpython-39\\pandas\\tests\\frame\n",
            "      copying pandas\\tests\\frame\\test_api.py -> build\\lib.win-amd64-cpython-39\\pandas\\tests\\frame\n",
            "      copying pandas\\tests\\frame\\test_apply.py -> build\\lib.win-amd64-cpython-39\\pandas\\tests\\frame\n",
            "      copying pandas\\tests\\frame\\test_arithmetic.py -> build\\lib.win-amd64-cpython-39\\pandas\\tests\\frame\n",
            "      copying pandas\\tests\\frame\\test_asof.py -> build\\lib.win-amd64-cpython-39\\pandas\\tests\\frame\n",
            "      copying pandas\\tests\\frame\\test_axis_select_reindex.py -> build\\lib.win-amd64-cpython-39\\pandas\\tests\\frame\n",
            "      copying pandas\\tests\\frame\\test_block_internals.py -> build\\lib.win-amd64-cpython-39\\pandas\\tests\\frame\n",
            "      copying pandas\\tests\\frame\\test_combine_concat.py -> build\\lib.win-amd64-cpython-39\\pandas\\tests\\frame\n",
            "      copying pandas\\tests\\frame\\test_constructors.py -> build\\lib.win-amd64-cpython-39\\pandas\\tests\\frame\n",
            "      copying pandas\\tests\\frame\\test_convert_to.py -> build\\lib.win-amd64-cpython-39\\pandas\\tests\\frame\n",
            "      copying pandas\\tests\\frame\\test_dtypes.py -> build\\lib.win-amd64-cpython-39\\pandas\\tests\\frame\n",
            "      copying pandas\\tests\\frame\\test_duplicates.py -> build\\lib.win-amd64-cpython-39\\pandas\\tests\\frame\n",
            "      copying pandas\\tests\\frame\\test_indexing.py -> build\\lib.win-amd64-cpython-39\\pandas\\tests\\frame\n",
            "      copying pandas\\tests\\frame\\test_join.py -> build\\lib.win-amd64-cpython-39\\pandas\\tests\\frame\n",
            "      copying pandas\\tests\\frame\\test_missing.py -> build\\lib.win-amd64-cpython-39\\pandas\\tests\\frame\n",
            "      copying pandas\\tests\\frame\\test_mutate_columns.py -> build\\lib.win-amd64-cpython-39\\pandas\\tests\\frame\n",
            "      copying pandas\\tests\\frame\\test_nonunique_indexes.py -> build\\lib.win-amd64-cpython-39\\pandas\\tests\\frame\n",
            "      copying pandas\\tests\\frame\\test_operators.py -> build\\lib.win-amd64-cpython-39\\pandas\\tests\\frame\n",
            "      copying pandas\\tests\\frame\\test_period.py -> build\\lib.win-amd64-cpython-39\\pandas\\tests\\frame\n",
            "      copying pandas\\tests\\frame\\test_quantile.py -> build\\lib.win-amd64-cpython-39\\pandas\\tests\\frame\n",
            "      copying pandas\\tests\\frame\\test_query_eval.py -> build\\lib.win-amd64-cpython-39\\pandas\\tests\\frame\n",
            "      copying pandas\\tests\\frame\\test_rank.py -> build\\lib.win-amd64-cpython-39\\pandas\\tests\\frame\n",
            "      copying pandas\\tests\\frame\\test_replace.py -> build\\lib.win-amd64-cpython-39\\pandas\\tests\\frame\n",
            "      copying pandas\\tests\\frame\\test_repr_info.py -> build\\lib.win-amd64-cpython-39\\pandas\\tests\\frame\n",
            "      copying pandas\\tests\\frame\\test_reshape.py -> build\\lib.win-amd64-cpython-39\\pandas\\tests\\frame\n",
            "      copying pandas\\tests\\frame\\test_sorting.py -> build\\lib.win-amd64-cpython-39\\pandas\\tests\\frame\n",
            "      copying pandas\\tests\\frame\\test_sort_values_level_as_str.py -> build\\lib.win-amd64-cpython-39\\pandas\\tests\\frame\n",
            "      copying pandas\\tests\\frame\\test_subclass.py -> build\\lib.win-amd64-cpython-39\\pandas\\tests\\frame\n",
            "      copying pandas\\tests\\frame\\test_timeseries.py -> build\\lib.win-amd64-cpython-39\\pandas\\tests\\frame\n",
            "      copying pandas\\tests\\frame\\test_timezones.py -> build\\lib.win-amd64-cpython-39\\pandas\\tests\\frame\n",
            "      copying pandas\\tests\\frame\\test_to_csv.py -> build\\lib.win-amd64-cpython-39\\pandas\\tests\\frame\n",
            "      copying pandas\\tests\\frame\\test_validate.py -> build\\lib.win-amd64-cpython-39\\pandas\\tests\\frame\n",
            "      copying pandas\\tests\\frame\\__init__.py -> build\\lib.win-amd64-cpython-39\\pandas\\tests\\frame\n",
            "      creating build\\lib.win-amd64-cpython-39\\pandas\\tests\\generic\n",
            "      copying pandas\\tests\\generic\\test_frame.py -> build\\lib.win-amd64-cpython-39\\pandas\\tests\\generic\n",
            "      copying pandas\\tests\\generic\\test_generic.py -> build\\lib.win-amd64-cpython-39\\pandas\\tests\\generic\n",
            "      copying pandas\\tests\\generic\\test_label_or_level_utils.py -> build\\lib.win-amd64-cpython-39\\pandas\\tests\\generic\n",
            "      copying pandas\\tests\\generic\\test_panel.py -> build\\lib.win-amd64-cpython-39\\pandas\\tests\\generic\n",
            "      copying pandas\\tests\\generic\\test_series.py -> build\\lib.win-amd64-cpython-39\\pandas\\tests\\generic\n",
            "      copying pandas\\tests\\generic\\__init__.py -> build\\lib.win-amd64-cpython-39\\pandas\\tests\\generic\n",
            "      creating build\\lib.win-amd64-cpython-39\\pandas\\tests\\groupby\n",
            "      copying pandas\\tests\\groupby\\conftest.py -> build\\lib.win-amd64-cpython-39\\pandas\\tests\\groupby\n",
            "      copying pandas\\tests\\groupby\\test_apply.py -> build\\lib.win-amd64-cpython-39\\pandas\\tests\\groupby\n",
            "      copying pandas\\tests\\groupby\\test_bin_groupby.py -> build\\lib.win-amd64-cpython-39\\pandas\\tests\\groupby\n",
            "      copying pandas\\tests\\groupby\\test_categorical.py -> build\\lib.win-amd64-cpython-39\\pandas\\tests\\groupby\n",
            "      copying pandas\\tests\\groupby\\test_counting.py -> build\\lib.win-amd64-cpython-39\\pandas\\tests\\groupby\n",
            "      copying pandas\\tests\\groupby\\test_filters.py -> build\\lib.win-amd64-cpython-39\\pandas\\tests\\groupby\n",
            "      copying pandas\\tests\\groupby\\test_function.py -> build\\lib.win-amd64-cpython-39\\pandas\\tests\\groupby\n",
            "      copying pandas\\tests\\groupby\\test_groupby.py -> build\\lib.win-amd64-cpython-39\\pandas\\tests\\groupby\n",
            "      copying pandas\\tests\\groupby\\test_grouping.py -> build\\lib.win-amd64-cpython-39\\pandas\\tests\\groupby\n",
            "      copying pandas\\tests\\groupby\\test_index_as_string.py -> build\\lib.win-amd64-cpython-39\\pandas\\tests\\groupby\n",
            "      copying pandas\\tests\\groupby\\test_nth.py -> build\\lib.win-amd64-cpython-39\\pandas\\tests\\groupby\n",
            "      copying pandas\\tests\\groupby\\test_rank.py -> build\\lib.win-amd64-cpython-39\\pandas\\tests\\groupby\n",
            "      copying pandas\\tests\\groupby\\test_timegrouper.py -> build\\lib.win-amd64-cpython-39\\pandas\\tests\\groupby\n",
            "      copying pandas\\tests\\groupby\\test_transform.py -> build\\lib.win-amd64-cpython-39\\pandas\\tests\\groupby\n",
            "      copying pandas\\tests\\groupby\\test_value_counts.py -> build\\lib.win-amd64-cpython-39\\pandas\\tests\\groupby\n",
            "      copying pandas\\tests\\groupby\\test_whitelist.py -> build\\lib.win-amd64-cpython-39\\pandas\\tests\\groupby\n",
            "      copying pandas\\tests\\groupby\\__init__.py -> build\\lib.win-amd64-cpython-39\\pandas\\tests\\groupby\n",
            "      creating build\\lib.win-amd64-cpython-39\\pandas\\tests\\indexes\n",
            "      copying pandas\\tests\\indexes\\common.py -> build\\lib.win-amd64-cpython-39\\pandas\\tests\\indexes\n",
            "      copying pandas\\tests\\indexes\\conftest.py -> build\\lib.win-amd64-cpython-39\\pandas\\tests\\indexes\n",
            "      copying pandas\\tests\\indexes\\datetimelike.py -> build\\lib.win-amd64-cpython-39\\pandas\\tests\\indexes\n",
            "      copying pandas\\tests\\indexes\\test_base.py -> build\\lib.win-amd64-cpython-39\\pandas\\tests\\indexes\n",
            "      copying pandas\\tests\\indexes\\test_category.py -> build\\lib.win-amd64-cpython-39\\pandas\\tests\\indexes\n",
            "      copying pandas\\tests\\indexes\\test_common.py -> build\\lib.win-amd64-cpython-39\\pandas\\tests\\indexes\n",
            "      copying pandas\\tests\\indexes\\test_frozen.py -> build\\lib.win-amd64-cpython-39\\pandas\\tests\\indexes\n",
            "      copying pandas\\tests\\indexes\\test_numeric.py -> build\\lib.win-amd64-cpython-39\\pandas\\tests\\indexes\n",
            "      copying pandas\\tests\\indexes\\test_range.py -> build\\lib.win-amd64-cpython-39\\pandas\\tests\\indexes\n",
            "      copying pandas\\tests\\indexes\\__init__.py -> build\\lib.win-amd64-cpython-39\\pandas\\tests\\indexes\n",
            "      creating build\\lib.win-amd64-cpython-39\\pandas\\tests\\indexing\n",
            "      copying pandas\\tests\\indexing\\common.py -> build\\lib.win-amd64-cpython-39\\pandas\\tests\\indexing\n",
            "      copying pandas\\tests\\indexing\\conftest.py -> build\\lib.win-amd64-cpython-39\\pandas\\tests\\indexing\n",
            "      copying pandas\\tests\\indexing\\test_callable.py -> build\\lib.win-amd64-cpython-39\\pandas\\tests\\indexing\n",
            "      copying pandas\\tests\\indexing\\test_categorical.py -> build\\lib.win-amd64-cpython-39\\pandas\\tests\\indexing\n",
            "      copying pandas\\tests\\indexing\\test_chaining_and_caching.py -> build\\lib.win-amd64-cpython-39\\pandas\\tests\\indexing\n",
            "      copying pandas\\tests\\indexing\\test_coercion.py -> build\\lib.win-amd64-cpython-39\\pandas\\tests\\indexing\n",
            "      copying pandas\\tests\\indexing\\test_datetime.py -> build\\lib.win-amd64-cpython-39\\pandas\\tests\\indexing\n",
            "      copying pandas\\tests\\indexing\\test_floats.py -> build\\lib.win-amd64-cpython-39\\pandas\\tests\\indexing\n",
            "      copying pandas\\tests\\indexing\\test_iloc.py -> build\\lib.win-amd64-cpython-39\\pandas\\tests\\indexing\n",
            "      copying pandas\\tests\\indexing\\test_indexing.py -> build\\lib.win-amd64-cpython-39\\pandas\\tests\\indexing\n",
            "      copying pandas\\tests\\indexing\\test_indexing_engines.py -> build\\lib.win-amd64-cpython-39\\pandas\\tests\\indexing\n",
            "      copying pandas\\tests\\indexing\\test_indexing_slow.py -> build\\lib.win-amd64-cpython-39\\pandas\\tests\\indexing\n",
            "      copying pandas\\tests\\indexing\\test_ix.py -> build\\lib.win-amd64-cpython-39\\pandas\\tests\\indexing\n",
            "      copying pandas\\tests\\indexing\\test_loc.py -> build\\lib.win-amd64-cpython-39\\pandas\\tests\\indexing\n",
            "      copying pandas\\tests\\indexing\\test_panel.py -> build\\lib.win-amd64-cpython-39\\pandas\\tests\\indexing\n",
            "      copying pandas\\tests\\indexing\\test_partial.py -> build\\lib.win-amd64-cpython-39\\pandas\\tests\\indexing\n",
            "      copying pandas\\tests\\indexing\\test_scalar.py -> build\\lib.win-amd64-cpython-39\\pandas\\tests\\indexing\n",
            "      copying pandas\\tests\\indexing\\test_timedelta.py -> build\\lib.win-amd64-cpython-39\\pandas\\tests\\indexing\n",
            "      copying pandas\\tests\\indexing\\__init__.py -> build\\lib.win-amd64-cpython-39\\pandas\\tests\\indexing\n",
            "      creating build\\lib.win-amd64-cpython-39\\pandas\\tests\\internals\n",
            "      copying pandas\\tests\\internals\\test_internals.py -> build\\lib.win-amd64-cpython-39\\pandas\\tests\\internals\n",
            "      copying pandas\\tests\\internals\\__init__.py -> build\\lib.win-amd64-cpython-39\\pandas\\tests\\internals\n",
            "      creating build\\lib.win-amd64-cpython-39\\pandas\\tests\\io\n",
            "      copying pandas\\tests\\io\\conftest.py -> build\\lib.win-amd64-cpython-39\\pandas\\tests\\io\n",
            "      copying pandas\\tests\\io\\generate_legacy_storage_files.py -> build\\lib.win-amd64-cpython-39\\pandas\\tests\\io\n",
            "      copying pandas\\tests\\io\\test_clipboard.py -> build\\lib.win-amd64-cpython-39\\pandas\\tests\\io\n",
            "      copying pandas\\tests\\io\\test_common.py -> build\\lib.win-amd64-cpython-39\\pandas\\tests\\io\n",
            "      copying pandas\\tests\\io\\test_compression.py -> build\\lib.win-amd64-cpython-39\\pandas\\tests\\io\n",
            "      copying pandas\\tests\\io\\test_date_converters.py -> build\\lib.win-amd64-cpython-39\\pandas\\tests\\io\n",
            "      copying pandas\\tests\\io\\test_excel.py -> build\\lib.win-amd64-cpython-39\\pandas\\tests\\io\n",
            "      copying pandas\\tests\\io\\test_feather.py -> build\\lib.win-amd64-cpython-39\\pandas\\tests\\io\n",
            "      copying pandas\\tests\\io\\test_gbq.py -> build\\lib.win-amd64-cpython-39\\pandas\\tests\\io\n",
            "      copying pandas\\tests\\io\\test_gcs.py -> build\\lib.win-amd64-cpython-39\\pandas\\tests\\io\n",
            "      copying pandas\\tests\\io\\test_html.py -> build\\lib.win-amd64-cpython-39\\pandas\\tests\\io\n",
            "      copying pandas\\tests\\io\\test_packers.py -> build\\lib.win-amd64-cpython-39\\pandas\\tests\\io\n",
            "      copying pandas\\tests\\io\\test_parquet.py -> build\\lib.win-amd64-cpython-39\\pandas\\tests\\io\n",
            "      copying pandas\\tests\\io\\test_pickle.py -> build\\lib.win-amd64-cpython-39\\pandas\\tests\\io\n",
            "      copying pandas\\tests\\io\\test_pytables.py -> build\\lib.win-amd64-cpython-39\\pandas\\tests\\io\n",
            "      copying pandas\\tests\\io\\test_s3.py -> build\\lib.win-amd64-cpython-39\\pandas\\tests\\io\n",
            "      copying pandas\\tests\\io\\test_sql.py -> build\\lib.win-amd64-cpython-39\\pandas\\tests\\io\n",
            "      copying pandas\\tests\\io\\test_stata.py -> build\\lib.win-amd64-cpython-39\\pandas\\tests\\io\n",
            "      copying pandas\\tests\\io\\__init__.py -> build\\lib.win-amd64-cpython-39\\pandas\\tests\\io\n",
            "      creating build\\lib.win-amd64-cpython-39\\pandas\\tests\\plotting\n",
            "      copying pandas\\tests\\plotting\\common.py -> build\\lib.win-amd64-cpython-39\\pandas\\tests\\plotting\n",
            "      copying pandas\\tests\\plotting\\test_boxplot_method.py -> build\\lib.win-amd64-cpython-39\\pandas\\tests\\plotting\n",
            "      copying pandas\\tests\\plotting\\test_converter.py -> build\\lib.win-amd64-cpython-39\\pandas\\tests\\plotting\n",
            "      copying pandas\\tests\\plotting\\test_datetimelike.py -> build\\lib.win-amd64-cpython-39\\pandas\\tests\\plotting\n",
            "      copying pandas\\tests\\plotting\\test_frame.py -> build\\lib.win-amd64-cpython-39\\pandas\\tests\\plotting\n",
            "      copying pandas\\tests\\plotting\\test_groupby.py -> build\\lib.win-amd64-cpython-39\\pandas\\tests\\plotting\n",
            "      copying pandas\\tests\\plotting\\test_hist_method.py -> build\\lib.win-amd64-cpython-39\\pandas\\tests\\plotting\n",
            "      copying pandas\\tests\\plotting\\test_misc.py -> build\\lib.win-amd64-cpython-39\\pandas\\tests\\plotting\n",
            "      copying pandas\\tests\\plotting\\test_series.py -> build\\lib.win-amd64-cpython-39\\pandas\\tests\\plotting\n",
            "      copying pandas\\tests\\plotting\\__init__.py -> build\\lib.win-amd64-cpython-39\\pandas\\tests\\plotting\n",
            "      creating build\\lib.win-amd64-cpython-39\\pandas\\tests\\reductions\n",
            "      copying pandas\\tests\\reductions\\test_reductions.py -> build\\lib.win-amd64-cpython-39\\pandas\\tests\\reductions\n",
            "      copying pandas\\tests\\reductions\\test_stat_reductions.py -> build\\lib.win-amd64-cpython-39\\pandas\\tests\\reductions\n",
            "      copying pandas\\tests\\reductions\\__init__.py -> build\\lib.win-amd64-cpython-39\\pandas\\tests\\reductions\n",
            "      creating build\\lib.win-amd64-cpython-39\\pandas\\tests\\resample\n",
            "      copying pandas\\tests\\resample\\conftest.py -> build\\lib.win-amd64-cpython-39\\pandas\\tests\\resample\n",
            "      copying pandas\\tests\\resample\\test_base.py -> build\\lib.win-amd64-cpython-39\\pandas\\tests\\resample\n",
            "      copying pandas\\tests\\resample\\test_datetime_index.py -> build\\lib.win-amd64-cpython-39\\pandas\\tests\\resample\n",
            "      copying pandas\\tests\\resample\\test_period_index.py -> build\\lib.win-amd64-cpython-39\\pandas\\tests\\resample\n",
            "      copying pandas\\tests\\resample\\test_resampler_grouper.py -> build\\lib.win-amd64-cpython-39\\pandas\\tests\\resample\n",
            "      copying pandas\\tests\\resample\\test_resample_api.py -> build\\lib.win-amd64-cpython-39\\pandas\\tests\\resample\n",
            "      copying pandas\\tests\\resample\\test_timedelta.py -> build\\lib.win-amd64-cpython-39\\pandas\\tests\\resample\n",
            "      copying pandas\\tests\\resample\\test_time_grouper.py -> build\\lib.win-amd64-cpython-39\\pandas\\tests\\resample\n",
            "      copying pandas\\tests\\resample\\__init__.py -> build\\lib.win-amd64-cpython-39\\pandas\\tests\\resample\n",
            "      creating build\\lib.win-amd64-cpython-39\\pandas\\tests\\reshape\n",
            "      copying pandas\\tests\\reshape\\test_concat.py -> build\\lib.win-amd64-cpython-39\\pandas\\tests\\reshape\n",
            "      copying pandas\\tests\\reshape\\test_cut.py -> build\\lib.win-amd64-cpython-39\\pandas\\tests\\reshape\n",
            "      copying pandas\\tests\\reshape\\test_melt.py -> build\\lib.win-amd64-cpython-39\\pandas\\tests\\reshape\n",
            "      copying pandas\\tests\\reshape\\test_pivot.py -> build\\lib.win-amd64-cpython-39\\pandas\\tests\\reshape\n",
            "      copying pandas\\tests\\reshape\\test_qcut.py -> build\\lib.win-amd64-cpython-39\\pandas\\tests\\reshape\n",
            "      copying pandas\\tests\\reshape\\test_reshape.py -> build\\lib.win-amd64-cpython-39\\pandas\\tests\\reshape\n",
            "      copying pandas\\tests\\reshape\\test_union_categoricals.py -> build\\lib.win-amd64-cpython-39\\pandas\\tests\\reshape\n",
            "      copying pandas\\tests\\reshape\\test_util.py -> build\\lib.win-amd64-cpython-39\\pandas\\tests\\reshape\n",
            "      copying pandas\\tests\\reshape\\__init__.py -> build\\lib.win-amd64-cpython-39\\pandas\\tests\\reshape\n",
            "      creating build\\lib.win-amd64-cpython-39\\pandas\\tests\\scalar\n",
            "      copying pandas\\tests\\scalar\\test_nat.py -> build\\lib.win-amd64-cpython-39\\pandas\\tests\\scalar\n",
            "      copying pandas\\tests\\scalar\\__init__.py -> build\\lib.win-amd64-cpython-39\\pandas\\tests\\scalar\n",
            "      creating build\\lib.win-amd64-cpython-39\\pandas\\tests\\series\n",
            "      copying pandas\\tests\\series\\common.py -> build\\lib.win-amd64-cpython-39\\pandas\\tests\\series\n",
            "      copying pandas\\tests\\series\\conftest.py -> build\\lib.win-amd64-cpython-39\\pandas\\tests\\series\n",
            "      copying pandas\\tests\\series\\test_alter_axes.py -> build\\lib.win-amd64-cpython-39\\pandas\\tests\\series\n",
            "      copying pandas\\tests\\series\\test_analytics.py -> build\\lib.win-amd64-cpython-39\\pandas\\tests\\series\n",
            "      copying pandas\\tests\\series\\test_api.py -> build\\lib.win-amd64-cpython-39\\pandas\\tests\\series\n",
            "      copying pandas\\tests\\series\\test_apply.py -> build\\lib.win-amd64-cpython-39\\pandas\\tests\\series\n",
            "      copying pandas\\tests\\series\\test_arithmetic.py -> build\\lib.win-amd64-cpython-39\\pandas\\tests\\series\n",
            "      copying pandas\\tests\\series\\test_asof.py -> build\\lib.win-amd64-cpython-39\\pandas\\tests\\series\n",
            "      copying pandas\\tests\\series\\test_block_internals.py -> build\\lib.win-amd64-cpython-39\\pandas\\tests\\series\n",
            "      copying pandas\\tests\\series\\test_combine_concat.py -> build\\lib.win-amd64-cpython-39\\pandas\\tests\\series\n",
            "      copying pandas\\tests\\series\\test_constructors.py -> build\\lib.win-amd64-cpython-39\\pandas\\tests\\series\n",
            "      copying pandas\\tests\\series\\test_datetime_values.py -> build\\lib.win-amd64-cpython-39\\pandas\\tests\\series\n",
            "      copying pandas\\tests\\series\\test_dtypes.py -> build\\lib.win-amd64-cpython-39\\pandas\\tests\\series\n",
            "      copying pandas\\tests\\series\\test_duplicates.py -> build\\lib.win-amd64-cpython-39\\pandas\\tests\\series\n",
            "      copying pandas\\tests\\series\\test_internals.py -> build\\lib.win-amd64-cpython-39\\pandas\\tests\\series\n",
            "      copying pandas\\tests\\series\\test_io.py -> build\\lib.win-amd64-cpython-39\\pandas\\tests\\series\n",
            "      copying pandas\\tests\\series\\test_missing.py -> build\\lib.win-amd64-cpython-39\\pandas\\tests\\series\n",
            "      copying pandas\\tests\\series\\test_operators.py -> build\\lib.win-amd64-cpython-39\\pandas\\tests\\series\n",
            "      copying pandas\\tests\\series\\test_period.py -> build\\lib.win-amd64-cpython-39\\pandas\\tests\\series\n",
            "      copying pandas\\tests\\series\\test_quantile.py -> build\\lib.win-amd64-cpython-39\\pandas\\tests\\series\n",
            "      copying pandas\\tests\\series\\test_rank.py -> build\\lib.win-amd64-cpython-39\\pandas\\tests\\series\n",
            "      copying pandas\\tests\\series\\test_replace.py -> build\\lib.win-amd64-cpython-39\\pandas\\tests\\series\n",
            "      copying pandas\\tests\\series\\test_repr.py -> build\\lib.win-amd64-cpython-39\\pandas\\tests\\series\n",
            "      copying pandas\\tests\\series\\test_sorting.py -> build\\lib.win-amd64-cpython-39\\pandas\\tests\\series\n",
            "      copying pandas\\tests\\series\\test_subclass.py -> build\\lib.win-amd64-cpython-39\\pandas\\tests\\series\n",
            "      copying pandas\\tests\\series\\test_timeseries.py -> build\\lib.win-amd64-cpython-39\\pandas\\tests\\series\n",
            "      copying pandas\\tests\\series\\test_timezones.py -> build\\lib.win-amd64-cpython-39\\pandas\\tests\\series\n",
            "      copying pandas\\tests\\series\\test_validate.py -> build\\lib.win-amd64-cpython-39\\pandas\\tests\\series\n",
            "      copying pandas\\tests\\series\\__init__.py -> build\\lib.win-amd64-cpython-39\\pandas\\tests\\series\n",
            "      creating build\\lib.win-amd64-cpython-39\\pandas\\tests\\sparse\n",
            "      copying pandas\\tests\\sparse\\common.py -> build\\lib.win-amd64-cpython-39\\pandas\\tests\\sparse\n",
            "      copying pandas\\tests\\sparse\\test_combine_concat.py -> build\\lib.win-amd64-cpython-39\\pandas\\tests\\sparse\n",
            "      copying pandas\\tests\\sparse\\test_format.py -> build\\lib.win-amd64-cpython-39\\pandas\\tests\\sparse\n",
            "      copying pandas\\tests\\sparse\\test_groupby.py -> build\\lib.win-amd64-cpython-39\\pandas\\tests\\sparse\n",
            "      copying pandas\\tests\\sparse\\test_indexing.py -> build\\lib.win-amd64-cpython-39\\pandas\\tests\\sparse\n",
            "      copying pandas\\tests\\sparse\\test_pivot.py -> build\\lib.win-amd64-cpython-39\\pandas\\tests\\sparse\n",
            "      copying pandas\\tests\\sparse\\test_reshape.py -> build\\lib.win-amd64-cpython-39\\pandas\\tests\\sparse\n",
            "      copying pandas\\tests\\sparse\\__init__.py -> build\\lib.win-amd64-cpython-39\\pandas\\tests\\sparse\n",
            "      creating build\\lib.win-amd64-cpython-39\\pandas\\tests\\tools\n",
            "      copying pandas\\tests\\tools\\test_numeric.py -> build\\lib.win-amd64-cpython-39\\pandas\\tests\\tools\n",
            "      copying pandas\\tests\\tools\\__init__.py -> build\\lib.win-amd64-cpython-39\\pandas\\tests\\tools\n",
            "      creating build\\lib.win-amd64-cpython-39\\pandas\\tests\\tseries\n",
            "      copying pandas\\tests\\tseries\\test_frequencies.py -> build\\lib.win-amd64-cpython-39\\pandas\\tests\\tseries\n",
            "      copying pandas\\tests\\tseries\\test_holiday.py -> build\\lib.win-amd64-cpython-39\\pandas\\tests\\tseries\n",
            "      copying pandas\\tests\\tseries\\__init__.py -> build\\lib.win-amd64-cpython-39\\pandas\\tests\\tseries\n",
            "      creating build\\lib.win-amd64-cpython-39\\pandas\\tests\\tslibs\n",
            "      copying pandas\\tests\\tslibs\\test_api.py -> build\\lib.win-amd64-cpython-39\\pandas\\tests\\tslibs\n",
            "      copying pandas\\tests\\tslibs\\test_array_to_datetime.py -> build\\lib.win-amd64-cpython-39\\pandas\\tests\\tslibs\n",
            "      copying pandas\\tests\\tslibs\\test_ccalendar.py -> build\\lib.win-amd64-cpython-39\\pandas\\tests\\tslibs\n",
            "      copying pandas\\tests\\tslibs\\test_conversion.py -> build\\lib.win-amd64-cpython-39\\pandas\\tests\\tslibs\n",
            "      copying pandas\\tests\\tslibs\\test_libfrequencies.py -> build\\lib.win-amd64-cpython-39\\pandas\\tests\\tslibs\n",
            "      copying pandas\\tests\\tslibs\\test_liboffsets.py -> build\\lib.win-amd64-cpython-39\\pandas\\tests\\tslibs\n",
            "      copying pandas\\tests\\tslibs\\test_normalize_date.py -> build\\lib.win-amd64-cpython-39\\pandas\\tests\\tslibs\n",
            "      copying pandas\\tests\\tslibs\\test_parse_iso8601.py -> build\\lib.win-amd64-cpython-39\\pandas\\tests\\tslibs\n",
            "      copying pandas\\tests\\tslibs\\test_parsing.py -> build\\lib.win-amd64-cpython-39\\pandas\\tests\\tslibs\n",
            "      copying pandas\\tests\\tslibs\\test_period_asfreq.py -> build\\lib.win-amd64-cpython-39\\pandas\\tests\\tslibs\n",
            "      copying pandas\\tests\\tslibs\\test_timedeltas.py -> build\\lib.win-amd64-cpython-39\\pandas\\tests\\tslibs\n",
            "      copying pandas\\tests\\tslibs\\test_timezones.py -> build\\lib.win-amd64-cpython-39\\pandas\\tests\\tslibs\n",
            "      copying pandas\\tests\\tslibs\\__init__.py -> build\\lib.win-amd64-cpython-39\\pandas\\tests\\tslibs\n",
            "      creating build\\lib.win-amd64-cpython-39\\pandas\\tests\\util\n",
            "      copying pandas\\tests\\util\\conftest.py -> build\\lib.win-amd64-cpython-39\\pandas\\tests\\util\n",
            "      copying pandas\\tests\\util\\test_assert_almost_equal.py -> build\\lib.win-amd64-cpython-39\\pandas\\tests\\util\n",
            "      copying pandas\\tests\\util\\test_assert_categorical_equal.py -> build\\lib.win-amd64-cpython-39\\pandas\\tests\\util\n",
            "      copying pandas\\tests\\util\\test_assert_extension_array_equal.py -> build\\lib.win-amd64-cpython-39\\pandas\\tests\\util\n",
            "      copying pandas\\tests\\util\\test_assert_frame_equal.py -> build\\lib.win-amd64-cpython-39\\pandas\\tests\\util\n",
            "      copying pandas\\tests\\util\\test_assert_index_equal.py -> build\\lib.win-amd64-cpython-39\\pandas\\tests\\util\n",
            "      copying pandas\\tests\\util\\test_assert_interval_array_equal.py -> build\\lib.win-amd64-cpython-39\\pandas\\tests\\util\n",
            "      copying pandas\\tests\\util\\test_assert_numpy_array_equal.py -> build\\lib.win-amd64-cpython-39\\pandas\\tests\\util\n",
            "      copying pandas\\tests\\util\\test_assert_series_equal.py -> build\\lib.win-amd64-cpython-39\\pandas\\tests\\util\n",
            "      copying pandas\\tests\\util\\test_deprecate.py -> build\\lib.win-amd64-cpython-39\\pandas\\tests\\util\n",
            "      copying pandas\\tests\\util\\test_deprecate_kwarg.py -> build\\lib.win-amd64-cpython-39\\pandas\\tests\\util\n",
            "      copying pandas\\tests\\util\\test_hashing.py -> build\\lib.win-amd64-cpython-39\\pandas\\tests\\util\n",
            "      copying pandas\\tests\\util\\test_locale.py -> build\\lib.win-amd64-cpython-39\\pandas\\tests\\util\n",
            "      copying pandas\\tests\\util\\test_move.py -> build\\lib.win-amd64-cpython-39\\pandas\\tests\\util\n",
            "      copying pandas\\tests\\util\\test_safe_import.py -> build\\lib.win-amd64-cpython-39\\pandas\\tests\\util\n",
            "      copying pandas\\tests\\util\\test_util.py -> build\\lib.win-amd64-cpython-39\\pandas\\tests\\util\n",
            "      copying pandas\\tests\\util\\test_validate_args.py -> build\\lib.win-amd64-cpython-39\\pandas\\tests\\util\n",
            "      copying pandas\\tests\\util\\test_validate_args_and_kwargs.py -> build\\lib.win-amd64-cpython-39\\pandas\\tests\\util\n",
            "      copying pandas\\tests\\util\\test_validate_kwargs.py -> build\\lib.win-amd64-cpython-39\\pandas\\tests\\util\n",
            "      copying pandas\\tests\\util\\__init__.py -> build\\lib.win-amd64-cpython-39\\pandas\\tests\\util\n",
            "      creating build\\lib.win-amd64-cpython-39\\pandas\\tests\\arrays\\categorical\n",
            "      copying pandas\\tests\\arrays\\categorical\\common.py -> build\\lib.win-amd64-cpython-39\\pandas\\tests\\arrays\\categorical\n",
            "      copying pandas\\tests\\arrays\\categorical\\conftest.py -> build\\lib.win-amd64-cpython-39\\pandas\\tests\\arrays\\categorical\n",
            "      copying pandas\\tests\\arrays\\categorical\\test_algos.py -> build\\lib.win-amd64-cpython-39\\pandas\\tests\\arrays\\categorical\n",
            "      copying pandas\\tests\\arrays\\categorical\\test_analytics.py -> build\\lib.win-amd64-cpython-39\\pandas\\tests\\arrays\\categorical\n",
            "      copying pandas\\tests\\arrays\\categorical\\test_api.py -> build\\lib.win-amd64-cpython-39\\pandas\\tests\\arrays\\categorical\n",
            "      copying pandas\\tests\\arrays\\categorical\\test_constructors.py -> build\\lib.win-amd64-cpython-39\\pandas\\tests\\arrays\\categorical\n",
            "      copying pandas\\tests\\arrays\\categorical\\test_dtypes.py -> build\\lib.win-amd64-cpython-39\\pandas\\tests\\arrays\\categorical\n",
            "      copying pandas\\tests\\arrays\\categorical\\test_indexing.py -> build\\lib.win-amd64-cpython-39\\pandas\\tests\\arrays\\categorical\n",
            "      copying pandas\\tests\\arrays\\categorical\\test_missing.py -> build\\lib.win-amd64-cpython-39\\pandas\\tests\\arrays\\categorical\n",
            "      copying pandas\\tests\\arrays\\categorical\\test_operators.py -> build\\lib.win-amd64-cpython-39\\pandas\\tests\\arrays\\categorical\n",
            "      copying pandas\\tests\\arrays\\categorical\\test_repr.py -> build\\lib.win-amd64-cpython-39\\pandas\\tests\\arrays\\categorical\n",
            "      copying pandas\\tests\\arrays\\categorical\\test_sorting.py -> build\\lib.win-amd64-cpython-39\\pandas\\tests\\arrays\\categorical\n",
            "      copying pandas\\tests\\arrays\\categorical\\test_subclass.py -> build\\lib.win-amd64-cpython-39\\pandas\\tests\\arrays\\categorical\n",
            "      copying pandas\\tests\\arrays\\categorical\\test_warnings.py -> build\\lib.win-amd64-cpython-39\\pandas\\tests\\arrays\\categorical\n",
            "      copying pandas\\tests\\arrays\\categorical\\__init__.py -> build\\lib.win-amd64-cpython-39\\pandas\\tests\\arrays\\categorical\n",
            "      creating build\\lib.win-amd64-cpython-39\\pandas\\tests\\arrays\\interval\n",
            "      copying pandas\\tests\\arrays\\interval\\test_interval.py -> build\\lib.win-amd64-cpython-39\\pandas\\tests\\arrays\\interval\n",
            "      copying pandas\\tests\\arrays\\interval\\test_ops.py -> build\\lib.win-amd64-cpython-39\\pandas\\tests\\arrays\\interval\n",
            "      copying pandas\\tests\\arrays\\interval\\__init__.py -> build\\lib.win-amd64-cpython-39\\pandas\\tests\\arrays\\interval\n",
            "      creating build\\lib.win-amd64-cpython-39\\pandas\\tests\\arrays\\sparse\n",
            "      copying pandas\\tests\\arrays\\sparse\\test_arithmetics.py -> build\\lib.win-amd64-cpython-39\\pandas\\tests\\arrays\\sparse\n",
            "      copying pandas\\tests\\arrays\\sparse\\test_array.py -> build\\lib.win-amd64-cpython-39\\pandas\\tests\\arrays\\sparse\n",
            "      copying pandas\\tests\\arrays\\sparse\\test_dtype.py -> build\\lib.win-amd64-cpython-39\\pandas\\tests\\arrays\\sparse\n",
            "      copying pandas\\tests\\arrays\\sparse\\test_libsparse.py -> build\\lib.win-amd64-cpython-39\\pandas\\tests\\arrays\\sparse\n",
            "      copying pandas\\tests\\arrays\\sparse\\__init__.py -> build\\lib.win-amd64-cpython-39\\pandas\\tests\\arrays\\sparse\n",
            "      creating build\\lib.win-amd64-cpython-39\\pandas\\tests\\dtypes\\cast\n",
            "      copying pandas\\tests\\dtypes\\cast\\test_construct_from_scalar.py -> build\\lib.win-amd64-cpython-39\\pandas\\tests\\dtypes\\cast\n",
            "      copying pandas\\tests\\dtypes\\cast\\test_construct_ndarray.py -> build\\lib.win-amd64-cpython-39\\pandas\\tests\\dtypes\\cast\n",
            "      copying pandas\\tests\\dtypes\\cast\\test_construct_object_arr.py -> build\\lib.win-amd64-cpython-39\\pandas\\tests\\dtypes\\cast\n",
            "      copying pandas\\tests\\dtypes\\cast\\test_convert_objects.py -> build\\lib.win-amd64-cpython-39\\pandas\\tests\\dtypes\\cast\n",
            "      copying pandas\\tests\\dtypes\\cast\\test_downcast.py -> build\\lib.win-amd64-cpython-39\\pandas\\tests\\dtypes\\cast\n",
            "      copying pandas\\tests\\dtypes\\cast\\test_find_common_type.py -> build\\lib.win-amd64-cpython-39\\pandas\\tests\\dtypes\\cast\n",
            "      copying pandas\\tests\\dtypes\\cast\\test_infer_datetimelike.py -> build\\lib.win-amd64-cpython-39\\pandas\\tests\\dtypes\\cast\n",
            "      copying pandas\\tests\\dtypes\\cast\\test_infer_dtype.py -> build\\lib.win-amd64-cpython-39\\pandas\\tests\\dtypes\\cast\n",
            "      copying pandas\\tests\\dtypes\\cast\\__init__.py -> build\\lib.win-amd64-cpython-39\\pandas\\tests\\dtypes\\cast\n",
            "      creating build\\lib.win-amd64-cpython-39\\pandas\\tests\\extension\\arrow\n",
            "      copying pandas\\tests\\extension\\arrow\\bool.py -> build\\lib.win-amd64-cpython-39\\pandas\\tests\\extension\\arrow\n",
            "      copying pandas\\tests\\extension\\arrow\\test_bool.py -> build\\lib.win-amd64-cpython-39\\pandas\\tests\\extension\\arrow\n",
            "      copying pandas\\tests\\extension\\arrow\\__init__.py -> build\\lib.win-amd64-cpython-39\\pandas\\tests\\extension\\arrow\n",
            "      creating build\\lib.win-amd64-cpython-39\\pandas\\tests\\extension\\base\n",
            "      copying pandas\\tests\\extension\\base\\base.py -> build\\lib.win-amd64-cpython-39\\pandas\\tests\\extension\\base\n",
            "      copying pandas\\tests\\extension\\base\\casting.py -> build\\lib.win-amd64-cpython-39\\pandas\\tests\\extension\\base\n",
            "      copying pandas\\tests\\extension\\base\\constructors.py -> build\\lib.win-amd64-cpython-39\\pandas\\tests\\extension\\base\n",
            "      copying pandas\\tests\\extension\\base\\dtype.py -> build\\lib.win-amd64-cpython-39\\pandas\\tests\\extension\\base\n",
            "      copying pandas\\tests\\extension\\base\\getitem.py -> build\\lib.win-amd64-cpython-39\\pandas\\tests\\extension\\base\n",
            "      copying pandas\\tests\\extension\\base\\groupby.py -> build\\lib.win-amd64-cpython-39\\pandas\\tests\\extension\\base\n",
            "      copying pandas\\tests\\extension\\base\\interface.py -> build\\lib.win-amd64-cpython-39\\pandas\\tests\\extension\\base\n",
            "      copying pandas\\tests\\extension\\base\\io.py -> build\\lib.win-amd64-cpython-39\\pandas\\tests\\extension\\base\n",
            "      copying pandas\\tests\\extension\\base\\methods.py -> build\\lib.win-amd64-cpython-39\\pandas\\tests\\extension\\base\n",
            "      copying pandas\\tests\\extension\\base\\missing.py -> build\\lib.win-amd64-cpython-39\\pandas\\tests\\extension\\base\n",
            "      copying pandas\\tests\\extension\\base\\ops.py -> build\\lib.win-amd64-cpython-39\\pandas\\tests\\extension\\base\n",
            "      copying pandas\\tests\\extension\\base\\printing.py -> build\\lib.win-amd64-cpython-39\\pandas\\tests\\extension\\base\n",
            "      copying pandas\\tests\\extension\\base\\reduce.py -> build\\lib.win-amd64-cpython-39\\pandas\\tests\\extension\\base\n",
            "      copying pandas\\tests\\extension\\base\\reshaping.py -> build\\lib.win-amd64-cpython-39\\pandas\\tests\\extension\\base\n",
            "      copying pandas\\tests\\extension\\base\\setitem.py -> build\\lib.win-amd64-cpython-39\\pandas\\tests\\extension\\base\n",
            "      copying pandas\\tests\\extension\\base\\__init__.py -> build\\lib.win-amd64-cpython-39\\pandas\\tests\\extension\\base\n",
            "      creating build\\lib.win-amd64-cpython-39\\pandas\\tests\\extension\\decimal\n",
            "      copying pandas\\tests\\extension\\decimal\\array.py -> build\\lib.win-amd64-cpython-39\\pandas\\tests\\extension\\decimal\n",
            "      copying pandas\\tests\\extension\\decimal\\test_decimal.py -> build\\lib.win-amd64-cpython-39\\pandas\\tests\\extension\\decimal\n",
            "      copying pandas\\tests\\extension\\decimal\\__init__.py -> build\\lib.win-amd64-cpython-39\\pandas\\tests\\extension\\decimal\n",
            "      creating build\\lib.win-amd64-cpython-39\\pandas\\tests\\extension\\json\n",
            "      copying pandas\\tests\\extension\\json\\array.py -> build\\lib.win-amd64-cpython-39\\pandas\\tests\\extension\\json\n",
            "      copying pandas\\tests\\extension\\json\\test_json.py -> build\\lib.win-amd64-cpython-39\\pandas\\tests\\extension\\json\n",
            "      copying pandas\\tests\\extension\\json\\__init__.py -> build\\lib.win-amd64-cpython-39\\pandas\\tests\\extension\\json\n",
            "      creating build\\lib.win-amd64-cpython-39\\pandas\\tests\\extension\\numpy_\n",
            "      copying pandas\\tests\\extension\\numpy_\\conftest.py -> build\\lib.win-amd64-cpython-39\\pandas\\tests\\extension\\numpy_\n",
            "      copying pandas\\tests\\extension\\numpy_\\test_numpy.py -> build\\lib.win-amd64-cpython-39\\pandas\\tests\\extension\\numpy_\n",
            "      copying pandas\\tests\\extension\\numpy_\\test_numpy_nested.py -> build\\lib.win-amd64-cpython-39\\pandas\\tests\\extension\\numpy_\n",
            "      copying pandas\\tests\\extension\\numpy_\\__init__.py -> build\\lib.win-amd64-cpython-39\\pandas\\tests\\extension\\numpy_\n",
            "      creating build\\lib.win-amd64-cpython-39\\pandas\\tests\\groupby\\aggregate\n",
            "      copying pandas\\tests\\groupby\\aggregate\\test_aggregate.py -> build\\lib.win-amd64-cpython-39\\pandas\\tests\\groupby\\aggregate\n",
            "      copying pandas\\tests\\groupby\\aggregate\\test_cython.py -> build\\lib.win-amd64-cpython-39\\pandas\\tests\\groupby\\aggregate\n",
            "      copying pandas\\tests\\groupby\\aggregate\\test_other.py -> build\\lib.win-amd64-cpython-39\\pandas\\tests\\groupby\\aggregate\n",
            "      copying pandas\\tests\\groupby\\aggregate\\__init__.py -> build\\lib.win-amd64-cpython-39\\pandas\\tests\\groupby\\aggregate\n",
            "      creating build\\lib.win-amd64-cpython-39\\pandas\\tests\\indexes\\datetimes\n",
            "      copying pandas\\tests\\indexes\\datetimes\\test_arithmetic.py -> build\\lib.win-amd64-cpython-39\\pandas\\tests\\indexes\\datetimes\n",
            "      copying pandas\\tests\\indexes\\datetimes\\test_astype.py -> build\\lib.win-amd64-cpython-39\\pandas\\tests\\indexes\\datetimes\n",
            "      copying pandas\\tests\\indexes\\datetimes\\test_construction.py -> build\\lib.win-amd64-cpython-39\\pandas\\tests\\indexes\\datetimes\n",
            "      copying pandas\\tests\\indexes\\datetimes\\test_datetime.py -> build\\lib.win-amd64-cpython-39\\pandas\\tests\\indexes\\datetimes\n",
            "      copying pandas\\tests\\indexes\\datetimes\\test_datetimelike.py -> build\\lib.win-amd64-cpython-39\\pandas\\tests\\indexes\\datetimes\n",
            "      copying pandas\\tests\\indexes\\datetimes\\test_date_range.py -> build\\lib.win-amd64-cpython-39\\pandas\\tests\\indexes\\datetimes\n",
            "      copying pandas\\tests\\indexes\\datetimes\\test_formats.py -> build\\lib.win-amd64-cpython-39\\pandas\\tests\\indexes\\datetimes\n",
            "      copying pandas\\tests\\indexes\\datetimes\\test_indexing.py -> build\\lib.win-amd64-cpython-39\\pandas\\tests\\indexes\\datetimes\n",
            "      copying pandas\\tests\\indexes\\datetimes\\test_misc.py -> build\\lib.win-amd64-cpython-39\\pandas\\tests\\indexes\\datetimes\n",
            "      copying pandas\\tests\\indexes\\datetimes\\test_missing.py -> build\\lib.win-amd64-cpython-39\\pandas\\tests\\indexes\\datetimes\n",
            "      copying pandas\\tests\\indexes\\datetimes\\test_ops.py -> build\\lib.win-amd64-cpython-39\\pandas\\tests\\indexes\\datetimes\n",
            "      copying pandas\\tests\\indexes\\datetimes\\test_partial_slicing.py -> build\\lib.win-amd64-cpython-39\\pandas\\tests\\indexes\\datetimes\n",
            "      copying pandas\\tests\\indexes\\datetimes\\test_scalar_compat.py -> build\\lib.win-amd64-cpython-39\\pandas\\tests\\indexes\\datetimes\n",
            "      copying pandas\\tests\\indexes\\datetimes\\test_setops.py -> build\\lib.win-amd64-cpython-39\\pandas\\tests\\indexes\\datetimes\n",
            "      copying pandas\\tests\\indexes\\datetimes\\test_timezones.py -> build\\lib.win-amd64-cpython-39\\pandas\\tests\\indexes\\datetimes\n",
            "      copying pandas\\tests\\indexes\\datetimes\\test_tools.py -> build\\lib.win-amd64-cpython-39\\pandas\\tests\\indexes\\datetimes\n",
            "      copying pandas\\tests\\indexes\\datetimes\\__init__.py -> build\\lib.win-amd64-cpython-39\\pandas\\tests\\indexes\\datetimes\n",
            "      creating build\\lib.win-amd64-cpython-39\\pandas\\tests\\indexes\\interval\n",
            "      copying pandas\\tests\\indexes\\interval\\test_astype.py -> build\\lib.win-amd64-cpython-39\\pandas\\tests\\indexes\\interval\n",
            "      copying pandas\\tests\\indexes\\interval\\test_construction.py -> build\\lib.win-amd64-cpython-39\\pandas\\tests\\indexes\\interval\n",
            "      copying pandas\\tests\\indexes\\interval\\test_interval.py -> build\\lib.win-amd64-cpython-39\\pandas\\tests\\indexes\\interval\n",
            "      copying pandas\\tests\\indexes\\interval\\test_interval_new.py -> build\\lib.win-amd64-cpython-39\\pandas\\tests\\indexes\\interval\n",
            "      copying pandas\\tests\\indexes\\interval\\test_interval_range.py -> build\\lib.win-amd64-cpython-39\\pandas\\tests\\indexes\\interval\n",
            "      copying pandas\\tests\\indexes\\interval\\test_interval_tree.py -> build\\lib.win-amd64-cpython-39\\pandas\\tests\\indexes\\interval\n",
            "      copying pandas\\tests\\indexes\\interval\\__init__.py -> build\\lib.win-amd64-cpython-39\\pandas\\tests\\indexes\\interval\n",
            "      creating build\\lib.win-amd64-cpython-39\\pandas\\tests\\indexes\\multi\n",
            "      copying pandas\\tests\\indexes\\multi\\conftest.py -> build\\lib.win-amd64-cpython-39\\pandas\\tests\\indexes\\multi\n",
            "      copying pandas\\tests\\indexes\\multi\\test_analytics.py -> build\\lib.win-amd64-cpython-39\\pandas\\tests\\indexes\\multi\n",
            "      copying pandas\\tests\\indexes\\multi\\test_astype.py -> build\\lib.win-amd64-cpython-39\\pandas\\tests\\indexes\\multi\n",
            "      copying pandas\\tests\\indexes\\multi\\test_compat.py -> build\\lib.win-amd64-cpython-39\\pandas\\tests\\indexes\\multi\n",
            "      copying pandas\\tests\\indexes\\multi\\test_constructor.py -> build\\lib.win-amd64-cpython-39\\pandas\\tests\\indexes\\multi\n",
            "      copying pandas\\tests\\indexes\\multi\\test_contains.py -> build\\lib.win-amd64-cpython-39\\pandas\\tests\\indexes\\multi\n",
            "      copying pandas\\tests\\indexes\\multi\\test_conversion.py -> build\\lib.win-amd64-cpython-39\\pandas\\tests\\indexes\\multi\n",
            "      copying pandas\\tests\\indexes\\multi\\test_copy.py -> build\\lib.win-amd64-cpython-39\\pandas\\tests\\indexes\\multi\n",
            "      copying pandas\\tests\\indexes\\multi\\test_drop.py -> build\\lib.win-amd64-cpython-39\\pandas\\tests\\indexes\\multi\n",
            "      copying pandas\\tests\\indexes\\multi\\test_duplicates.py -> build\\lib.win-amd64-cpython-39\\pandas\\tests\\indexes\\multi\n",
            "      copying pandas\\tests\\indexes\\multi\\test_equivalence.py -> build\\lib.win-amd64-cpython-39\\pandas\\tests\\indexes\\multi\n",
            "      copying pandas\\tests\\indexes\\multi\\test_format.py -> build\\lib.win-amd64-cpython-39\\pandas\\tests\\indexes\\multi\n",
            "      copying pandas\\tests\\indexes\\multi\\test_get_set.py -> build\\lib.win-amd64-cpython-39\\pandas\\tests\\indexes\\multi\n",
            "      copying pandas\\tests\\indexes\\multi\\test_indexing.py -> build\\lib.win-amd64-cpython-39\\pandas\\tests\\indexes\\multi\n",
            "      copying pandas\\tests\\indexes\\multi\\test_integrity.py -> build\\lib.win-amd64-cpython-39\\pandas\\tests\\indexes\\multi\n",
            "      copying pandas\\tests\\indexes\\multi\\test_join.py -> build\\lib.win-amd64-cpython-39\\pandas\\tests\\indexes\\multi\n",
            "      copying pandas\\tests\\indexes\\multi\\test_missing.py -> build\\lib.win-amd64-cpython-39\\pandas\\tests\\indexes\\multi\n",
            "      copying pandas\\tests\\indexes\\multi\\test_monotonic.py -> build\\lib.win-amd64-cpython-39\\pandas\\tests\\indexes\\multi\n",
            "      copying pandas\\tests\\indexes\\multi\\test_names.py -> build\\lib.win-amd64-cpython-39\\pandas\\tests\\indexes\\multi\n",
            "      copying pandas\\tests\\indexes\\multi\\test_partial_indexing.py -> build\\lib.win-amd64-cpython-39\\pandas\\tests\\indexes\\multi\n",
            "      copying pandas\\tests\\indexes\\multi\\test_reindex.py -> build\\lib.win-amd64-cpython-39\\pandas\\tests\\indexes\\multi\n",
            "      copying pandas\\tests\\indexes\\multi\\test_reshape.py -> build\\lib.win-amd64-cpython-39\\pandas\\tests\\indexes\\multi\n",
            "      copying pandas\\tests\\indexes\\multi\\test_set_ops.py -> build\\lib.win-amd64-cpython-39\\pandas\\tests\\indexes\\multi\n",
            "      copying pandas\\tests\\indexes\\multi\\test_sorting.py -> build\\lib.win-amd64-cpython-39\\pandas\\tests\\indexes\\multi\n",
            "      copying pandas\\tests\\indexes\\multi\\__init__.py -> build\\lib.win-amd64-cpython-39\\pandas\\tests\\indexes\\multi\n",
            "      creating build\\lib.win-amd64-cpython-39\\pandas\\tests\\indexes\\period\n",
            "      copying pandas\\tests\\indexes\\period\\test_arithmetic.py -> build\\lib.win-amd64-cpython-39\\pandas\\tests\\indexes\\period\n",
            "      copying pandas\\tests\\indexes\\period\\test_asfreq.py -> build\\lib.win-amd64-cpython-39\\pandas\\tests\\indexes\\period\n",
            "      copying pandas\\tests\\indexes\\period\\test_astype.py -> build\\lib.win-amd64-cpython-39\\pandas\\tests\\indexes\\period\n",
            "      copying pandas\\tests\\indexes\\period\\test_construction.py -> build\\lib.win-amd64-cpython-39\\pandas\\tests\\indexes\\period\n",
            "      copying pandas\\tests\\indexes\\period\\test_formats.py -> build\\lib.win-amd64-cpython-39\\pandas\\tests\\indexes\\period\n",
            "      copying pandas\\tests\\indexes\\period\\test_indexing.py -> build\\lib.win-amd64-cpython-39\\pandas\\tests\\indexes\\period\n",
            "      copying pandas\\tests\\indexes\\period\\test_ops.py -> build\\lib.win-amd64-cpython-39\\pandas\\tests\\indexes\\period\n",
            "      copying pandas\\tests\\indexes\\period\\test_partial_slicing.py -> build\\lib.win-amd64-cpython-39\\pandas\\tests\\indexes\\period\n",
            "      copying pandas\\tests\\indexes\\period\\test_period.py -> build\\lib.win-amd64-cpython-39\\pandas\\tests\\indexes\\period\n",
            "      copying pandas\\tests\\indexes\\period\\test_period_range.py -> build\\lib.win-amd64-cpython-39\\pandas\\tests\\indexes\\period\n",
            "      copying pandas\\tests\\indexes\\period\\test_scalar_compat.py -> build\\lib.win-amd64-cpython-39\\pandas\\tests\\indexes\\period\n",
            "      copying pandas\\tests\\indexes\\period\\test_setops.py -> build\\lib.win-amd64-cpython-39\\pandas\\tests\\indexes\\period\n",
            "      copying pandas\\tests\\indexes\\period\\test_tools.py -> build\\lib.win-amd64-cpython-39\\pandas\\tests\\indexes\\period\n",
            "      copying pandas\\tests\\indexes\\period\\__init__.py -> build\\lib.win-amd64-cpython-39\\pandas\\tests\\indexes\\period\n",
            "      creating build\\lib.win-amd64-cpython-39\\pandas\\tests\\indexes\\timedeltas\n",
            "      copying pandas\\tests\\indexes\\timedeltas\\test_arithmetic.py -> build\\lib.win-amd64-cpython-39\\pandas\\tests\\indexes\\timedeltas\n",
            "      copying pandas\\tests\\indexes\\timedeltas\\test_astype.py -> build\\lib.win-amd64-cpython-39\\pandas\\tests\\indexes\\timedeltas\n",
            "      copying pandas\\tests\\indexes\\timedeltas\\test_construction.py -> build\\lib.win-amd64-cpython-39\\pandas\\tests\\indexes\\timedeltas\n",
            "      copying pandas\\tests\\indexes\\timedeltas\\test_formats.py -> build\\lib.win-amd64-cpython-39\\pandas\\tests\\indexes\\timedeltas\n",
            "      copying pandas\\tests\\indexes\\timedeltas\\test_indexing.py -> build\\lib.win-amd64-cpython-39\\pandas\\tests\\indexes\\timedeltas\n",
            "      copying pandas\\tests\\indexes\\timedeltas\\test_ops.py -> build\\lib.win-amd64-cpython-39\\pandas\\tests\\indexes\\timedeltas\n",
            "      copying pandas\\tests\\indexes\\timedeltas\\test_partial_slicing.py -> build\\lib.win-amd64-cpython-39\\pandas\\tests\\indexes\\timedeltas\n",
            "      copying pandas\\tests\\indexes\\timedeltas\\test_scalar_compat.py -> build\\lib.win-amd64-cpython-39\\pandas\\tests\\indexes\\timedeltas\n",
            "      copying pandas\\tests\\indexes\\timedeltas\\test_setops.py -> build\\lib.win-amd64-cpython-39\\pandas\\tests\\indexes\\timedeltas\n",
            "      copying pandas\\tests\\indexes\\timedeltas\\test_timedelta.py -> build\\lib.win-amd64-cpython-39\\pandas\\tests\\indexes\\timedeltas\n",
            "      copying pandas\\tests\\indexes\\timedeltas\\test_timedelta_range.py -> build\\lib.win-amd64-cpython-39\\pandas\\tests\\indexes\\timedeltas\n",
            "      copying pandas\\tests\\indexes\\timedeltas\\test_tools.py -> build\\lib.win-amd64-cpython-39\\pandas\\tests\\indexes\\timedeltas\n",
            "      copying pandas\\tests\\indexes\\timedeltas\\__init__.py -> build\\lib.win-amd64-cpython-39\\pandas\\tests\\indexes\\timedeltas\n",
            "      creating build\\lib.win-amd64-cpython-39\\pandas\\tests\\indexing\\interval\n",
            "      copying pandas\\tests\\indexing\\interval\\test_interval.py -> build\\lib.win-amd64-cpython-39\\pandas\\tests\\indexing\\interval\n",
            "      copying pandas\\tests\\indexing\\interval\\test_interval_new.py -> build\\lib.win-amd64-cpython-39\\pandas\\tests\\indexing\\interval\n",
            "      copying pandas\\tests\\indexing\\interval\\__init__.py -> build\\lib.win-amd64-cpython-39\\pandas\\tests\\indexing\\interval\n",
            "      creating build\\lib.win-amd64-cpython-39\\pandas\\tests\\indexing\\multiindex\n",
            "      copying pandas\\tests\\indexing\\multiindex\\conftest.py -> build\\lib.win-amd64-cpython-39\\pandas\\tests\\indexing\\multiindex\n",
            "      copying pandas\\tests\\indexing\\multiindex\\test_chaining_and_caching.py -> build\\lib.win-amd64-cpython-39\\pandas\\tests\\indexing\\multiindex\n",
            "      copying pandas\\tests\\indexing\\multiindex\\test_datetime.py -> build\\lib.win-amd64-cpython-39\\pandas\\tests\\indexing\\multiindex\n",
            "      copying pandas\\tests\\indexing\\multiindex\\test_getitem.py -> build\\lib.win-amd64-cpython-39\\pandas\\tests\\indexing\\multiindex\n",
            "      copying pandas\\tests\\indexing\\multiindex\\test_iloc.py -> build\\lib.win-amd64-cpython-39\\pandas\\tests\\indexing\\multiindex\n",
            "      copying pandas\\tests\\indexing\\multiindex\\test_indexing_slow.py -> build\\lib.win-amd64-cpython-39\\pandas\\tests\\indexing\\multiindex\n",
            "      copying pandas\\tests\\indexing\\multiindex\\test_ix.py -> build\\lib.win-amd64-cpython-39\\pandas\\tests\\indexing\\multiindex\n",
            "      copying pandas\\tests\\indexing\\multiindex\\test_loc.py -> build\\lib.win-amd64-cpython-39\\pandas\\tests\\indexing\\multiindex\n",
            "      copying pandas\\tests\\indexing\\multiindex\\test_multiindex.py -> build\\lib.win-amd64-cpython-39\\pandas\\tests\\indexing\\multiindex\n",
            "      copying pandas\\tests\\indexing\\multiindex\\test_panel.py -> build\\lib.win-amd64-cpython-39\\pandas\\tests\\indexing\\multiindex\n",
            "      copying pandas\\tests\\indexing\\multiindex\\test_partial.py -> build\\lib.win-amd64-cpython-39\\pandas\\tests\\indexing\\multiindex\n",
            "      copying pandas\\tests\\indexing\\multiindex\\test_setitem.py -> build\\lib.win-amd64-cpython-39\\pandas\\tests\\indexing\\multiindex\n",
            "      copying pandas\\tests\\indexing\\multiindex\\test_set_ops.py -> build\\lib.win-amd64-cpython-39\\pandas\\tests\\indexing\\multiindex\n",
            "      copying pandas\\tests\\indexing\\multiindex\\test_slice.py -> build\\lib.win-amd64-cpython-39\\pandas\\tests\\indexing\\multiindex\n",
            "      copying pandas\\tests\\indexing\\multiindex\\test_sorted.py -> build\\lib.win-amd64-cpython-39\\pandas\\tests\\indexing\\multiindex\n",
            "      copying pandas\\tests\\indexing\\multiindex\\test_xs.py -> build\\lib.win-amd64-cpython-39\\pandas\\tests\\indexing\\multiindex\n",
            "      copying pandas\\tests\\indexing\\multiindex\\__init__.py -> build\\lib.win-amd64-cpython-39\\pandas\\tests\\indexing\\multiindex\n",
            "      creating build\\lib.win-amd64-cpython-39\\pandas\\tests\\io\\formats\n",
            "      copying pandas\\tests\\io\\formats\\test_console.py -> build\\lib.win-amd64-cpython-39\\pandas\\tests\\io\\formats\n",
            "      copying pandas\\tests\\io\\formats\\test_css.py -> build\\lib.win-amd64-cpython-39\\pandas\\tests\\io\\formats\n",
            "      copying pandas\\tests\\io\\formats\\test_eng_formatting.py -> build\\lib.win-amd64-cpython-39\\pandas\\tests\\io\\formats\n",
            "      copying pandas\\tests\\io\\formats\\test_format.py -> build\\lib.win-amd64-cpython-39\\pandas\\tests\\io\\formats\n",
            "      copying pandas\\tests\\io\\formats\\test_printing.py -> build\\lib.win-amd64-cpython-39\\pandas\\tests\\io\\formats\n",
            "      copying pandas\\tests\\io\\formats\\test_style.py -> build\\lib.win-amd64-cpython-39\\pandas\\tests\\io\\formats\n",
            "      copying pandas\\tests\\io\\formats\\test_to_csv.py -> build\\lib.win-amd64-cpython-39\\pandas\\tests\\io\\formats\n",
            "      copying pandas\\tests\\io\\formats\\test_to_excel.py -> build\\lib.win-amd64-cpython-39\\pandas\\tests\\io\\formats\n",
            "      copying pandas\\tests\\io\\formats\\test_to_html.py -> build\\lib.win-amd64-cpython-39\\pandas\\tests\\io\\formats\n",
            "      copying pandas\\tests\\io\\formats\\test_to_latex.py -> build\\lib.win-amd64-cpython-39\\pandas\\tests\\io\\formats\n",
            "      copying pandas\\tests\\io\\formats\\__init__.py -> build\\lib.win-amd64-cpython-39\\pandas\\tests\\io\\formats\n",
            "      creating build\\lib.win-amd64-cpython-39\\pandas\\tests\\io\\json\n",
            "      copying pandas\\tests\\io\\json\\test_compression.py -> build\\lib.win-amd64-cpython-39\\pandas\\tests\\io\\json\n",
            "      copying pandas\\tests\\io\\json\\test_json_table_schema.py -> build\\lib.win-amd64-cpython-39\\pandas\\tests\\io\\json\n",
            "      copying pandas\\tests\\io\\json\\test_normalize.py -> build\\lib.win-amd64-cpython-39\\pandas\\tests\\io\\json\n",
            "      copying pandas\\tests\\io\\json\\test_pandas.py -> build\\lib.win-amd64-cpython-39\\pandas\\tests\\io\\json\n",
            "      copying pandas\\tests\\io\\json\\test_readlines.py -> build\\lib.win-amd64-cpython-39\\pandas\\tests\\io\\json\n",
            "      copying pandas\\tests\\io\\json\\test_ujson.py -> build\\lib.win-amd64-cpython-39\\pandas\\tests\\io\\json\n",
            "      copying pandas\\tests\\io\\json\\__init__.py -> build\\lib.win-amd64-cpython-39\\pandas\\tests\\io\\json\n",
            "      creating build\\lib.win-amd64-cpython-39\\pandas\\tests\\io\\msgpack\n",
            "      copying pandas\\tests\\io\\msgpack\\common.py -> build\\lib.win-amd64-cpython-39\\pandas\\tests\\io\\msgpack\n",
            "      copying pandas\\tests\\io\\msgpack\\test_buffer.py -> build\\lib.win-amd64-cpython-39\\pandas\\tests\\io\\msgpack\n",
            "      copying pandas\\tests\\io\\msgpack\\test_case.py -> build\\lib.win-amd64-cpython-39\\pandas\\tests\\io\\msgpack\n",
            "      copying pandas\\tests\\io\\msgpack\\test_except.py -> build\\lib.win-amd64-cpython-39\\pandas\\tests\\io\\msgpack\n",
            "      copying pandas\\tests\\io\\msgpack\\test_extension.py -> build\\lib.win-amd64-cpython-39\\pandas\\tests\\io\\msgpack\n",
            "      copying pandas\\tests\\io\\msgpack\\test_format.py -> build\\lib.win-amd64-cpython-39\\pandas\\tests\\io\\msgpack\n",
            "      copying pandas\\tests\\io\\msgpack\\test_limits.py -> build\\lib.win-amd64-cpython-39\\pandas\\tests\\io\\msgpack\n",
            "      copying pandas\\tests\\io\\msgpack\\test_newspec.py -> build\\lib.win-amd64-cpython-39\\pandas\\tests\\io\\msgpack\n",
            "      copying pandas\\tests\\io\\msgpack\\test_obj.py -> build\\lib.win-amd64-cpython-39\\pandas\\tests\\io\\msgpack\n",
            "      copying pandas\\tests\\io\\msgpack\\test_pack.py -> build\\lib.win-amd64-cpython-39\\pandas\\tests\\io\\msgpack\n",
            "      copying pandas\\tests\\io\\msgpack\\test_read_size.py -> build\\lib.win-amd64-cpython-39\\pandas\\tests\\io\\msgpack\n",
            "      copying pandas\\tests\\io\\msgpack\\test_seq.py -> build\\lib.win-amd64-cpython-39\\pandas\\tests\\io\\msgpack\n",
            "      copying pandas\\tests\\io\\msgpack\\test_sequnpack.py -> build\\lib.win-amd64-cpython-39\\pandas\\tests\\io\\msgpack\n",
            "      copying pandas\\tests\\io\\msgpack\\test_subtype.py -> build\\lib.win-amd64-cpython-39\\pandas\\tests\\io\\msgpack\n",
            "      copying pandas\\tests\\io\\msgpack\\test_unpack.py -> build\\lib.win-amd64-cpython-39\\pandas\\tests\\io\\msgpack\n",
            "      copying pandas\\tests\\io\\msgpack\\test_unpack_raw.py -> build\\lib.win-amd64-cpython-39\\pandas\\tests\\io\\msgpack\n",
            "      copying pandas\\tests\\io\\msgpack\\__init__.py -> build\\lib.win-amd64-cpython-39\\pandas\\tests\\io\\msgpack\n",
            "      creating build\\lib.win-amd64-cpython-39\\pandas\\tests\\io\\parser\n",
            "      copying pandas\\tests\\io\\parser\\conftest.py -> build\\lib.win-amd64-cpython-39\\pandas\\tests\\io\\parser\n",
            "      copying pandas\\tests\\io\\parser\\test_comment.py -> build\\lib.win-amd64-cpython-39\\pandas\\tests\\io\\parser\n",
            "      copying pandas\\tests\\io\\parser\\test_common.py -> build\\lib.win-amd64-cpython-39\\pandas\\tests\\io\\parser\n",
            "      copying pandas\\tests\\io\\parser\\test_compression.py -> build\\lib.win-amd64-cpython-39\\pandas\\tests\\io\\parser\n",
            "      copying pandas\\tests\\io\\parser\\test_converters.py -> build\\lib.win-amd64-cpython-39\\pandas\\tests\\io\\parser\n",
            "      copying pandas\\tests\\io\\parser\\test_c_parser_only.py -> build\\lib.win-amd64-cpython-39\\pandas\\tests\\io\\parser\n",
            "      copying pandas\\tests\\io\\parser\\test_dialect.py -> build\\lib.win-amd64-cpython-39\\pandas\\tests\\io\\parser\n",
            "      copying pandas\\tests\\io\\parser\\test_dtypes.py -> build\\lib.win-amd64-cpython-39\\pandas\\tests\\io\\parser\n",
            "      copying pandas\\tests\\io\\parser\\test_header.py -> build\\lib.win-amd64-cpython-39\\pandas\\tests\\io\\parser\n",
            "      copying pandas\\tests\\io\\parser\\test_index_col.py -> build\\lib.win-amd64-cpython-39\\pandas\\tests\\io\\parser\n",
            "      copying pandas\\tests\\io\\parser\\test_mangle_dupes.py -> build\\lib.win-amd64-cpython-39\\pandas\\tests\\io\\parser\n",
            "      copying pandas\\tests\\io\\parser\\test_multi_thread.py -> build\\lib.win-amd64-cpython-39\\pandas\\tests\\io\\parser\n",
            "      copying pandas\\tests\\io\\parser\\test_na_values.py -> build\\lib.win-amd64-cpython-39\\pandas\\tests\\io\\parser\n",
            "      copying pandas\\tests\\io\\parser\\test_network.py -> build\\lib.win-amd64-cpython-39\\pandas\\tests\\io\\parser\n",
            "      copying pandas\\tests\\io\\parser\\test_parse_dates.py -> build\\lib.win-amd64-cpython-39\\pandas\\tests\\io\\parser\n",
            "      copying pandas\\tests\\io\\parser\\test_python_parser_only.py -> build\\lib.win-amd64-cpython-39\\pandas\\tests\\io\\parser\n",
            "      copying pandas\\tests\\io\\parser\\test_quoting.py -> build\\lib.win-amd64-cpython-39\\pandas\\tests\\io\\parser\n",
            "      copying pandas\\tests\\io\\parser\\test_read_fwf.py -> build\\lib.win-amd64-cpython-39\\pandas\\tests\\io\\parser\n",
            "      copying pandas\\tests\\io\\parser\\test_skiprows.py -> build\\lib.win-amd64-cpython-39\\pandas\\tests\\io\\parser\n",
            "      copying pandas\\tests\\io\\parser\\test_textreader.py -> build\\lib.win-amd64-cpython-39\\pandas\\tests\\io\\parser\n",
            "      copying pandas\\tests\\io\\parser\\test_unsupported.py -> build\\lib.win-amd64-cpython-39\\pandas\\tests\\io\\parser\n",
            "      copying pandas\\tests\\io\\parser\\test_usecols.py -> build\\lib.win-amd64-cpython-39\\pandas\\tests\\io\\parser\n",
            "      copying pandas\\tests\\io\\parser\\__init__.py -> build\\lib.win-amd64-cpython-39\\pandas\\tests\\io\\parser\n",
            "      creating build\\lib.win-amd64-cpython-39\\pandas\\tests\\io\\sas\n",
            "      copying pandas\\tests\\io\\sas\\test_sas.py -> build\\lib.win-amd64-cpython-39\\pandas\\tests\\io\\sas\n",
            "      copying pandas\\tests\\io\\sas\\test_sas7bdat.py -> build\\lib.win-amd64-cpython-39\\pandas\\tests\\io\\sas\n",
            "      copying pandas\\tests\\io\\sas\\test_xport.py -> build\\lib.win-amd64-cpython-39\\pandas\\tests\\io\\sas\n",
            "      copying pandas\\tests\\io\\sas\\__init__.py -> build\\lib.win-amd64-cpython-39\\pandas\\tests\\io\\sas\n",
            "      creating build\\lib.win-amd64-cpython-39\\pandas\\tests\\reshape\\merge\n",
            "      copying pandas\\tests\\reshape\\merge\\test_join.py -> build\\lib.win-amd64-cpython-39\\pandas\\tests\\reshape\\merge\n",
            "      copying pandas\\tests\\reshape\\merge\\test_merge.py -> build\\lib.win-amd64-cpython-39\\pandas\\tests\\reshape\\merge\n",
            "      copying pandas\\tests\\reshape\\merge\\test_merge_asof.py -> build\\lib.win-amd64-cpython-39\\pandas\\tests\\reshape\\merge\n",
            "      copying pandas\\tests\\reshape\\merge\\test_merge_index_as_string.py -> build\\lib.win-amd64-cpython-39\\pandas\\tests\\reshape\\merge\n",
            "      copying pandas\\tests\\reshape\\merge\\test_merge_ordered.py -> build\\lib.win-amd64-cpython-39\\pandas\\tests\\reshape\\merge\n",
            "      copying pandas\\tests\\reshape\\merge\\test_multi.py -> build\\lib.win-amd64-cpython-39\\pandas\\tests\\reshape\\merge\n",
            "      copying pandas\\tests\\reshape\\merge\\__init__.py -> build\\lib.win-amd64-cpython-39\\pandas\\tests\\reshape\\merge\n",
            "      creating build\\lib.win-amd64-cpython-39\\pandas\\tests\\scalar\\interval\n",
            "      copying pandas\\tests\\scalar\\interval\\test_interval.py -> build\\lib.win-amd64-cpython-39\\pandas\\tests\\scalar\\interval\n",
            "      copying pandas\\tests\\scalar\\interval\\test_ops.py -> build\\lib.win-amd64-cpython-39\\pandas\\tests\\scalar\\interval\n",
            "      copying pandas\\tests\\scalar\\interval\\__init__.py -> build\\lib.win-amd64-cpython-39\\pandas\\tests\\scalar\\interval\n",
            "      creating build\\lib.win-amd64-cpython-39\\pandas\\tests\\scalar\\period\n",
            "      copying pandas\\tests\\scalar\\period\\test_asfreq.py -> build\\lib.win-amd64-cpython-39\\pandas\\tests\\scalar\\period\n",
            "      copying pandas\\tests\\scalar\\period\\test_period.py -> build\\lib.win-amd64-cpython-39\\pandas\\tests\\scalar\\period\n",
            "      copying pandas\\tests\\scalar\\period\\__init__.py -> build\\lib.win-amd64-cpython-39\\pandas\\tests\\scalar\\period\n",
            "      creating build\\lib.win-amd64-cpython-39\\pandas\\tests\\scalar\\timedelta\n",
            "      copying pandas\\tests\\scalar\\timedelta\\test_arithmetic.py -> build\\lib.win-amd64-cpython-39\\pandas\\tests\\scalar\\timedelta\n",
            "      copying pandas\\tests\\scalar\\timedelta\\test_construction.py -> build\\lib.win-amd64-cpython-39\\pandas\\tests\\scalar\\timedelta\n",
            "      copying pandas\\tests\\scalar\\timedelta\\test_formats.py -> build\\lib.win-amd64-cpython-39\\pandas\\tests\\scalar\\timedelta\n",
            "      copying pandas\\tests\\scalar\\timedelta\\test_timedelta.py -> build\\lib.win-amd64-cpython-39\\pandas\\tests\\scalar\\timedelta\n",
            "      copying pandas\\tests\\scalar\\timedelta\\__init__.py -> build\\lib.win-amd64-cpython-39\\pandas\\tests\\scalar\\timedelta\n",
            "      creating build\\lib.win-amd64-cpython-39\\pandas\\tests\\scalar\\timestamp\n",
            "      copying pandas\\tests\\scalar\\timestamp\\test_arithmetic.py -> build\\lib.win-amd64-cpython-39\\pandas\\tests\\scalar\\timestamp\n",
            "      copying pandas\\tests\\scalar\\timestamp\\test_comparisons.py -> build\\lib.win-amd64-cpython-39\\pandas\\tests\\scalar\\timestamp\n",
            "      copying pandas\\tests\\scalar\\timestamp\\test_rendering.py -> build\\lib.win-amd64-cpython-39\\pandas\\tests\\scalar\\timestamp\n",
            "      copying pandas\\tests\\scalar\\timestamp\\test_timestamp.py -> build\\lib.win-amd64-cpython-39\\pandas\\tests\\scalar\\timestamp\n",
            "      copying pandas\\tests\\scalar\\timestamp\\test_timezones.py -> build\\lib.win-amd64-cpython-39\\pandas\\tests\\scalar\\timestamp\n",
            "      copying pandas\\tests\\scalar\\timestamp\\test_unary_ops.py -> build\\lib.win-amd64-cpython-39\\pandas\\tests\\scalar\\timestamp\n",
            "      copying pandas\\tests\\scalar\\timestamp\\__init__.py -> build\\lib.win-amd64-cpython-39\\pandas\\tests\\scalar\\timestamp\n",
            "      creating build\\lib.win-amd64-cpython-39\\pandas\\tests\\series\\indexing\n",
            "      copying pandas\\tests\\series\\indexing\\conftest.py -> build\\lib.win-amd64-cpython-39\\pandas\\tests\\series\\indexing\n",
            "      copying pandas\\tests\\series\\indexing\\test_alter_index.py -> build\\lib.win-amd64-cpython-39\\pandas\\tests\\series\\indexing\n",
            "      copying pandas\\tests\\series\\indexing\\test_boolean.py -> build\\lib.win-amd64-cpython-39\\pandas\\tests\\series\\indexing\n",
            "      copying pandas\\tests\\series\\indexing\\test_callable.py -> build\\lib.win-amd64-cpython-39\\pandas\\tests\\series\\indexing\n",
            "      copying pandas\\tests\\series\\indexing\\test_datetime.py -> build\\lib.win-amd64-cpython-39\\pandas\\tests\\series\\indexing\n",
            "      copying pandas\\tests\\series\\indexing\\test_iloc.py -> build\\lib.win-amd64-cpython-39\\pandas\\tests\\series\\indexing\n",
            "      copying pandas\\tests\\series\\indexing\\test_indexing.py -> build\\lib.win-amd64-cpython-39\\pandas\\tests\\series\\indexing\n",
            "      copying pandas\\tests\\series\\indexing\\test_loc.py -> build\\lib.win-amd64-cpython-39\\pandas\\tests\\series\\indexing\n",
            "      copying pandas\\tests\\series\\indexing\\test_numeric.py -> build\\lib.win-amd64-cpython-39\\pandas\\tests\\series\\indexing\n",
            "      copying pandas\\tests\\series\\indexing\\__init__.py -> build\\lib.win-amd64-cpython-39\\pandas\\tests\\series\\indexing\n",
            "      creating build\\lib.win-amd64-cpython-39\\pandas\\tests\\sparse\\frame\n",
            "      copying pandas\\tests\\sparse\\frame\\conftest.py -> build\\lib.win-amd64-cpython-39\\pandas\\tests\\sparse\\frame\n",
            "      copying pandas\\tests\\sparse\\frame\\test_analytics.py -> build\\lib.win-amd64-cpython-39\\pandas\\tests\\sparse\\frame\n",
            "      copying pandas\\tests\\sparse\\frame\\test_apply.py -> build\\lib.win-amd64-cpython-39\\pandas\\tests\\sparse\\frame\n",
            "      copying pandas\\tests\\sparse\\frame\\test_frame.py -> build\\lib.win-amd64-cpython-39\\pandas\\tests\\sparse\\frame\n",
            "      copying pandas\\tests\\sparse\\frame\\test_indexing.py -> build\\lib.win-amd64-cpython-39\\pandas\\tests\\sparse\\frame\n",
            "      copying pandas\\tests\\sparse\\frame\\test_to_csv.py -> build\\lib.win-amd64-cpython-39\\pandas\\tests\\sparse\\frame\n",
            "      copying pandas\\tests\\sparse\\frame\\test_to_from_scipy.py -> build\\lib.win-amd64-cpython-39\\pandas\\tests\\sparse\\frame\n",
            "      copying pandas\\tests\\sparse\\frame\\__init__.py -> build\\lib.win-amd64-cpython-39\\pandas\\tests\\sparse\\frame\n",
            "      creating build\\lib.win-amd64-cpython-39\\pandas\\tests\\sparse\\series\n",
            "      copying pandas\\tests\\sparse\\series\\test_indexing.py -> build\\lib.win-amd64-cpython-39\\pandas\\tests\\sparse\\series\n",
            "      copying pandas\\tests\\sparse\\series\\test_series.py -> build\\lib.win-amd64-cpython-39\\pandas\\tests\\sparse\\series\n",
            "      copying pandas\\tests\\sparse\\series\\__init__.py -> build\\lib.win-amd64-cpython-39\\pandas\\tests\\sparse\\series\n",
            "      creating build\\lib.win-amd64-cpython-39\\pandas\\tests\\tseries\\offsets\n",
            "      copying pandas\\tests\\tseries\\offsets\\common.py -> build\\lib.win-amd64-cpython-39\\pandas\\tests\\tseries\\offsets\n",
            "      copying pandas\\tests\\tseries\\offsets\\conftest.py -> build\\lib.win-amd64-cpython-39\\pandas\\tests\\tseries\\offsets\n",
            "      copying pandas\\tests\\tseries\\offsets\\test_fiscal.py -> build\\lib.win-amd64-cpython-39\\pandas\\tests\\tseries\\offsets\n",
            "      copying pandas\\tests\\tseries\\offsets\\test_offsets.py -> build\\lib.win-amd64-cpython-39\\pandas\\tests\\tseries\\offsets\n",
            "      copying pandas\\tests\\tseries\\offsets\\test_offsets_properties.py -> build\\lib.win-amd64-cpython-39\\pandas\\tests\\tseries\\offsets\n",
            "      copying pandas\\tests\\tseries\\offsets\\test_ticks.py -> build\\lib.win-amd64-cpython-39\\pandas\\tests\\tseries\\offsets\n",
            "      copying pandas\\tests\\tseries\\offsets\\test_yqm_offsets.py -> build\\lib.win-amd64-cpython-39\\pandas\\tests\\tseries\\offsets\n",
            "      copying pandas\\tests\\tseries\\offsets\\__init__.py -> build\\lib.win-amd64-cpython-39\\pandas\\tests\\tseries\\offsets\n",
            "      creating build\\lib.win-amd64-cpython-39\\pandas\\_libs\\tslibs\n",
            "      copying pandas\\_libs\\tslibs\\__init__.py -> build\\lib.win-amd64-cpython-39\\pandas\\_libs\\tslibs\n",
            "      creating build\\lib.win-amd64-cpython-39\\pandas\\io\\formats\\templates\n",
            "      copying pandas\\io\\formats\\templates\\html.tpl -> build\\lib.win-amd64-cpython-39\\pandas\\io\\formats\\templates\n",
            "      UPDATING build\\lib.win-amd64-cpython-39\\pandas/_version.py\n",
            "      set build\\lib.win-amd64-cpython-39\\pandas/_version.py to '0.24.2'\n",
            "      running build_ext\n",
            "      building 'pandas._libs.algos' extension\n",
            "      error: Microsoft Visual C++ 14.0 or greater is required. Get it with \"Microsoft C++ Build Tools\": https://visualstudio.microsoft.com/visual-cpp-build-tools/\n",
            "      [end of output]\n",
            "  \n",
            "  note: This error originates from a subprocess, and is likely not a problem with pip.\n",
            "  ERROR: Failed building wheel for pandas\n",
            "ERROR: Could not install packages due to an OSError: [WinError 5] Access is denied: 'C:\\\\Users\\\\Yousuf Yasser Rabie\\\\AppData\\\\Roaming\\\\Python\\\\Python39\\\\site-packages\\\\~ornado\\\\speedups.pyd'\n",
            "Consider using the `--user` option or check the permissions.\n",
            "\n"
          ]
        },
        {
          "name": "stdout",
          "output_type": "stream",
          "text": [
            "Note: you may need to restart the kernel to use updated packages.\n"
          ]
        }
      ],
      "source": [
        "%pip install --quiet transformers\n",
        "%pip install --quiet pytorch-lightning\n",
        "%pip install --quiet tokenizers\n",
        "%pip install tensorflow\n",
        "%pip install google-colab\n",
        "%pip install --quiet timm\n"
      ]
    },
    {
      "cell_type": "code",
      "execution_count": 2,
      "metadata": {},
      "outputs": [
        {
          "data": {
            "text/plain": [
              "5"
            ]
          },
          "execution_count": 2,
          "metadata": {},
          "output_type": "execute_result"
        }
      ],
      "source": [
        "x=5\n",
        "x"
      ]
    },
    {
      "cell_type": "code",
      "execution_count": 7,
      "metadata": {},
      "outputs": [
        {
          "name": "stdout",
          "output_type": "stream",
          "text": [
            "^C\n"
          ]
        }
      ],
      "source": [
        "%conda install tensorflow\n",
        "%conda install google-colab"
      ]
    },
    {
      "cell_type": "code",
      "execution_count": null,
      "metadata": {},
      "outputs": [],
      "source": []
    },
    {
      "cell_type": "code",
      "execution_count": null,
      "metadata": {},
      "outputs": [],
      "source": [
        "%pip install pytorch_lightning\n"
      ]
    },
    {
      "cell_type": "code",
      "execution_count": 1,
      "metadata": {
        "id": "Bkt-zq7qqB_5"
      },
      "outputs": [
        {
          "ename": "ModuleNotFoundError",
          "evalue": "No module named 'tensorflow'",
          "output_type": "error",
          "traceback": [
            "\u001b[1;31m---------------------------------------------------------------------------\u001b[0m",
            "\u001b[1;31mModuleNotFoundError\u001b[0m                       Traceback (most recent call last)",
            "Cell \u001b[1;32mIn[1], line 1\u001b[0m\n\u001b[1;32m----> 1\u001b[0m \u001b[39mimport\u001b[39;00m \u001b[39mtensorflow\u001b[39;00m \u001b[39mas\u001b[39;00m \u001b[39mtf\u001b[39;00m\n\u001b[0;32m      2\u001b[0m \u001b[39mimport\u001b[39;00m \u001b[39mjson\u001b[39;00m\n\u001b[0;32m      3\u001b[0m \u001b[39mimport\u001b[39;00m \u001b[39mos\u001b[39;00m\n",
            "\u001b[1;31mModuleNotFoundError\u001b[0m: No module named 'tensorflow'"
          ]
        }
      ],
      "source": [
        "import tensorflow as tf\n",
        "import json\n",
        "import os\n",
        "import cv2\n",
        "from google.colab.patches import cv2_imshow\n",
        "import pandas as pd\n",
        "import torch\n",
        "from torch.utils.data import Dataset, DataLoader\n",
        "import numpy as np\n",
        "from pathlib import Path\n",
        "import torchvision.transforms as transforms\n",
        "from sklearn.model_selection import train_test_split\n",
        "import timm\n",
        "from torch import nn\n",
        "import PIL\n",
        "import torchvision.models as models\n",
        "\n",
        "import pytorch_lightning as pl\n",
        "from pytorch_lightning.callbacks import ModelCheckpoint\n",
        "from sklearn.model_selection import train_test_split\n",
        "from transformers import (AdamW,T5ForConditionalGeneration, AutoTokenizer as Tokenizer)"
      ]
    },
    {
      "cell_type": "code",
      "execution_count": 4,
      "metadata": {
        "colab": {
          "base_uri": "https://localhost:8080/"
        },
        "id": "hywfX-xx8bMN",
        "outputId": "2bdeaae4-7ccc-463d-98a3-9f6cc800c36d"
      },
      "outputs": [
        {
          "ename": "NameError",
          "evalue": "name 'pl' is not defined",
          "output_type": "error",
          "traceback": [
            "\u001b[1;31m---------------------------------------------------------------------------\u001b[0m",
            "\u001b[1;31mNameError\u001b[0m                                 Traceback (most recent call last)",
            "Cell \u001b[1;32mIn[4], line 1\u001b[0m\n\u001b[1;32m----> 1\u001b[0m pl\u001b[39m.\u001b[39mseed_everything(\u001b[39m42\u001b[39m)\n",
            "\u001b[1;31mNameError\u001b[0m: name 'pl' is not defined"
          ]
        }
      ],
      "source": [
        "pl.seed_everything(42)"
      ]
    },
    {
      "cell_type": "markdown",
      "metadata": {
        "id": "p1MwpXLVLVTO"
      },
      "source": [
        "# **Pre-Process the Data**"
      ]
    },
    {
      "cell_type": "code",
      "execution_count": null,
      "metadata": {
        "colab": {
          "base_uri": "https://localhost:8080/"
        },
        "id": "z9vPN6CkqT8R",
        "outputId": "8dc81800-2d91-4da4-daf6-07a19237ae73"
      },
      "outputs": [
        {
          "name": "stdout",
          "output_type": "stream",
          "text": [
            "replace /content/val2014/COCO_val2014_000000324670.jpg? [y]es, [n]o, [A]ll, [N]one, [r]ename: "
          ]
        }
      ],
      "source": [
        "_URL = 'http://images.cocodataset.org/zips/val2014.zip'\n",
        "zip_dir = tf.keras.utils.get_file('/content/MSCOCOVAL2014.zip', origin=_URL, extract=False,archive_format='auto')\n",
        "fname = '/content/MSCOCOVAL2014.zip'\n",
        "!unzip -q $fname -d /content/"
      ]
    },
    {
      "cell_type": "code",
      "execution_count": null,
      "metadata": {
        "colab": {
          "base_uri": "https://localhost:8080/"
        },
        "id": "yjdLlbHnA3Sr",
        "outputId": "ff7447ab-68d8-424d-e4e0-ff3f22ab66ed"
      },
      "outputs": [
        {
          "name": "stdout",
          "output_type": "stream",
          "text": [
            "replace /content/v2_OpenEnded_mscoco_val2014_questions.json? [y]es, [n]o, [A]ll, [N]one, [r]ename: "
          ]
        }
      ],
      "source": [
        "_URL = 'https://s3.amazonaws.com/cvmlp/vqa/mscoco/vqa/v2_Questions_Val_mscoco.zip'\n",
        "zip_dir = tf.keras.utils.get_file('/content/QUESVAL2014.zip', origin=_URL, extract=False,archive_format='auto')\n",
        "fname = '/content/QUESVAL2014.zip'\n",
        "!unzip -q $fname -d /content/"
      ]
    },
    {
      "cell_type": "code",
      "execution_count": null,
      "metadata": {
        "colab": {
          "base_uri": "https://localhost:8080/"
        },
        "id": "jcOsBq-AA8d3",
        "outputId": "f1c22606-2007-4687-dc9e-8d1b16e7b978"
      },
      "outputs": [
        {
          "name": "stdout",
          "output_type": "stream",
          "text": [
            "replace /content/v2_mscoco_val2014_annotations.json? [y]es, [n]o, [A]ll, [N]one, [r]ename: "
          ]
        }
      ],
      "source": [
        "_URL = 'https://s3.amazonaws.com/cvmlp/vqa/mscoco/vqa/v2_Annotations_Val_mscoco.zip'\n",
        "zip_dir = tf.keras.utils.get_file('/content/ANNOTVAL2014.zip', origin=_URL, extract=False,archive_format='auto')\n",
        "fname = '/content/ANNOTVAL2014.zip'\n",
        "!unzip -q $fname -d /content/"
      ]
    },
    {
      "cell_type": "code",
      "execution_count": null,
      "metadata": {
        "id": "riOKpqiS-IzS"
      },
      "outputs": [],
      "source": [
        "valtxt = 'https://raw.githubusercontent.com/jponttuset/mcg/master/pre-trained/datasets/COCO/gt_sets/val2014.txt'\n",
        "zip_dir = tf.keras.utils.get_file('/content/valtxt.txt', origin=valtxt, extract=False,archive_format='auto')"
      ]
    },
    {
      "cell_type": "code",
      "execution_count": null,
      "metadata": {
        "colab": {
          "base_uri": "https://localhost:8080/",
          "height": 218
        },
        "id": "yscFtjMpzK2X",
        "outputId": "1eda44d0-2251-42d6-e956-a0c12d926d6a"
      },
      "outputs": [
        {
          "ename": "FileNotFoundError",
          "evalue": "ignored",
          "output_type": "error",
          "traceback": [
            "\u001b[0;31m---------------------------------------------------------------------------\u001b[0m",
            "\u001b[0;31mFileNotFoundError\u001b[0m                         Traceback (most recent call last)",
            "\u001b[0;32m<ipython-input-2-157d1a1a74ba>\u001b[0m in \u001b[0;36m<module>\u001b[0;34m\u001b[0m\n\u001b[0;32m----> 1\u001b[0;31m \u001b[0;32mwith\u001b[0m \u001b[0mopen\u001b[0m\u001b[0;34m(\u001b[0m\u001b[0mos\u001b[0m\u001b[0;34m.\u001b[0m\u001b[0mpath\u001b[0m\u001b[0;34m.\u001b[0m\u001b[0mjoin\u001b[0m\u001b[0;34m(\u001b[0m\u001b[0;34m'/content/'\u001b[0m\u001b[0;34m,\u001b[0m \u001b[0;34m'v2_OpenEnded_mscoco_val2014_questions.json'\u001b[0m\u001b[0;34m)\u001b[0m\u001b[0;34m,\u001b[0m \u001b[0;34m'r'\u001b[0m\u001b[0;34m)\u001b[0m \u001b[0;32mas\u001b[0m \u001b[0mf\u001b[0m\u001b[0;34m:\u001b[0m\u001b[0;34m\u001b[0m\u001b[0;34m\u001b[0m\u001b[0m\n\u001b[0m\u001b[1;32m      2\u001b[0m     \u001b[0mval_questions\u001b[0m \u001b[0;34m=\u001b[0m \u001b[0mjson\u001b[0m\u001b[0;34m.\u001b[0m\u001b[0mload\u001b[0m\u001b[0;34m(\u001b[0m\u001b[0mf\u001b[0m\u001b[0;34m)\u001b[0m\u001b[0;34m[\u001b[0m\u001b[0;34m'questions'\u001b[0m\u001b[0;34m]\u001b[0m\u001b[0;34m\u001b[0m\u001b[0;34m\u001b[0m\u001b[0m\n\u001b[1;32m      3\u001b[0m \u001b[0;32mwith\u001b[0m \u001b[0mopen\u001b[0m\u001b[0;34m(\u001b[0m\u001b[0mos\u001b[0m\u001b[0;34m.\u001b[0m\u001b[0mpath\u001b[0m\u001b[0;34m.\u001b[0m\u001b[0mjoin\u001b[0m\u001b[0;34m(\u001b[0m\u001b[0;34m'/content/'\u001b[0m\u001b[0;34m,\u001b[0m \u001b[0;34m'v2_mscoco_val2014_annotations.json'\u001b[0m\u001b[0;34m)\u001b[0m\u001b[0;34m,\u001b[0m \u001b[0;34m'r'\u001b[0m\u001b[0;34m)\u001b[0m \u001b[0;32mas\u001b[0m \u001b[0mf\u001b[0m\u001b[0;34m:\u001b[0m\u001b[0;34m\u001b[0m\u001b[0;34m\u001b[0m\u001b[0m\n\u001b[1;32m      4\u001b[0m     \u001b[0mval_answers\u001b[0m \u001b[0;34m=\u001b[0m \u001b[0mjson\u001b[0m\u001b[0;34m.\u001b[0m\u001b[0mload\u001b[0m\u001b[0;34m(\u001b[0m\u001b[0mf\u001b[0m\u001b[0;34m)\u001b[0m\u001b[0;34m[\u001b[0m\u001b[0;34m'annotations'\u001b[0m\u001b[0;34m]\u001b[0m\u001b[0;34m\u001b[0m\u001b[0;34m\u001b[0m\u001b[0m\n",
            "\u001b[0;31mFileNotFoundError\u001b[0m: [Errno 2] No such file or directory: '/content/v2_OpenEnded_mscoco_val2014_questions.json'"
          ]
        }
      ],
      "source": [
        "\n",
        "with open(os.path.join('/content/', 'v2_OpenEnded_mscoco_val2014_questions.json'), 'r') as f:\n",
        "    val_questions = json.load(f)['questions']\n",
        "with open(os.path.join('/content/', 'v2_mscoco_val2014_annotations.json'), 'r') as f:\n",
        "    val_answers = json.load(f)['annotations']"
      ]
    },
    {
      "cell_type": "code",
      "execution_count": null,
      "metadata": {
        "id": "wT4sIIxFES3T"
      },
      "outputs": [],
      "source": [
        "val_data = []\n",
        "for question, annotation in zip(val_questions, val_answers):\n",
        "    question_text = question['question']\n",
        "    image_id = annotation['image_id']\n",
        "    answer = annotation['answers'][0]['answer']\n",
        "    image_filename = 'COCO_val2014_{:012d}.jpg'.format(image_id)\n",
        "    image_path = os.path.join('/content/', 'val2014', image_filename)\n",
        "    val_data.append({'question': question_text, 'image_path': image_path, 'answer': answer})"
      ]
    },
    {
      "cell_type": "code",
      "execution_count": null,
      "metadata": {
        "id": "Li9aZO2OFpqb"
      },
      "outputs": [],
      "source": [
        "# Convert the array of dictionaries to a DataFrame\n",
        "df = pd.DataFrame(val_data)"
      ]
    },
    {
      "cell_type": "code",
      "execution_count": null,
      "metadata": {
        "colab": {
          "base_uri": "https://localhost:8080/",
          "height": 423
        },
        "id": "FRkA65jyGd8b",
        "outputId": "f4be0a93-6b02-41ca-a57e-26af6aeabbb2"
      },
      "outputs": [
        {
          "data": {
            "text/html": [
              "\n",
              "  <div id=\"df-0d846602-9e73-4ebb-8b3d-73375741a7e7\">\n",
              "    <div class=\"colab-df-container\">\n",
              "      <div>\n",
              "<style scoped>\n",
              "    .dataframe tbody tr th:only-of-type {\n",
              "        vertical-align: middle;\n",
              "    }\n",
              "\n",
              "    .dataframe tbody tr th {\n",
              "        vertical-align: top;\n",
              "    }\n",
              "\n",
              "    .dataframe thead th {\n",
              "        text-align: right;\n",
              "    }\n",
              "</style>\n",
              "<table border=\"1\" class=\"dataframe\">\n",
              "  <thead>\n",
              "    <tr style=\"text-align: right;\">\n",
              "      <th></th>\n",
              "      <th>question</th>\n",
              "      <th>image_path</th>\n",
              "      <th>answer</th>\n",
              "    </tr>\n",
              "  </thead>\n",
              "  <tbody>\n",
              "    <tr>\n",
              "      <th>0</th>\n",
              "      <td>Where is he looking?</td>\n",
              "      <td>/content/val2014/COCO_val2014_000000262148.jpg</td>\n",
              "      <td>down</td>\n",
              "    </tr>\n",
              "    <tr>\n",
              "      <th>1</th>\n",
              "      <td>What are the people in the background doing?</td>\n",
              "      <td>/content/val2014/COCO_val2014_000000262148.jpg</td>\n",
              "      <td>spectating</td>\n",
              "    </tr>\n",
              "    <tr>\n",
              "      <th>2</th>\n",
              "      <td>What is he on top of?</td>\n",
              "      <td>/content/val2014/COCO_val2014_000000262148.jpg</td>\n",
              "      <td>table</td>\n",
              "    </tr>\n",
              "    <tr>\n",
              "      <th>3</th>\n",
              "      <td>What website copyrighted the picture?</td>\n",
              "      <td>/content/val2014/COCO_val2014_000000393225.jpg</td>\n",
              "      <td>foodiebakercom</td>\n",
              "    </tr>\n",
              "    <tr>\n",
              "      <th>4</th>\n",
              "      <td>Is this a creamy soup?</td>\n",
              "      <td>/content/val2014/COCO_val2014_000000393225.jpg</td>\n",
              "      <td>no</td>\n",
              "    </tr>\n",
              "    <tr>\n",
              "      <th>...</th>\n",
              "      <td>...</td>\n",
              "      <td>...</td>\n",
              "      <td>...</td>\n",
              "    </tr>\n",
              "    <tr>\n",
              "      <th>214349</th>\n",
              "      <td>What is the main color in the photo?</td>\n",
              "      <td>/content/val2014/COCO_val2014_000000393212.jpg</td>\n",
              "      <td>green</td>\n",
              "    </tr>\n",
              "    <tr>\n",
              "      <th>214350</th>\n",
              "      <td>What is the meaning of this sign?</td>\n",
              "      <td>/content/val2014/COCO_val2014_000000393212.jpg</td>\n",
              "      <td>one way</td>\n",
              "    </tr>\n",
              "    <tr>\n",
              "      <th>214351</th>\n",
              "      <td>What is on the sign?</td>\n",
              "      <td>/content/val2014/COCO_val2014_000000393212.jpg</td>\n",
              "      <td>arrow</td>\n",
              "    </tr>\n",
              "    <tr>\n",
              "      <th>214352</th>\n",
              "      <td>Does the arrow point left or right?</td>\n",
              "      <td>/content/val2014/COCO_val2014_000000393212.jpg</td>\n",
              "      <td>left</td>\n",
              "    </tr>\n",
              "    <tr>\n",
              "      <th>214353</th>\n",
              "      <td>Is the sign for traffic?</td>\n",
              "      <td>/content/val2014/COCO_val2014_000000393212.jpg</td>\n",
              "      <td>no</td>\n",
              "    </tr>\n",
              "  </tbody>\n",
              "</table>\n",
              "<p>214354 rows × 3 columns</p>\n",
              "</div>\n",
              "      <button class=\"colab-df-convert\" onclick=\"convertToInteractive('df-0d846602-9e73-4ebb-8b3d-73375741a7e7')\"\n",
              "              title=\"Convert this dataframe to an interactive table.\"\n",
              "              style=\"display:none;\">\n",
              "        \n",
              "  <svg xmlns=\"http://www.w3.org/2000/svg\" height=\"24px\"viewBox=\"0 0 24 24\"\n",
              "       width=\"24px\">\n",
              "    <path d=\"M0 0h24v24H0V0z\" fill=\"none\"/>\n",
              "    <path d=\"M18.56 5.44l.94 2.06.94-2.06 2.06-.94-2.06-.94-.94-2.06-.94 2.06-2.06.94zm-11 1L8.5 8.5l.94-2.06 2.06-.94-2.06-.94L8.5 2.5l-.94 2.06-2.06.94zm10 10l.94 2.06.94-2.06 2.06-.94-2.06-.94-.94-2.06-.94 2.06-2.06.94z\"/><path d=\"M17.41 7.96l-1.37-1.37c-.4-.4-.92-.59-1.43-.59-.52 0-1.04.2-1.43.59L10.3 9.45l-7.72 7.72c-.78.78-.78 2.05 0 2.83L4 21.41c.39.39.9.59 1.41.59.51 0 1.02-.2 1.41-.59l7.78-7.78 2.81-2.81c.8-.78.8-2.07 0-2.86zM5.41 20L4 18.59l7.72-7.72 1.47 1.35L5.41 20z\"/>\n",
              "  </svg>\n",
              "      </button>\n",
              "      \n",
              "  <style>\n",
              "    .colab-df-container {\n",
              "      display:flex;\n",
              "      flex-wrap:wrap;\n",
              "      gap: 12px;\n",
              "    }\n",
              "\n",
              "    .colab-df-convert {\n",
              "      background-color: #E8F0FE;\n",
              "      border: none;\n",
              "      border-radius: 50%;\n",
              "      cursor: pointer;\n",
              "      display: none;\n",
              "      fill: #1967D2;\n",
              "      height: 32px;\n",
              "      padding: 0 0 0 0;\n",
              "      width: 32px;\n",
              "    }\n",
              "\n",
              "    .colab-df-convert:hover {\n",
              "      background-color: #E2EBFA;\n",
              "      box-shadow: 0px 1px 2px rgba(60, 64, 67, 0.3), 0px 1px 3px 1px rgba(60, 64, 67, 0.15);\n",
              "      fill: #174EA6;\n",
              "    }\n",
              "\n",
              "    [theme=dark] .colab-df-convert {\n",
              "      background-color: #3B4455;\n",
              "      fill: #D2E3FC;\n",
              "    }\n",
              "\n",
              "    [theme=dark] .colab-df-convert:hover {\n",
              "      background-color: #434B5C;\n",
              "      box-shadow: 0px 1px 3px 1px rgba(0, 0, 0, 0.15);\n",
              "      filter: drop-shadow(0px 1px 2px rgba(0, 0, 0, 0.3));\n",
              "      fill: #FFFFFF;\n",
              "    }\n",
              "  </style>\n",
              "\n",
              "      <script>\n",
              "        const buttonEl =\n",
              "          document.querySelector('#df-0d846602-9e73-4ebb-8b3d-73375741a7e7 button.colab-df-convert');\n",
              "        buttonEl.style.display =\n",
              "          google.colab.kernel.accessAllowed ? 'block' : 'none';\n",
              "\n",
              "        async function convertToInteractive(key) {\n",
              "          const element = document.querySelector('#df-0d846602-9e73-4ebb-8b3d-73375741a7e7');\n",
              "          const dataTable =\n",
              "            await google.colab.kernel.invokeFunction('convertToInteractive',\n",
              "                                                     [key], {});\n",
              "          if (!dataTable) return;\n",
              "\n",
              "          const docLinkHtml = 'Like what you see? Visit the ' +\n",
              "            '<a target=\"_blank\" href=https://colab.research.google.com/notebooks/data_table.ipynb>data table notebook</a>'\n",
              "            + ' to learn more about interactive tables.';\n",
              "          element.innerHTML = '';\n",
              "          dataTable['output_type'] = 'display_data';\n",
              "          await google.colab.output.renderOutput(dataTable, element);\n",
              "          const docLink = document.createElement('div');\n",
              "          docLink.innerHTML = docLinkHtml;\n",
              "          element.appendChild(docLink);\n",
              "        }\n",
              "      </script>\n",
              "    </div>\n",
              "  </div>\n",
              "  "
            ],
            "text/plain": [
              "                                            question  \\\n",
              "0                               Where is he looking?   \n",
              "1       What are the people in the background doing?   \n",
              "2                              What is he on top of?   \n",
              "3              What website copyrighted the picture?   \n",
              "4                             Is this a creamy soup?   \n",
              "...                                              ...   \n",
              "214349          What is the main color in the photo?   \n",
              "214350             What is the meaning of this sign?   \n",
              "214351                          What is on the sign?   \n",
              "214352           Does the arrow point left or right?   \n",
              "214353                      Is the sign for traffic?   \n",
              "\n",
              "                                            image_path          answer  \n",
              "0       /content/val2014/COCO_val2014_000000262148.jpg            down  \n",
              "1       /content/val2014/COCO_val2014_000000262148.jpg      spectating  \n",
              "2       /content/val2014/COCO_val2014_000000262148.jpg           table  \n",
              "3       /content/val2014/COCO_val2014_000000393225.jpg  foodiebakercom  \n",
              "4       /content/val2014/COCO_val2014_000000393225.jpg              no  \n",
              "...                                                ...             ...  \n",
              "214349  /content/val2014/COCO_val2014_000000393212.jpg           green  \n",
              "214350  /content/val2014/COCO_val2014_000000393212.jpg         one way  \n",
              "214351  /content/val2014/COCO_val2014_000000393212.jpg           arrow  \n",
              "214352  /content/val2014/COCO_val2014_000000393212.jpg            left  \n",
              "214353  /content/val2014/COCO_val2014_000000393212.jpg              no  \n",
              "\n",
              "[214354 rows x 3 columns]"
            ]
          },
          "execution_count": 14,
          "metadata": {},
          "output_type": "execute_result"
        }
      ],
      "source": [
        "df"
      ]
    },
    {
      "cell_type": "code",
      "execution_count": null,
      "metadata": {
        "colab": {
          "base_uri": "https://localhost:8080/"
        },
        "id": "H-T7JK1sx_yp",
        "outputId": "1acc6fbe-0ab3-424c-94f0-78b688700aa3"
      },
      "outputs": [
        {
          "name": "stdout",
          "output_type": "stream",
          "text": [
            "Mounted at /content/drive\n"
          ]
        }
      ],
      "source": [
        "from google.colab import drive\n",
        "drive.mount('/content/drive')"
      ]
    },
    {
      "cell_type": "code",
      "execution_count": null,
      "metadata": {
        "id": "sNmpqV-tG4B2"
      },
      "outputs": [],
      "source": [
        "def show_sample(idx=0):\n",
        "  print(\"Q : \",df.iloc[idx]['question'])\n",
        "  image = cv2.imread(df.iloc[idx]['image_path'])\n",
        "  image = cv2.resize(image, (224, 224))  \n",
        "  cv2_imshow(image)\n",
        "  print(\"A : \",df.iloc[idx]['answer'])"
      ]
    },
    {
      "cell_type": "code",
      "execution_count": null,
      "metadata": {
        "colab": {
          "base_uri": "https://localhost:8080/",
          "height": 276
        },
        "id": "gG_BUUm0G5OS",
        "outputId": "3c62c6fd-0389-4299-bb98-e2a81bccb8fc"
      },
      "outputs": [
        {
          "name": "stdout",
          "output_type": "stream",
          "text": [
            "Q :  What is the background metal structure?\n"
          ]
        },
        {
          "data": {
            "image/png": "[encoded data removed]",
            "text/plain": [
              "<PIL.Image.Image image mode=RGB size=224x224 at 0x7F8D59563880>"
            ]
          },
          "metadata": {},
          "output_type": "display_data"
        },
        {
          "name": "stdout",
          "output_type": "stream",
          "text": [
            "A :  trees\n"
          ]
        }
      ],
      "source": [
        "show_sample(100)"
      ]
    },
    {
      "cell_type": "code",
      "execution_count": null,
      "metadata": {
        "id": "jLB9gim-wV7R"
      },
      "outputs": [],
      "source": []
    },
    {
      "cell_type": "markdown",
      "metadata": {
        "id": "rrsgJQpIZzdr"
      },
      "source": [
        "# **DataLoader**"
      ]
    },
    {
      "cell_type": "code",
      "execution_count": null,
      "metadata": {
        "id": "opxpMYEgI4GS"
      },
      "outputs": [],
      "source": [
        "def has_three_channels(image_path):\n",
        "    with PIL.Image.open(image_path) as img:\n",
        "        return img.mode == 'RGB'\n",
        "\n",
        "# Filter the DataFrame to keep only the images with 3 channels\n",
        "df = df[df['image_path'].apply(has_three_channels)]"
      ]
    },
    {
      "cell_type": "code",
      "execution_count": null,
      "metadata": {
        "colab": {
          "base_uri": "https://localhost:8080/"
        },
        "id": "A-FxPhudd4AC",
        "outputId": "9a7d59ad-fbdc-477e-985e-a72b82ab30a2"
      },
      "outputs": [
        {
          "name": "stdout",
          "output_type": "stream",
          "text": [
            "6\n"
          ]
        }
      ],
      "source": [
        "max_length = len(df['answer'].max())\n",
        "print(max_length)"
      ]
    },
    {
      "cell_type": "code",
      "execution_count": null,
      "metadata": {
        "colab": {
          "base_uri": "https://localhost:8080/"
        },
        "id": "CD6GSWeIee8A",
        "outputId": "d11355c6-f2ab-4a5e-cfeb-f53cffff084a"
      },
      "outputs": [
        {
          "name": "stdout",
          "output_type": "stream",
          "text": [
            "26\n"
          ]
        }
      ],
      "source": [
        "max_length = len(df['question'].max())\n",
        "print(max_length)"
      ]
    },
    {
      "cell_type": "code",
      "execution_count": null,
      "metadata": {
        "id": "sJiJr7c_7LAv"
      },
      "outputs": [],
      "source": [
        "df = df[:5000]"
      ]
    },
    {
      "cell_type": "code",
      "execution_count": null,
      "metadata": {
        "id": "WI9m4vJXiLeS"
      },
      "outputs": [],
      "source": [
        "MODEL_NAME = 't5-base'"
      ]
    },
    {
      "cell_type": "code",
      "execution_count": null,
      "metadata": {
        "colab": {
          "base_uri": "https://localhost:8080/"
        },
        "id": "aLilHWDpiNGi",
        "outputId": "e28d8926-4206-4793-c003-06fd6328ffb9"
      },
      "outputs": [
        {
          "name": "stderr",
          "output_type": "stream",
          "text": [
            "/usr/local/lib/python3.8/dist-packages/transformers/models/t5/tokenization_t5_fast.py:155: FutureWarning: This tokenizer was incorrectly instantiated with a model max length of 512 which will be corrected in Transformers v5.\n",
            "For now, this behavior is kept to avoid breaking backwards compatibility when padding/encoding with `truncation is True`.\n",
            "- Be aware that you SHOULD NOT rely on t5-base automatically truncating your input to 512 when padding/encoding.\n",
            "- If you want to encode/pad to sequences longer than 512 you can either instantiate this tokenizer with `model_max_length` or pass `max_length` when encoding/padding.\n",
            "- To avoid this warning, please instantiate this tokenizer with `model_max_length` set to your preferred value.\n",
            "  warnings.warn(\n"
          ]
        }
      ],
      "source": [
        "tokenizer = Tokenizer.from_pretrained(MODEL_NAME)"
      ]
    },
    {
      "cell_type": "code",
      "execution_count": null,
      "metadata": {
        "id": "Dm7IPEphcryb"
      },
      "outputs": [],
      "source": [
        "train_df, val_df = train_test_split(df,test_size=0.1)\n",
        "val_df, test_df = train_test_split(val_df,test_size=0.5)"
      ]
    },
    {
      "cell_type": "code",
      "execution_count": null,
      "metadata": {
        "id": "F34GCRIFc15f"
      },
      "outputs": [],
      "source": [
        "train_transform = transforms.Compose([\n",
        "    transforms.Resize((224, 224)),\n",
        "    transforms.ToTensor(),\n",
        "    transforms.Normalize(mean=[0.485, 0.456, 0.406],std=[0.229, 0.224, 0.225])])"
      ]
    },
    {
      "cell_type": "code",
      "execution_count": null,
      "metadata": {
        "id": "37AzGDVVFlxk"
      },
      "outputs": [],
      "source": [
        "val_transform = transforms.Compose([\n",
        "    transforms.Resize((224, 224)),\n",
        "    transforms.ToTensor()])"
      ]
    },
    {
      "cell_type": "code",
      "execution_count": null,
      "metadata": {
        "id": "H7NY28GMZ2ij"
      },
      "outputs": [],
      "source": [
        "class VQADataset(Dataset):\n",
        "    def __init__(self, df, transform,tokenizer):\n",
        "        self.df = df\n",
        "        self.transform = transform\n",
        "        self.tokenizer = tokenizer\n",
        "        self.img_model = timm.create_model('efficientnet_b0', pretrained=True)\n",
        "        self.img_model.aux_logits=False\n",
        "\n",
        "        # Freeze training for all layers\n",
        "        for param in self.img_model.parameters():\n",
        "            param.requires_grad = False\n",
        "        \n",
        "        self.img_model.classifier = torch.nn.Sequential(\n",
        "                          torch.nn.Linear(self.img_model.classifier.in_features, 256),\n",
        "                          torch.nn.Dropout(0.5),\n",
        "                          torch.nn.ReLU(inplace=True),\n",
        "                          torch.nn.BatchNorm1d(256),\n",
        "                          torch.nn.Linear(256, 64))\n",
        "        \n",
        "        self.img_model.eval()\n",
        "\n",
        "    def __len__(self):\n",
        "        return len(self.df)\n",
        "\n",
        "    def __getitem__(self, index):\n",
        "        row = self.df.iloc[index]\n",
        "        question = row['question']\n",
        "        image_path = row['image_path']\n",
        "        answer = row['answer']\n",
        "\n",
        "        answer = self.tokenizer(answer, padding='max_length',truncation = True,\n",
        "                                return_attention_mask = True,add_special_tokens = True, \n",
        "                                max_length=64, return_tensors='pt')\n",
        "\n",
        "        labels = answer[\"input_ids\"]\n",
        "        labels[labels == 0] = -100\n",
        "        \n",
        "        # load the image and apply transform\n",
        "        img = PIL.Image.open(image_path)\n",
        "        img = self.transform(img)\n",
        "        img = img.unsqueeze(0)\n",
        "\n",
        "        # Generate the image embedding\n",
        "        with torch.no_grad():\n",
        "            img = self.img_model(img)\n",
        "\n",
        "        img = img.squeeze()\n",
        "        \n",
        "        img = ' '.join(str(x) for x in img)\n",
        "        quesimg = f\"question: {question} context: {img}\"\n",
        "\n",
        "        quesimg = self.tokenizer(quesimg, padding='max_length',truncation = True,\n",
        "                                 return_attention_mask = True,add_special_tokens = True, \n",
        "                                 max_length=200, return_tensors='pt')\n",
        "\n",
        "        \n",
        "        return dict(\n",
        "        input_ids = quesimg['input_ids'].flatten(),\n",
        "        attention_mask = quesimg['attention_mask'].flatten(),\n",
        "        labels = labels.flatten())\n",
        "        "
      ]
    },
    {
      "cell_type": "code",
      "execution_count": null,
      "metadata": {
        "id": "TyH_KAhHh5nc"
      },
      "outputs": [],
      "source": [
        "class VQADataModule(pl.LightningDataModule):\n",
        "  def __init__(self,train_df : pd.DataFrame,val_df : pd.DataFrame,test_df : pd.DataFrame,\n",
        "               train_transform : train_transform,val_transform : val_transform,tokenizer : tokenizer,batch_size : int = 8):\n",
        "    super().__init__()\n",
        "    self.batch_size = batch_size\n",
        "    self.train_df = train_df\n",
        "    self.test_df = test_df\n",
        "    self.val_df = val_df\n",
        "    self.tokenizer = tokenizer\n",
        "    self.train_transform = train_transform\n",
        "    self.val_transform = val_transform\n",
        "\n",
        "\n",
        "  def setup(self,stage=None):\n",
        "    self.train_dataset = VQADataset(self.train_df,self.train_transform,self.tokenizer)\n",
        "    self.val_dataset = VQADataset(self.val_df,self.val_transform,self.tokenizer)\n",
        "    self.test_dataset = VQADataset(self.test_df,self.val_transform,self.tokenizer)\n",
        "\n",
        "  def train_dataloader(self):\n",
        "    return DataLoader(self.train_dataset,batch_size = self.batch_size,shuffle=True,num_workers=4)\n",
        "\n",
        "  def val_dataloader(self):\n",
        "    return DataLoader(self.val_dataset,batch_size = self.batch_size,num_workers=4)\n",
        "\n",
        "  def test_dataloader(self):\n",
        "    return DataLoader(self.test_dataset,batch_size = self.batch_size,num_workers=4)"
      ]
    },
    {
      "cell_type": "code",
      "execution_count": null,
      "metadata": {
        "id": "vai2MWg6j6aK"
      },
      "outputs": [],
      "source": [
        "BATCH_SIZE = 12\n",
        "N_EPOCHS = 4\n",
        "\n",
        "data_module = VQADataModule(train_df,val_df,test_df,train_transform,\n",
        "                            val_transform,tokenizer,batch_size = BATCH_SIZE)\n",
        "data_module.setup()"
      ]
    },
    {
      "cell_type": "markdown",
      "metadata": {
        "id": "_aSDfj66lla5"
      },
      "source": [
        "# **Model Architecture**"
      ]
    },
    {
      "cell_type": "code",
      "execution_count": null,
      "metadata": {
        "id": "tcC_hrcNlo8x"
      },
      "outputs": [],
      "source": [
        "class VQAModel(pl.LightningModule):\n",
        "  def __init__(self):\n",
        "    super().__init__()\n",
        "\n",
        "    self.text_model = T5ForConditionalGeneration.from_pretrained(MODEL_NAME,return_dict=True)\n",
        "    self.lossfn = nn.CrossEntropyLoss()\n",
        "                  \n",
        "\n",
        "  def forward(self,input_ids,attention_mask,labels=None):\n",
        "    output = self.text_model(input_ids = input_ids,attention_mask = attention_mask,labels = labels)\n",
        "    return output.loss, output.logits\n",
        "\n",
        "  def training_step(self,batch,batch_idx):\n",
        "    input_ids = batch['input_ids']\n",
        "    attention_mask = batch['attention_mask']\n",
        "    labels = batch['labels']\n",
        "    loss, outputs = self(input_ids,attention_mask,labels)\n",
        "    self.log(\"train_loss\",loss,prog_bar=True,logger=True)\n",
        "    return loss\n",
        "\n",
        "  def validation_step(self,batch,batch_idx):\n",
        "    input_ids = batch['input_ids']\n",
        "    attention_mask = batch['attention_mask']\n",
        "    labels = batch['labels']\n",
        "    loss, outputs = self(input_ids,attention_mask,labels)\n",
        "    self.log(\"val_loss\",loss,prog_bar=True,logger=True)\n",
        "    return loss\n",
        "\n",
        "  def test_step(self,batch,batch_idx):\n",
        "    input_ids = batch['input_ids']\n",
        "    attention_mask = batch['attention_mask']\n",
        "    labels = batch['labels']\n",
        "    loss, outputs = self(input_ids,attention_mask,labels)\n",
        "    self.log(\"test_loss\",loss,prog_bar=True,logger=True)\n",
        "    return loss\n",
        "\n",
        "  def configure_optimizers(self):\n",
        "    return AdamW(self.parameters(),lr = 0.0001)"
      ]
    },
    {
      "cell_type": "markdown",
      "metadata": {
        "id": "j6fcTaMxq_ls"
      },
      "source": [
        "# **Training**"
      ]
    },
    {
      "cell_type": "code",
      "execution_count": null,
      "metadata": {
        "id": "K2OuPolgvIPi"
      },
      "outputs": [],
      "source": [
        "model = VQAModel()"
      ]
    },
    {
      "cell_type": "code",
      "execution_count": null,
      "metadata": {
        "id": "1h1Yso3xq_Ah"
      },
      "outputs": [],
      "source": [
        "checkpoint_callback = ModelCheckpoint(\n",
        "    dirpath = 'checkpoints',\n",
        "    filename = 'best_cp',\n",
        "    save_top_k = 1,\n",
        "    verbose = True,\n",
        "    monitor = 'val_loss',\n",
        "    mode = 'min')"
      ]
    },
    {
      "cell_type": "code",
      "execution_count": null,
      "metadata": {
        "colab": {
          "base_uri": "https://localhost:8080/"
        },
        "id": "v0PX0SVzrFGB",
        "outputId": "eae450f5-cade-4641-8835-e60fb224286b"
      },
      "outputs": [
        {
          "name": "stderr",
          "output_type": "stream",
          "text": [
            "/usr/local/lib/python3.8/dist-packages/pytorch_lightning/trainer/connectors/accelerator_connector.py:474: LightningDeprecationWarning: Setting `Trainer(gpus=1)` is deprecated in v1.7 and will be removed in v2.0. Please use `Trainer(accelerator='gpu', devices=1)` instead.\n",
            "  rank_zero_deprecation(\n",
            "INFO:pytorch_lightning.utilities.rank_zero:GPU available: True (cuda), used: True\n",
            "INFO:pytorch_lightning.utilities.rank_zero:TPU available: False, using: 0 TPU cores\n",
            "INFO:pytorch_lightning.utilities.rank_zero:IPU available: False, using: 0 IPUs\n",
            "INFO:pytorch_lightning.utilities.rank_zero:HPU available: False, using: 0 HPUs\n"
          ]
        }
      ],
      "source": [
        "trainer = pl.Trainer(gpus=1,\n",
        "    callbacks=[checkpoint_callback],\n",
        "    max_epochs = N_EPOCHS)"
      ]
    },
    {
      "cell_type": "code",
      "execution_count": null,
      "metadata": {
        "colab": {
          "base_uri": "https://localhost:8080/",
          "height": 399,
          "referenced_widgets": [
            "aaac63ff2ffc489dbacbfaad91d0fdc0",
            "6dd519dd4d374bac92d67316e4979e8f",
            "d4f60d23ee164376acd23d859397d2cb",
            "4b4b8b7523b9466d8153600248c6e369",
            "565e3075ba2d404cb7ed14df48e10aba",
            "9bfb951a0c4743f5b9a0ae5d85b4b5ba",
            "042c25f519ce49bcbb5510121c58ec57",
            "09cdc2a3b3f14031a69f8178984e014a",
            "c008385b973e47c68afca39790014855",
            "df5ef076e4ef41e7b36269b5bfddabe8",
            "ed9fbe4c2792405ba35b47a8439238ca",
            "568283f10d6d466daf1f40560a0fb635",
            "fe8984ec41534210a2dd67d3834d965b",
            "f44321fddd564e4dbdd99834d6e8a20e",
            "7c0ffd9035e144f5b33c545cdd1b778a",
            "dbaa6fdb189049be99315b99fbf5e5db",
            "671da53b131c4478ba1fc6de31881ad7",
            "8555dc8870524ccdb74679abc294ac9d",
            "e394300ed85c424f8b9fdaead673864b",
            "708fafbc6d2d4207984a4ad75436d08c",
            "d6a37e5998e64087af402465bfe980c8",
            "bede18964e2a41bdb0fcf429cd515892"
          ]
        },
        "id": "xfawL6QirJq-",
        "outputId": "d27f29bd-5eb5-4c52-f806-61df8abf78c6"
      },
      "outputs": [
        {
          "name": "stderr",
          "output_type": "stream",
          "text": [
            "/usr/local/lib/python3.8/dist-packages/pytorch_lightning/callbacks/model_checkpoint.py:613: UserWarning: Checkpoint directory /content/checkpoints exists and is not empty.\n",
            "  rank_zero_warn(f\"Checkpoint directory {dirpath} exists and is not empty.\")\n",
            "INFO:pytorch_lightning.accelerators.cuda:LOCAL_RANK: 0 - CUDA_VISIBLE_DEVICES: [0]\n",
            "/usr/local/lib/python3.8/dist-packages/transformers/optimization.py:306: FutureWarning: This implementation of AdamW is deprecated and will be removed in a future version. Use the PyTorch implementation torch.optim.AdamW instead, or set `no_deprecation_warning=True` to disable this warning\n",
            "  warnings.warn(\n",
            "INFO:pytorch_lightning.callbacks.model_summary:\n",
            "  | Name       | Type                       | Params\n",
            "----------------------------------------------------------\n",
            "0 | text_model | T5ForConditionalGeneration | 222 M \n",
            "1 | lossfn     | CrossEntropyLoss           | 0     \n",
            "----------------------------------------------------------\n",
            "222 M     Trainable params\n",
            "0         Non-trainable params\n",
            "222 M     Total params\n",
            "891.614   Total estimated model params size (MB)\n"
          ]
        },
        {
          "data": {
            "application/vnd.jupyter.widget-view+json": {
              "model_id": "aaac63ff2ffc489dbacbfaad91d0fdc0",
              "version_major": 2,
              "version_minor": 0
            },
            "text/plain": [
              "Sanity Checking: 0it [00:00, ?it/s]"
            ]
          },
          "metadata": {},
          "output_type": "display_data"
        },
        {
          "name": "stderr",
          "output_type": "stream",
          "text": [
            "/usr/local/lib/python3.8/dist-packages/torch/utils/data/dataloader.py:554: UserWarning: This DataLoader will create 4 worker processes in total. Our suggested max number of worker in current system is 2, which is smaller than what this DataLoader is going to create. Please be aware that excessive worker creation might get DataLoader running slow or even freeze, lower the worker number to avoid potential slowness/freeze if necessary.\n",
            "  warnings.warn(_create_warning_msg(\n"
          ]
        },
        {
          "data": {
            "application/vnd.jupyter.widget-view+json": {
              "model_id": "568283f10d6d466daf1f40560a0fb635",
              "version_major": 2,
              "version_minor": 0
            },
            "text/plain": [
              "Training: 0it [00:00, ?it/s]"
            ]
          },
          "metadata": {},
          "output_type": "display_data"
        },
        {
          "name": "stderr",
          "output_type": "stream",
          "text": [
            "/usr/local/lib/python3.8/dist-packages/pytorch_lightning/trainer/call.py:48: UserWarning: Detected KeyboardInterrupt, attempting graceful shutdown...\n",
            "  rank_zero_warn(\"Detected KeyboardInterrupt, attempting graceful shutdown...\")\n"
          ]
        }
      ],
      "source": [
        "trainer.fit(model,data_module)"
      ]
    },
    {
      "cell_type": "markdown",
      "metadata": {
        "id": "y59F19R1Crst"
      },
      "source": [
        "# **Test on Image and Text**"
      ]
    },
    {
      "cell_type": "code",
      "execution_count": null,
      "metadata": {
        "colab": {
          "base_uri": "https://localhost:8080/",
          "height": 363
        },
        "id": "-3C0y6PSDRTI",
        "outputId": "741514f4-e665-4104-9169-af0b3ff4d4d6"
      },
      "outputs": [
        {
          "ename": "KeyboardInterrupt",
          "evalue": "ignored",
          "output_type": "error",
          "traceback": [
            "\u001b[0;31m---------------------------------------------------------------------------\u001b[0m",
            "\u001b[0;31mKeyboardInterrupt\u001b[0m                         Traceback (most recent call last)",
            "\u001b[0;32m<ipython-input-35-daf564aa184c>\u001b[0m in \u001b[0;36m<module>\u001b[0;34m\u001b[0m\n\u001b[1;32m      1\u001b[0m \u001b[0mcppath\u001b[0m \u001b[0;34m=\u001b[0m \u001b[0;34m'/content/checkpoints/best_cp.ckpt'\u001b[0m\u001b[0;34m\u001b[0m\u001b[0;34m\u001b[0m\u001b[0m\n\u001b[0;32m----> 2\u001b[0;31m \u001b[0mtrained_model\u001b[0m \u001b[0;34m=\u001b[0m \u001b[0mVQAModel\u001b[0m\u001b[0;34m.\u001b[0m\u001b[0mload_from_checkpoint\u001b[0m\u001b[0;34m(\u001b[0m\u001b[0mcppath\u001b[0m\u001b[0;34m)\u001b[0m\u001b[0;34m\u001b[0m\u001b[0;34m\u001b[0m\u001b[0m\n\u001b[0m\u001b[1;32m      3\u001b[0m \u001b[0mtrained_model\u001b[0m\u001b[0;34m.\u001b[0m\u001b[0mfreeze\u001b[0m\u001b[0;34m(\u001b[0m\u001b[0;34m)\u001b[0m\u001b[0;34m\u001b[0m\u001b[0;34m\u001b[0m\u001b[0m\n\u001b[1;32m      4\u001b[0m \u001b[0mtrainer\u001b[0m\u001b[0;34m.\u001b[0m\u001b[0mtest\u001b[0m\u001b[0;34m(\u001b[0m\u001b[0mtrained_model\u001b[0m\u001b[0;34m,\u001b[0m \u001b[0mdata_module\u001b[0m\u001b[0;34m)\u001b[0m\u001b[0;34m\u001b[0m\u001b[0;34m\u001b[0m\u001b[0m\n",
            "\u001b[0;32m/usr/local/lib/python3.8/dist-packages/pytorch_lightning/core/saving.py\u001b[0m in \u001b[0;36mload_from_checkpoint\u001b[0;34m(cls, checkpoint_path, map_location, hparams_file, strict, **kwargs)\u001b[0m\n\u001b[1;32m    137\u001b[0m             \u001b[0my_hat\u001b[0m \u001b[0;34m=\u001b[0m \u001b[0mpretrained_model\u001b[0m\u001b[0;34m(\u001b[0m\u001b[0mx\u001b[0m\u001b[0;34m)\u001b[0m\u001b[0;34m\u001b[0m\u001b[0;34m\u001b[0m\u001b[0m\n\u001b[1;32m    138\u001b[0m         \"\"\"\n\u001b[0;32m--> 139\u001b[0;31m         return _load_from_checkpoint(\n\u001b[0m\u001b[1;32m    140\u001b[0m             \u001b[0mcls\u001b[0m\u001b[0;34m,\u001b[0m\u001b[0;34m\u001b[0m\u001b[0;34m\u001b[0m\u001b[0m\n\u001b[1;32m    141\u001b[0m             \u001b[0mcheckpoint_path\u001b[0m\u001b[0;34m,\u001b[0m\u001b[0;34m\u001b[0m\u001b[0;34m\u001b[0m\u001b[0m\n",
            "\u001b[0;32m/usr/local/lib/python3.8/dist-packages/pytorch_lightning/core/saving.py\u001b[0m in \u001b[0;36m_load_from_checkpoint\u001b[0;34m(cls, checkpoint_path, map_location, hparams_file, strict, **kwargs)\u001b[0m\n\u001b[1;32m    158\u001b[0m         \u001b[0mmap_location\u001b[0m \u001b[0;34m=\u001b[0m \u001b[0mcast\u001b[0m\u001b[0;34m(\u001b[0m\u001b[0m_MAP_LOCATION_TYPE\u001b[0m\u001b[0;34m,\u001b[0m \u001b[0;32mlambda\u001b[0m \u001b[0mstorage\u001b[0m\u001b[0;34m,\u001b[0m \u001b[0mloc\u001b[0m\u001b[0;34m:\u001b[0m \u001b[0mstorage\u001b[0m\u001b[0;34m)\u001b[0m\u001b[0;34m\u001b[0m\u001b[0;34m\u001b[0m\u001b[0m\n\u001b[1;32m    159\u001b[0m     \u001b[0;32mwith\u001b[0m \u001b[0mpl_legacy_patch\u001b[0m\u001b[0;34m(\u001b[0m\u001b[0;34m)\u001b[0m\u001b[0;34m:\u001b[0m\u001b[0;34m\u001b[0m\u001b[0;34m\u001b[0m\u001b[0m\n\u001b[0;32m--> 160\u001b[0;31m         \u001b[0mcheckpoint\u001b[0m \u001b[0;34m=\u001b[0m \u001b[0mpl_load\u001b[0m\u001b[0;34m(\u001b[0m\u001b[0mcheckpoint_path\u001b[0m\u001b[0;34m,\u001b[0m \u001b[0mmap_location\u001b[0m\u001b[0;34m=\u001b[0m\u001b[0mmap_location\u001b[0m\u001b[0;34m)\u001b[0m\u001b[0;34m\u001b[0m\u001b[0;34m\u001b[0m\u001b[0m\n\u001b[0m\u001b[1;32m    161\u001b[0m \u001b[0;34m\u001b[0m\u001b[0m\n\u001b[1;32m    162\u001b[0m     \u001b[0;31m# convert legacy checkpoints to the new format\u001b[0m\u001b[0;34m\u001b[0m\u001b[0;34m\u001b[0m\u001b[0;34m\u001b[0m\u001b[0m\n",
            "\u001b[0;32m/usr/local/lib/python3.8/dist-packages/lightning_fabric/utilities/cloud_io.py\u001b[0m in \u001b[0;36m_load\u001b[0;34m(path_or_url, map_location)\u001b[0m\n\u001b[1;32m     46\u001b[0m     \u001b[0mfs\u001b[0m \u001b[0;34m=\u001b[0m \u001b[0mget_filesystem\u001b[0m\u001b[0;34m(\u001b[0m\u001b[0mpath_or_url\u001b[0m\u001b[0;34m)\u001b[0m\u001b[0;34m\u001b[0m\u001b[0;34m\u001b[0m\u001b[0m\n\u001b[1;32m     47\u001b[0m     \u001b[0;32mwith\u001b[0m \u001b[0mfs\u001b[0m\u001b[0;34m.\u001b[0m\u001b[0mopen\u001b[0m\u001b[0;34m(\u001b[0m\u001b[0mpath_or_url\u001b[0m\u001b[0;34m,\u001b[0m \u001b[0;34m\"rb\"\u001b[0m\u001b[0;34m)\u001b[0m \u001b[0;32mas\u001b[0m \u001b[0mf\u001b[0m\u001b[0;34m:\u001b[0m\u001b[0;34m\u001b[0m\u001b[0;34m\u001b[0m\u001b[0m\n\u001b[0;32m---> 48\u001b[0;31m         \u001b[0;32mreturn\u001b[0m \u001b[0mtorch\u001b[0m\u001b[0;34m.\u001b[0m\u001b[0mload\u001b[0m\u001b[0;34m(\u001b[0m\u001b[0mf\u001b[0m\u001b[0;34m,\u001b[0m \u001b[0mmap_location\u001b[0m\u001b[0;34m=\u001b[0m\u001b[0mmap_location\u001b[0m\u001b[0;34m)\u001b[0m\u001b[0;34m\u001b[0m\u001b[0;34m\u001b[0m\u001b[0m\n\u001b[0m\u001b[1;32m     49\u001b[0m \u001b[0;34m\u001b[0m\u001b[0m\n\u001b[1;32m     50\u001b[0m \u001b[0;34m\u001b[0m\u001b[0m\n",
            "\u001b[0;32m/usr/local/lib/python3.8/dist-packages/torch/serialization.py\u001b[0m in \u001b[0;36mload\u001b[0;34m(f, map_location, pickle_module, weights_only, **pickle_load_args)\u001b[0m\n\u001b[1;32m    787\u001b[0m                     \u001b[0;32mexcept\u001b[0m \u001b[0mRuntimeError\u001b[0m \u001b[0;32mas\u001b[0m \u001b[0me\u001b[0m\u001b[0;34m:\u001b[0m\u001b[0;34m\u001b[0m\u001b[0;34m\u001b[0m\u001b[0m\n\u001b[1;32m    788\u001b[0m                         \u001b[0;32mraise\u001b[0m \u001b[0mpickle\u001b[0m\u001b[0;34m.\u001b[0m\u001b[0mUnpicklingError\u001b[0m\u001b[0;34m(\u001b[0m\u001b[0mUNSAFE_MESSAGE\u001b[0m \u001b[0;34m+\u001b[0m \u001b[0mstr\u001b[0m\u001b[0;34m(\u001b[0m\u001b[0me\u001b[0m\u001b[0;34m)\u001b[0m\u001b[0;34m)\u001b[0m \u001b[0;32mfrom\u001b[0m \u001b[0;32mNone\u001b[0m\u001b[0;34m\u001b[0m\u001b[0;34m\u001b[0m\u001b[0m\n\u001b[0;32m--> 789\u001b[0;31m                 \u001b[0;32mreturn\u001b[0m \u001b[0m_load\u001b[0m\u001b[0;34m(\u001b[0m\u001b[0mopened_zipfile\u001b[0m\u001b[0;34m,\u001b[0m \u001b[0mmap_location\u001b[0m\u001b[0;34m,\u001b[0m \u001b[0mpickle_module\u001b[0m\u001b[0;34m,\u001b[0m \u001b[0;34m**\u001b[0m\u001b[0mpickle_load_args\u001b[0m\u001b[0;34m)\u001b[0m\u001b[0;34m\u001b[0m\u001b[0;34m\u001b[0m\u001b[0m\n\u001b[0m\u001b[1;32m    790\u001b[0m         \u001b[0;32mif\u001b[0m \u001b[0mweights_only\u001b[0m\u001b[0;34m:\u001b[0m\u001b[0;34m\u001b[0m\u001b[0;34m\u001b[0m\u001b[0m\n\u001b[1;32m    791\u001b[0m             \u001b[0;32mtry\u001b[0m\u001b[0;34m:\u001b[0m\u001b[0;34m\u001b[0m\u001b[0;34m\u001b[0m\u001b[0m\n",
            "\u001b[0;32m/usr/local/lib/python3.8/dist-packages/torch/serialization.py\u001b[0m in \u001b[0;36m_load\u001b[0;34m(zip_file, map_location, pickle_module, pickle_file, **pickle_load_args)\u001b[0m\n\u001b[1;32m   1129\u001b[0m     \u001b[0munpickler\u001b[0m \u001b[0;34m=\u001b[0m \u001b[0mUnpicklerWrapper\u001b[0m\u001b[0;34m(\u001b[0m\u001b[0mdata_file\u001b[0m\u001b[0;34m,\u001b[0m \u001b[0;34m**\u001b[0m\u001b[0mpickle_load_args\u001b[0m\u001b[0;34m)\u001b[0m\u001b[0;34m\u001b[0m\u001b[0;34m\u001b[0m\u001b[0m\n\u001b[1;32m   1130\u001b[0m     \u001b[0munpickler\u001b[0m\u001b[0;34m.\u001b[0m\u001b[0mpersistent_load\u001b[0m \u001b[0;34m=\u001b[0m \u001b[0mpersistent_load\u001b[0m\u001b[0;34m\u001b[0m\u001b[0;34m\u001b[0m\u001b[0m\n\u001b[0;32m-> 1131\u001b[0;31m     \u001b[0mresult\u001b[0m \u001b[0;34m=\u001b[0m \u001b[0munpickler\u001b[0m\u001b[0;34m.\u001b[0m\u001b[0mload\u001b[0m\u001b[0;34m(\u001b[0m\u001b[0;34m)\u001b[0m\u001b[0;34m\u001b[0m\u001b[0;34m\u001b[0m\u001b[0m\n\u001b[0m\u001b[1;32m   1132\u001b[0m \u001b[0;34m\u001b[0m\u001b[0m\n\u001b[1;32m   1133\u001b[0m     \u001b[0mtorch\u001b[0m\u001b[0;34m.\u001b[0m\u001b[0m_utils\u001b[0m\u001b[0;34m.\u001b[0m\u001b[0m_validate_loaded_sparse_tensors\u001b[0m\u001b[0;34m(\u001b[0m\u001b[0;34m)\u001b[0m\u001b[0;34m\u001b[0m\u001b[0;34m\u001b[0m\u001b[0m\n",
            "\u001b[0;32m/usr/lib/python3.8/pickle.py\u001b[0m in \u001b[0;36mload\u001b[0;34m(self)\u001b[0m\n\u001b[1;32m   1210\u001b[0m                     \u001b[0;32mraise\u001b[0m \u001b[0mEOFError\u001b[0m\u001b[0;34m\u001b[0m\u001b[0;34m\u001b[0m\u001b[0m\n\u001b[1;32m   1211\u001b[0m                 \u001b[0;32massert\u001b[0m \u001b[0misinstance\u001b[0m\u001b[0;34m(\u001b[0m\u001b[0mkey\u001b[0m\u001b[0;34m,\u001b[0m \u001b[0mbytes_types\u001b[0m\u001b[0;34m)\u001b[0m\u001b[0;34m\u001b[0m\u001b[0;34m\u001b[0m\u001b[0m\n\u001b[0;32m-> 1212\u001b[0;31m                 \u001b[0mdispatch\u001b[0m\u001b[0;34m[\u001b[0m\u001b[0mkey\u001b[0m\u001b[0;34m[\u001b[0m\u001b[0;36m0\u001b[0m\u001b[0;34m]\u001b[0m\u001b[0;34m]\u001b[0m\u001b[0;34m(\u001b[0m\u001b[0mself\u001b[0m\u001b[0;34m)\u001b[0m\u001b[0;34m\u001b[0m\u001b[0;34m\u001b[0m\u001b[0m\n\u001b[0m\u001b[1;32m   1213\u001b[0m         \u001b[0;32mexcept\u001b[0m \u001b[0m_Stop\u001b[0m \u001b[0;32mas\u001b[0m \u001b[0mstopinst\u001b[0m\u001b[0;34m:\u001b[0m\u001b[0;34m\u001b[0m\u001b[0;34m\u001b[0m\u001b[0m\n\u001b[1;32m   1214\u001b[0m             \u001b[0;32mreturn\u001b[0m \u001b[0mstopinst\u001b[0m\u001b[0;34m.\u001b[0m\u001b[0mvalue\u001b[0m\u001b[0;34m\u001b[0m\u001b[0;34m\u001b[0m\u001b[0m\n",
            "\u001b[0;32m/usr/lib/python3.8/pickle.py\u001b[0m in \u001b[0;36mload_binpersid\u001b[0;34m(self)\u001b[0m\n\u001b[1;32m   1251\u001b[0m     \u001b[0;32mdef\u001b[0m \u001b[0mload_binpersid\u001b[0m\u001b[0;34m(\u001b[0m\u001b[0mself\u001b[0m\u001b[0;34m)\u001b[0m\u001b[0;34m:\u001b[0m\u001b[0;34m\u001b[0m\u001b[0;34m\u001b[0m\u001b[0m\n\u001b[1;32m   1252\u001b[0m         \u001b[0mpid\u001b[0m \u001b[0;34m=\u001b[0m \u001b[0mself\u001b[0m\u001b[0;34m.\u001b[0m\u001b[0mstack\u001b[0m\u001b[0;34m.\u001b[0m\u001b[0mpop\u001b[0m\u001b[0;34m(\u001b[0m\u001b[0;34m)\u001b[0m\u001b[0;34m\u001b[0m\u001b[0;34m\u001b[0m\u001b[0m\n\u001b[0;32m-> 1253\u001b[0;31m         \u001b[0mself\u001b[0m\u001b[0;34m.\u001b[0m\u001b[0mappend\u001b[0m\u001b[0;34m(\u001b[0m\u001b[0mself\u001b[0m\u001b[0;34m.\u001b[0m\u001b[0mpersistent_load\u001b[0m\u001b[0;34m(\u001b[0m\u001b[0mpid\u001b[0m\u001b[0;34m)\u001b[0m\u001b[0;34m)\u001b[0m\u001b[0;34m\u001b[0m\u001b[0;34m\u001b[0m\u001b[0m\n\u001b[0m\u001b[1;32m   1254\u001b[0m     \u001b[0mdispatch\u001b[0m\u001b[0;34m[\u001b[0m\u001b[0mBINPERSID\u001b[0m\u001b[0;34m[\u001b[0m\u001b[0;36m0\u001b[0m\u001b[0;34m]\u001b[0m\u001b[0;34m]\u001b[0m \u001b[0;34m=\u001b[0m \u001b[0mload_binpersid\u001b[0m\u001b[0;34m\u001b[0m\u001b[0;34m\u001b[0m\u001b[0m\n\u001b[1;32m   1255\u001b[0m \u001b[0;34m\u001b[0m\u001b[0m\n",
            "\u001b[0;32m/usr/local/lib/python3.8/dist-packages/torch/serialization.py\u001b[0m in \u001b[0;36mpersistent_load\u001b[0;34m(saved_id)\u001b[0m\n\u001b[1;32m   1099\u001b[0m         \u001b[0;32mif\u001b[0m \u001b[0mkey\u001b[0m \u001b[0;32mnot\u001b[0m \u001b[0;32min\u001b[0m \u001b[0mloaded_storages\u001b[0m\u001b[0;34m:\u001b[0m\u001b[0;34m\u001b[0m\u001b[0;34m\u001b[0m\u001b[0m\n\u001b[1;32m   1100\u001b[0m             \u001b[0mnbytes\u001b[0m \u001b[0;34m=\u001b[0m \u001b[0mnumel\u001b[0m \u001b[0;34m*\u001b[0m \u001b[0mtorch\u001b[0m\u001b[0;34m.\u001b[0m\u001b[0m_utils\u001b[0m\u001b[0;34m.\u001b[0m\u001b[0m_element_size\u001b[0m\u001b[0;34m(\u001b[0m\u001b[0mdtype\u001b[0m\u001b[0;34m)\u001b[0m\u001b[0;34m\u001b[0m\u001b[0;34m\u001b[0m\u001b[0m\n\u001b[0;32m-> 1101\u001b[0;31m             \u001b[0mload_tensor\u001b[0m\u001b[0;34m(\u001b[0m\u001b[0mdtype\u001b[0m\u001b[0;34m,\u001b[0m \u001b[0mnbytes\u001b[0m\u001b[0;34m,\u001b[0m \u001b[0mkey\u001b[0m\u001b[0;34m,\u001b[0m \u001b[0m_maybe_decode_ascii\u001b[0m\u001b[0;34m(\u001b[0m\u001b[0mlocation\u001b[0m\u001b[0;34m)\u001b[0m\u001b[0;34m)\u001b[0m\u001b[0;34m\u001b[0m\u001b[0;34m\u001b[0m\u001b[0m\n\u001b[0m\u001b[1;32m   1102\u001b[0m \u001b[0;34m\u001b[0m\u001b[0m\n\u001b[1;32m   1103\u001b[0m         \u001b[0;32mreturn\u001b[0m \u001b[0mloaded_storages\u001b[0m\u001b[0;34m[\u001b[0m\u001b[0mkey\u001b[0m\u001b[0;34m]\u001b[0m\u001b[0;34m\u001b[0m\u001b[0;34m\u001b[0m\u001b[0m\n",
            "\u001b[0;32m/usr/local/lib/python3.8/dist-packages/torch/serialization.py\u001b[0m in \u001b[0;36mload_tensor\u001b[0;34m(dtype, numel, key, location)\u001b[0m\n\u001b[1;32m   1077\u001b[0m         \u001b[0mname\u001b[0m \u001b[0;34m=\u001b[0m \u001b[0;34mf'data/{key}'\u001b[0m\u001b[0;34m\u001b[0m\u001b[0;34m\u001b[0m\u001b[0m\n\u001b[1;32m   1078\u001b[0m \u001b[0;34m\u001b[0m\u001b[0m\n\u001b[0;32m-> 1079\u001b[0;31m         \u001b[0mstorage\u001b[0m \u001b[0;34m=\u001b[0m \u001b[0mzip_file\u001b[0m\u001b[0;34m.\u001b[0m\u001b[0mget_storage_from_record\u001b[0m\u001b[0;34m(\u001b[0m\u001b[0mname\u001b[0m\u001b[0;34m,\u001b[0m \u001b[0mnumel\u001b[0m\u001b[0;34m,\u001b[0m \u001b[0mtorch\u001b[0m\u001b[0;34m.\u001b[0m\u001b[0mUntypedStorage\u001b[0m\u001b[0;34m)\u001b[0m\u001b[0;34m.\u001b[0m\u001b[0mstorage\u001b[0m\u001b[0;34m(\u001b[0m\u001b[0;34m)\u001b[0m\u001b[0;34m.\u001b[0m\u001b[0muntyped\u001b[0m\u001b[0;34m(\u001b[0m\u001b[0;34m)\u001b[0m\u001b[0;34m\u001b[0m\u001b[0;34m\u001b[0m\u001b[0m\n\u001b[0m\u001b[1;32m   1080\u001b[0m         \u001b[0;31m# TODO: Once we decide to break serialization FC, we can\u001b[0m\u001b[0;34m\u001b[0m\u001b[0;34m\u001b[0m\u001b[0;34m\u001b[0m\u001b[0m\n\u001b[1;32m   1081\u001b[0m         \u001b[0;31m# stop wrapping with TypedStorage\u001b[0m\u001b[0;34m\u001b[0m\u001b[0;34m\u001b[0m\u001b[0;34m\u001b[0m\u001b[0m\n",
            "\u001b[0;31mKeyboardInterrupt\u001b[0m: "
          ]
        }
      ],
      "source": [
        "cppath = '/content/checkpoints/best_cp.ckpt'\n",
        "trained_model = VQAModel.load_from_checkpoint(cppath)\n",
        "trained_model.freeze()\n",
        "trainer.test(trained_model, data_module)"
      ]
    },
    {
      "cell_type": "code",
      "execution_count": null,
      "metadata": {
        "id": "FvqGYjYNDzjN"
      },
      "outputs": [],
      "source": [
        "def generate_ans(idx=0,dframe=test_df):\n",
        "    img_model = timm.create_model('efficientnet_b0', pretrained=True)\n",
        "    img_model.aux_logits=False\n",
        "\n",
        "    # Freeze training for all layers\n",
        "    for param in img_model.parameters():\n",
        "        param.requires_grad = False\n",
        "    \n",
        "    img_model.classifier = torch.nn.Sequential(\n",
        "                      torch.nn.Linear(img_model.classifier.in_features, 256),\n",
        "                      torch.nn.Dropout(0.5),\n",
        "                      torch.nn.ReLU(inplace=True),\n",
        "                      torch.nn.BatchNorm1d(256),\n",
        "                      torch.nn.Linear(256, 64))\n",
        "    \n",
        "    img_model.eval()\n",
        "\n",
        "    row = dframe.iloc[idx]\n",
        "    question = row['question']\n",
        "    image_path = row['image_path']\n",
        "    answer = row['answer']\n",
        "\n",
        "    print(\"QUESTION : \",question)\n",
        "\n",
        "    image = cv2.imread(image_path)\n",
        "    image = cv2.resize(image, (224, 224))  \n",
        "    cv2_imshow(image)\n",
        "\n",
        "    print(\"ANSWER : \",answer)\n",
        "\n",
        "    transform = transforms.Compose([\n",
        "    transforms.Resize((224, 224)),\n",
        "    transforms.ToTensor()])\n",
        "  \n",
        "    # load the image and apply transform\n",
        "    img = PIL.Image.open(image_path)\n",
        "    img.show()\n",
        "    img = transform(img)\n",
        "    img = img.unsqueeze(0)\n",
        "\n",
        "    # Generate the image embedding\n",
        "    with torch.no_grad():\n",
        "        img = img_model(img)\n",
        "\n",
        "    img = img.squeeze()\n",
        "    \n",
        "    img = ','.join(str(x) for x in img)\n",
        "    quesimg = f\"question: {question} context: {img}\"\n",
        "\n",
        "    quesimg = tokenizer(quesimg, padding='max_length',truncation = True,\n",
        "                              return_attention_mask = True,add_special_tokens = True, \n",
        "                              max_length=200, return_tensors='pt')\n",
        "    \n",
        "    input_ids = quesimg['input_ids']\n",
        "    attention_mask = quesimg['attention_mask']\n",
        "\n",
        "    generated_ids = trained_model.text_model.generate(\n",
        "        input_ids = input_ids,\n",
        "        attention_mask = attention_mask,\n",
        "        num_beams = 1,\n",
        "        max_length = 64,\n",
        "        repetition_penalty = 2.5,\n",
        "        length_penalty = 1.0,\n",
        "        early_stopping = True,\n",
        "        use_cache = True)\n",
        "    \n",
        "    preds = [\n",
        "        tokenizer.decode(generated_id,skip_special_tokens=True,clean_up_tokenization_spaces=True)\n",
        "        for generated_id in generated_ids]\n",
        "    \n",
        "    return \" \".join(preds)"
      ]
    },
    {
      "cell_type": "code",
      "execution_count": null,
      "metadata": {
        "id": "5mwVS-OcFZ39"
      },
      "outputs": [],
      "source": [
        "ans = generate_ans(55,test_df)\n",
        "print(\"PREDICTED ANSWER : \",ans)"
      ]
    },
    {
      "cell_type": "code",
      "execution_count": null,
      "metadata": {
        "id": "c37RtQNdGPEv"
      },
      "outputs": [],
      "source": [
        "ans = generate_ans(1,test_df)\n",
        "print(\"PREDICTED ANSWER : \",ans)"
      ]
    },
    {
      "cell_type": "code",
      "execution_count": null,
      "metadata": {
        "id": "KbDQ_q-pxPwx"
      },
      "outputs": [],
      "source": [
        "ans = generate_ans(65,test_df)\n",
        "print(\"PREDICTED ANSWER : \",ans)"
      ]
    },
    {
      "cell_type": "code",
      "execution_count": null,
      "metadata": {
        "id": "HVx4jni5xStU"
      },
      "outputs": [],
      "source": [
        "ans = generate_ans(2,test_df)\n",
        "print(\"PREDICTED ANSWER : \",ans)"
      ]
    },
    {
      "cell_type": "code",
      "execution_count": null,
      "metadata": {
        "id": "tYtXVKPUxvgi"
      },
      "outputs": [],
      "source": [
        "ans = generate_ans(37,test_df)\n",
        "print(\"PREDICTED ANSWER : \",ans)"
      ]
    },
    {
      "cell_type": "code",
      "execution_count": null,
      "metadata": {
        "id": "XeLVikPbDY6x"
      },
      "outputs": [],
      "source": [
        "ans = generate_ans(42,test_df)\n",
        "print(\"PREDICTED ANSWER : \",ans)"
      ]
    },
    {
      "cell_type": "code",
      "execution_count": null,
      "metadata": {
        "id": "MiZg1uCEDbiZ"
      },
      "outputs": [],
      "source": [
        "ans = generate_ans(15,test_df)\n",
        "print(\"PREDICTED ANSWER : \",ans)"
      ]
    },
    {
      "cell_type": "code",
      "execution_count": null,
      "metadata": {
        "id": "5XRjOEw-DeOt"
      },
      "outputs": [],
      "source": [
        "ans = generate_ans(7,test_df)\n",
        "print(\"PREDICTED ANSWER : \",ans)"
      ]
    },
    {
      "cell_type": "code",
      "execution_count": null,
      "metadata": {
        "id": "ED88Ry-ZDhzR"
      },
      "outputs": [],
      "source": [
        "ans = generate_ans(71,test_df)\n",
        "print(\"PREDICTED ANSWER : \",ans)"
      ]
    },
    {
      "cell_type": "code",
      "execution_count": null,
      "metadata": {
        "id": "mnYCMTtPDmoD"
      },
      "outputs": [],
      "source": [
        "ans = generate_ans(80,test_df)\n",
        "print(\"PREDICTED ANSWER : \",ans)"
      ]
    },
    {
      "cell_type": "code",
      "execution_count": null,
      "metadata": {
        "id": "dFpfT4T0Drj9"
      },
      "outputs": [],
      "source": [
        "ans = generate_ans(25,test_df)\n",
        "print(\"PREDICTED ANSWER : \",ans)"
      ]
    },
    {
      "cell_type": "code",
      "execution_count": null,
      "metadata": {
        "id": "F-OinEhwDvPJ"
      },
      "outputs": [],
      "source": [
        "ans = generate_ans(73,test_df)\n",
        "print(\"PREDICTED ANSWER : \",ans)"
      ]
    },
    {
      "cell_type": "code",
      "execution_count": null,
      "metadata": {
        "id": "go9L0mK-D4ug"
      },
      "outputs": [],
      "source": [
        "ans = generate_ans(49,test_df)\n",
        "print(\"PREDICTED ANSWER : \",ans)"
      ]
    },
    {
      "cell_type": "code",
      "execution_count": null,
      "metadata": {
        "id": "CKKGVdNWD-9x"
      },
      "outputs": [],
      "source": [
        "ans = generate_ans(99,test_df)\n",
        "print(\"PREDICTED ANSWER : \",ans)"
      ]
    },
    {
      "cell_type": "code",
      "execution_count": null,
      "metadata": {
        "id": "a7_M9WxsED8s"
      },
      "outputs": [],
      "source": [
        "\n"
      ]
    },
    {
      "cell_type": "code",
      "execution_count": null,
      "metadata": {
        "id": "Ke0VHCoJIZDB"
      },
      "outputs": [],
      "source": []
    }
  ],
  "metadata": {
    "accelerator": "GPU",
    "colab": {
      "provenance": []
    },
    "gpuClass": "standard",
    "kernelspec": {
      "display_name": "base",
      "language": "python",
      "name": "python3"
    },
    "language_info": {
      "codemirror_mode": {
        "name": "ipython",
        "version": 3
      },
      "file_extension": ".py",
      "mimetype": "text/x-python",
      "name": "python",
      "nbconvert_exporter": "python",
      "pygments_lexer": "ipython3",
      "version": "3.9.13"
    },
    "vscode": {
      "interpreter": {
        "hash": "cb55fc07207cf99429d79100a82d3e3bef8ab543ba4cc8507f9f18bb36df4fd5"
      }
    },
    "widgets": {
      "application/vnd.jupyter.widget-state+json": {
        "042c25f519ce49bcbb5510121c58ec57": {
          "model_module": "@jupyter-widgets/controls",
          "model_module_version": "1.5.0",
          "model_name": "DescriptionStyleModel",
          "state": {
            "_model_module": "@jupyter-widgets/controls",
            "_model_module_version": "1.5.0",
            "_model_name": "DescriptionStyleModel",
            "_view_count": null,
            "_view_module": "@jupyter-widgets/base",
            "_view_module_version": "1.2.0",
            "_view_name": "StyleView",
            "description_width": ""
          }
        },
        "09cdc2a3b3f14031a69f8178984e014a": {
          "model_module": "@jupyter-widgets/base",
          "model_module_version": "1.2.0",
          "model_name": "LayoutModel",
          "state": {
            "_model_module": "@jupyter-widgets/base",
            "_model_module_version": "1.2.0",
            "_model_name": "LayoutModel",
            "_view_count": null,
            "_view_module": "@jupyter-widgets/base",
            "_view_module_version": "1.2.0",
            "_view_name": "LayoutView",
            "align_content": null,
            "align_items": null,
            "align_self": null,
            "border": null,
            "bottom": null,
            "display": null,
            "flex": "2",
            "flex_flow": null,
            "grid_area": null,
            "grid_auto_columns": null,
            "grid_auto_flow": null,
            "grid_auto_rows": null,
            "grid_column": null,
            "grid_gap": null,
            "grid_row": null,
            "grid_template_areas": null,
            "grid_template_columns": null,
            "grid_template_rows": null,
            "height": null,
            "justify_content": null,
            "justify_items": null,
            "left": null,
            "margin": null,
            "max_height": null,
            "max_width": null,
            "min_height": null,
            "min_width": null,
            "object_fit": null,
            "object_position": null,
            "order": null,
            "overflow": null,
            "overflow_x": null,
            "overflow_y": null,
            "padding": null,
            "right": null,
            "top": null,
            "visibility": null,
            "width": null
          }
        },
        "4b4b8b7523b9466d8153600248c6e369": {
          "model_module": "@jupyter-widgets/controls",
          "model_module_version": "1.5.0",
          "model_name": "HTMLModel",
          "state": {
            "_dom_classes": [],
            "_model_module": "@jupyter-widgets/controls",
            "_model_module_version": "1.5.0",
            "_model_name": "HTMLModel",
            "_view_count": null,
            "_view_module": "@jupyter-widgets/controls",
            "_view_module_version": "1.5.0",
            "_view_name": "HTMLView",
            "description": "",
            "description_tooltip": null,
            "layout": "IPY_MODEL_df5ef076e4ef41e7b36269b5bfddabe8",
            "placeholder": "​",
            "style": "IPY_MODEL_ed9fbe4c2792405ba35b47a8439238ca",
            "value": " 2/2 [00:05&lt;00:00,  2.76s/it]"
          }
        },
        "565e3075ba2d404cb7ed14df48e10aba": {
          "model_module": "@jupyter-widgets/base",
          "model_module_version": "1.2.0",
          "model_name": "LayoutModel",
          "state": {
            "_model_module": "@jupyter-widgets/base",
            "_model_module_version": "1.2.0",
            "_model_name": "LayoutModel",
            "_view_count": null,
            "_view_module": "@jupyter-widgets/base",
            "_view_module_version": "1.2.0",
            "_view_name": "LayoutView",
            "align_content": null,
            "align_items": null,
            "align_self": null,
            "border": null,
            "bottom": null,
            "display": "inline-flex",
            "flex": null,
            "flex_flow": "row wrap",
            "grid_area": null,
            "grid_auto_columns": null,
            "grid_auto_flow": null,
            "grid_auto_rows": null,
            "grid_column": null,
            "grid_gap": null,
            "grid_row": null,
            "grid_template_areas": null,
            "grid_template_columns": null,
            "grid_template_rows": null,
            "height": null,
            "justify_content": null,
            "justify_items": null,
            "left": null,
            "margin": null,
            "max_height": null,
            "max_width": null,
            "min_height": null,
            "min_width": null,
            "object_fit": null,
            "object_position": null,
            "order": null,
            "overflow": null,
            "overflow_x": null,
            "overflow_y": null,
            "padding": null,
            "right": null,
            "top": null,
            "visibility": "hidden",
            "width": "100%"
          }
        },
        "568283f10d6d466daf1f40560a0fb635": {
          "model_module": "@jupyter-widgets/controls",
          "model_module_version": "1.5.0",
          "model_name": "HBoxModel",
          "state": {
            "_dom_classes": [],
            "_model_module": "@jupyter-widgets/controls",
            "_model_module_version": "1.5.0",
            "_model_name": "HBoxModel",
            "_view_count": null,
            "_view_module": "@jupyter-widgets/controls",
            "_view_module_version": "1.5.0",
            "_view_name": "HBoxView",
            "box_style": "",
            "children": [
              "IPY_MODEL_fe8984ec41534210a2dd67d3834d965b",
              "IPY_MODEL_f44321fddd564e4dbdd99834d6e8a20e",
              "IPY_MODEL_7c0ffd9035e144f5b33c545cdd1b778a"
            ],
            "layout": "IPY_MODEL_dbaa6fdb189049be99315b99fbf5e5db"
          }
        },
        "671da53b131c4478ba1fc6de31881ad7": {
          "model_module": "@jupyter-widgets/base",
          "model_module_version": "1.2.0",
          "model_name": "LayoutModel",
          "state": {
            "_model_module": "@jupyter-widgets/base",
            "_model_module_version": "1.2.0",
            "_model_name": "LayoutModel",
            "_view_count": null,
            "_view_module": "@jupyter-widgets/base",
            "_view_module_version": "1.2.0",
            "_view_name": "LayoutView",
            "align_content": null,
            "align_items": null,
            "align_self": null,
            "border": null,
            "bottom": null,
            "display": null,
            "flex": null,
            "flex_flow": null,
            "grid_area": null,
            "grid_auto_columns": null,
            "grid_auto_flow": null,
            "grid_auto_rows": null,
            "grid_column": null,
            "grid_gap": null,
            "grid_row": null,
            "grid_template_areas": null,
            "grid_template_columns": null,
            "grid_template_rows": null,
            "height": null,
            "justify_content": null,
            "justify_items": null,
            "left": null,
            "margin": null,
            "max_height": null,
            "max_width": null,
            "min_height": null,
            "min_width": null,
            "object_fit": null,
            "object_position": null,
            "order": null,
            "overflow": null,
            "overflow_x": null,
            "overflow_y": null,
            "padding": null,
            "right": null,
            "top": null,
            "visibility": null,
            "width": null
          }
        },
        "6dd519dd4d374bac92d67316e4979e8f": {
          "model_module": "@jupyter-widgets/controls",
          "model_module_version": "1.5.0",
          "model_name": "HTMLModel",
          "state": {
            "_dom_classes": [],
            "_model_module": "@jupyter-widgets/controls",
            "_model_module_version": "1.5.0",
            "_model_name": "HTMLModel",
            "_view_count": null,
            "_view_module": "@jupyter-widgets/controls",
            "_view_module_version": "1.5.0",
            "_view_name": "HTMLView",
            "description": "",
            "description_tooltip": null,
            "layout": "IPY_MODEL_9bfb951a0c4743f5b9a0ae5d85b4b5ba",
            "placeholder": "​",
            "style": "IPY_MODEL_042c25f519ce49bcbb5510121c58ec57",
            "value": "Sanity Checking DataLoader 0: 100%"
          }
        },
        "708fafbc6d2d4207984a4ad75436d08c": {
          "model_module": "@jupyter-widgets/controls",
          "model_module_version": "1.5.0",
          "model_name": "ProgressStyleModel",
          "state": {
            "_model_module": "@jupyter-widgets/controls",
            "_model_module_version": "1.5.0",
            "_model_name": "ProgressStyleModel",
            "_view_count": null,
            "_view_module": "@jupyter-widgets/base",
            "_view_module_version": "1.2.0",
            "_view_name": "StyleView",
            "bar_color": null,
            "description_width": ""
          }
        },
        "7c0ffd9035e144f5b33c545cdd1b778a": {
          "model_module": "@jupyter-widgets/controls",
          "model_module_version": "1.5.0",
          "model_name": "HTMLModel",
          "state": {
            "_dom_classes": [],
            "_model_module": "@jupyter-widgets/controls",
            "_model_module_version": "1.5.0",
            "_model_name": "HTMLModel",
            "_view_count": null,
            "_view_module": "@jupyter-widgets/controls",
            "_view_module_version": "1.5.0",
            "_view_name": "HTMLView",
            "description": "",
            "description_tooltip": null,
            "layout": "IPY_MODEL_d6a37e5998e64087af402465bfe980c8",
            "placeholder": "​",
            "style": "IPY_MODEL_bede18964e2a41bdb0fcf429cd515892",
            "value": " 183/396 [02:56&lt;03:25,  1.04it/s, loss=2.12, v_num=1, train_loss=1.300]"
          }
        },
        "8555dc8870524ccdb74679abc294ac9d": {
          "model_module": "@jupyter-widgets/controls",
          "model_module_version": "1.5.0",
          "model_name": "DescriptionStyleModel",
          "state": {
            "_model_module": "@jupyter-widgets/controls",
            "_model_module_version": "1.5.0",
            "_model_name": "DescriptionStyleModel",
            "_view_count": null,
            "_view_module": "@jupyter-widgets/base",
            "_view_module_version": "1.2.0",
            "_view_name": "StyleView",
            "description_width": ""
          }
        },
        "9bfb951a0c4743f5b9a0ae5d85b4b5ba": {
          "model_module": "@jupyter-widgets/base",
          "model_module_version": "1.2.0",
          "model_name": "LayoutModel",
          "state": {
            "_model_module": "@jupyter-widgets/base",
            "_model_module_version": "1.2.0",
            "_model_name": "LayoutModel",
            "_view_count": null,
            "_view_module": "@jupyter-widgets/base",
            "_view_module_version": "1.2.0",
            "_view_name": "LayoutView",
            "align_content": null,
            "align_items": null,
            "align_self": null,
            "border": null,
            "bottom": null,
            "display": null,
            "flex": null,
            "flex_flow": null,
            "grid_area": null,
            "grid_auto_columns": null,
            "grid_auto_flow": null,
            "grid_auto_rows": null,
            "grid_column": null,
            "grid_gap": null,
            "grid_row": null,
            "grid_template_areas": null,
            "grid_template_columns": null,
            "grid_template_rows": null,
            "height": null,
            "justify_content": null,
            "justify_items": null,
            "left": null,
            "margin": null,
            "max_height": null,
            "max_width": null,
            "min_height": null,
            "min_width": null,
            "object_fit": null,
            "object_position": null,
            "order": null,
            "overflow": null,
            "overflow_x": null,
            "overflow_y": null,
            "padding": null,
            "right": null,
            "top": null,
            "visibility": null,
            "width": null
          }
        },
        "aaac63ff2ffc489dbacbfaad91d0fdc0": {
          "model_module": "@jupyter-widgets/controls",
          "model_module_version": "1.5.0",
          "model_name": "HBoxModel",
          "state": {
            "_dom_classes": [],
            "_model_module": "@jupyter-widgets/controls",
            "_model_module_version": "1.5.0",
            "_model_name": "HBoxModel",
            "_view_count": null,
            "_view_module": "@jupyter-widgets/controls",
            "_view_module_version": "1.5.0",
            "_view_name": "HBoxView",
            "box_style": "",
            "children": [
              "IPY_MODEL_6dd519dd4d374bac92d67316e4979e8f",
              "IPY_MODEL_d4f60d23ee164376acd23d859397d2cb",
              "IPY_MODEL_4b4b8b7523b9466d8153600248c6e369"
            ],
            "layout": "IPY_MODEL_565e3075ba2d404cb7ed14df48e10aba"
          }
        },
        "bede18964e2a41bdb0fcf429cd515892": {
          "model_module": "@jupyter-widgets/controls",
          "model_module_version": "1.5.0",
          "model_name": "DescriptionStyleModel",
          "state": {
            "_model_module": "@jupyter-widgets/controls",
            "_model_module_version": "1.5.0",
            "_model_name": "DescriptionStyleModel",
            "_view_count": null,
            "_view_module": "@jupyter-widgets/base",
            "_view_module_version": "1.2.0",
            "_view_name": "StyleView",
            "description_width": ""
          }
        },
        "c008385b973e47c68afca39790014855": {
          "model_module": "@jupyter-widgets/controls",
          "model_module_version": "1.5.0",
          "model_name": "ProgressStyleModel",
          "state": {
            "_model_module": "@jupyter-widgets/controls",
            "_model_module_version": "1.5.0",
            "_model_name": "ProgressStyleModel",
            "_view_count": null,
            "_view_module": "@jupyter-widgets/base",
            "_view_module_version": "1.2.0",
            "_view_name": "StyleView",
            "bar_color": null,
            "description_width": ""
          }
        },
        "d4f60d23ee164376acd23d859397d2cb": {
          "model_module": "@jupyter-widgets/controls",
          "model_module_version": "1.5.0",
          "model_name": "FloatProgressModel",
          "state": {
            "_dom_classes": [],
            "_model_module": "@jupyter-widgets/controls",
            "_model_module_version": "1.5.0",
            "_model_name": "FloatProgressModel",
            "_view_count": null,
            "_view_module": "@jupyter-widgets/controls",
            "_view_module_version": "1.5.0",
            "_view_name": "ProgressView",
            "bar_style": "",
            "description": "",
            "description_tooltip": null,
            "layout": "IPY_MODEL_09cdc2a3b3f14031a69f8178984e014a",
            "max": 2,
            "min": 0,
            "orientation": "horizontal",
            "style": "IPY_MODEL_c008385b973e47c68afca39790014855",
            "value": 2
          }
        },
        "d6a37e5998e64087af402465bfe980c8": {
          "model_module": "@jupyter-widgets/base",
          "model_module_version": "1.2.0",
          "model_name": "LayoutModel",
          "state": {
            "_model_module": "@jupyter-widgets/base",
            "_model_module_version": "1.2.0",
            "_model_name": "LayoutModel",
            "_view_count": null,
            "_view_module": "@jupyter-widgets/base",
            "_view_module_version": "1.2.0",
            "_view_name": "LayoutView",
            "align_content": null,
            "align_items": null,
            "align_self": null,
            "border": null,
            "bottom": null,
            "display": null,
            "flex": null,
            "flex_flow": null,
            "grid_area": null,
            "grid_auto_columns": null,
            "grid_auto_flow": null,
            "grid_auto_rows": null,
            "grid_column": null,
            "grid_gap": null,
            "grid_row": null,
            "grid_template_areas": null,
            "grid_template_columns": null,
            "grid_template_rows": null,
            "height": null,
            "justify_content": null,
            "justify_items": null,
            "left": null,
            "margin": null,
            "max_height": null,
            "max_width": null,
            "min_height": null,
            "min_width": null,
            "object_fit": null,
            "object_position": null,
            "order": null,
            "overflow": null,
            "overflow_x": null,
            "overflow_y": null,
            "padding": null,
            "right": null,
            "top": null,
            "visibility": null,
            "width": null
          }
        },
        "dbaa6fdb189049be99315b99fbf5e5db": {
          "model_module": "@jupyter-widgets/base",
          "model_module_version": "1.2.0",
          "model_name": "LayoutModel",
          "state": {
            "_model_module": "@jupyter-widgets/base",
            "_model_module_version": "1.2.0",
            "_model_name": "LayoutModel",
            "_view_count": null,
            "_view_module": "@jupyter-widgets/base",
            "_view_module_version": "1.2.0",
            "_view_name": "LayoutView",
            "align_content": null,
            "align_items": null,
            "align_self": null,
            "border": null,
            "bottom": null,
            "display": "inline-flex",
            "flex": null,
            "flex_flow": "row wrap",
            "grid_area": null,
            "grid_auto_columns": null,
            "grid_auto_flow": null,
            "grid_auto_rows": null,
            "grid_column": null,
            "grid_gap": null,
            "grid_row": null,
            "grid_template_areas": null,
            "grid_template_columns": null,
            "grid_template_rows": null,
            "height": null,
            "justify_content": null,
            "justify_items": null,
            "left": null,
            "margin": null,
            "max_height": null,
            "max_width": null,
            "min_height": null,
            "min_width": null,
            "object_fit": null,
            "object_position": null,
            "order": null,
            "overflow": null,
            "overflow_x": null,
            "overflow_y": null,
            "padding": null,
            "right": null,
            "top": null,
            "visibility": null,
            "width": "100%"
          }
        },
        "df5ef076e4ef41e7b36269b5bfddabe8": {
          "model_module": "@jupyter-widgets/base",
          "model_module_version": "1.2.0",
          "model_name": "LayoutModel",
          "state": {
            "_model_module": "@jupyter-widgets/base",
            "_model_module_version": "1.2.0",
            "_model_name": "LayoutModel",
            "_view_count": null,
            "_view_module": "@jupyter-widgets/base",
            "_view_module_version": "1.2.0",
            "_view_name": "LayoutView",
            "align_content": null,
            "align_items": null,
            "align_self": null,
            "border": null,
            "bottom": null,
            "display": null,
            "flex": null,
            "flex_flow": null,
            "grid_area": null,
            "grid_auto_columns": null,
            "grid_auto_flow": null,
            "grid_auto_rows": null,
            "grid_column": null,
            "grid_gap": null,
            "grid_row": null,
            "grid_template_areas": null,
            "grid_template_columns": null,
            "grid_template_rows": null,
            "height": null,
            "justify_content": null,
            "justify_items": null,
            "left": null,
            "margin": null,
            "max_height": null,
            "max_width": null,
            "min_height": null,
            "min_width": null,
            "object_fit": null,
            "object_position": null,
            "order": null,
            "overflow": null,
            "overflow_x": null,
            "overflow_y": null,
            "padding": null,
            "right": null,
            "top": null,
            "visibility": null,
            "width": null
          }
        },
        "e394300ed85c424f8b9fdaead673864b": {
          "model_module": "@jupyter-widgets/base",
          "model_module_version": "1.2.0",
          "model_name": "LayoutModel",
          "state": {
            "_model_module": "@jupyter-widgets/base",
            "_model_module_version": "1.2.0",
            "_model_name": "LayoutModel",
            "_view_count": null,
            "_view_module": "@jupyter-widgets/base",
            "_view_module_version": "1.2.0",
            "_view_name": "LayoutView",
            "align_content": null,
            "align_items": null,
            "align_self": null,
            "border": null,
            "bottom": null,
            "display": null,
            "flex": "2",
            "flex_flow": null,
            "grid_area": null,
            "grid_auto_columns": null,
            "grid_auto_flow": null,
            "grid_auto_rows": null,
            "grid_column": null,
            "grid_gap": null,
            "grid_row": null,
            "grid_template_areas": null,
            "grid_template_columns": null,
            "grid_template_rows": null,
            "height": null,
            "justify_content": null,
            "justify_items": null,
            "left": null,
            "margin": null,
            "max_height": null,
            "max_width": null,
            "min_height": null,
            "min_width": null,
            "object_fit": null,
            "object_position": null,
            "order": null,
            "overflow": null,
            "overflow_x": null,
            "overflow_y": null,
            "padding": null,
            "right": null,
            "top": null,
            "visibility": null,
            "width": null
          }
        },
        "ed9fbe4c2792405ba35b47a8439238ca": {
          "model_module": "@jupyter-widgets/controls",
          "model_module_version": "1.5.0",
          "model_name": "DescriptionStyleModel",
          "state": {
            "_model_module": "@jupyter-widgets/controls",
            "_model_module_version": "1.5.0",
            "_model_name": "DescriptionStyleModel",
            "_view_count": null,
            "_view_module": "@jupyter-widgets/base",
            "_view_module_version": "1.2.0",
            "_view_name": "StyleView",
            "description_width": ""
          }
        },
        "f44321fddd564e4dbdd99834d6e8a20e": {
          "model_module": "@jupyter-widgets/controls",
          "model_module_version": "1.5.0",
          "model_name": "FloatProgressModel",
          "state": {
            "_dom_classes": [],
            "_model_module": "@jupyter-widgets/controls",
            "_model_module_version": "1.5.0",
            "_model_name": "FloatProgressModel",
            "_view_count": null,
            "_view_module": "@jupyter-widgets/controls",
            "_view_module_version": "1.5.0",
            "_view_name": "ProgressView",
            "bar_style": "",
            "description": "",
            "description_tooltip": null,
            "layout": "IPY_MODEL_e394300ed85c424f8b9fdaead673864b",
            "max": 396,
            "min": 0,
            "orientation": "horizontal",
            "style": "IPY_MODEL_708fafbc6d2d4207984a4ad75436d08c",
            "value": 183
          }
        },
        "fe8984ec41534210a2dd67d3834d965b": {
          "model_module": "@jupyter-widgets/controls",
          "model_module_version": "1.5.0",
          "model_name": "HTMLModel",
          "state": {
            "_dom_classes": [],
            "_model_module": "@jupyter-widgets/controls",
            "_model_module_version": "1.5.0",
            "_model_name": "HTMLModel",
            "_view_count": null,
            "_view_module": "@jupyter-widgets/controls",
            "_view_module_version": "1.5.0",
            "_view_name": "HTMLView",
            "description": "",
            "description_tooltip": null,
            "layout": "IPY_MODEL_671da53b131c4478ba1fc6de31881ad7",
            "placeholder": "​",
            "style": "IPY_MODEL_8555dc8870524ccdb74679abc294ac9d",
            "value": "Epoch 0:  46%"
          }
        }
      }
    }
  },
  "nbformat": 4,
  "nbformat_minor": 0
}
